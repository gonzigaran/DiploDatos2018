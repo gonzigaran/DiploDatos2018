{
 "cells": [
  {
   "cell_type": "markdown",
   "metadata": {
    "colab_type": "text",
    "id": "J4WgO8evpzsX"
   },
   "source": [
    "# Laboratorio\n",
    "Limpiar un set de datos con pandas:\n",
    "  - Un set de datos que tengan permisos para compartir con nosotros\n",
    "    - Más de 100000 registros\n",
    "    - Más de 20 columnas\n",
    "    - Con datos con cadenas, números, fechas, y categorías\n",
    "  - Usar los permisos de edificación de San Francisco\n",
    "    \n",
    "    https://www.kaggle.com/aparnashastry/building-permit-applications-data/data\n",
    "\n",
    "El análisis tiene que ser reproducible en las máquinas de los profes"
   ]
  },
  {
   "cell_type": "code",
   "execution_count": 1,
   "metadata": {
    "colab": {
     "autoexec": {
      "startup": false,
      "wait_interval": 0
     }
    },
    "colab_type": "code",
    "id": "P9SC98hQpzPJ"
   },
   "outputs": [],
   "source": [
    "import pandas as pd\n",
    "import numpy as np\n",
    "np.random.seed(0)"
   ]
  },
  {
   "cell_type": "markdown",
   "metadata": {
    "colab_type": "text",
    "id": "7hglWlP8SVXU"
   },
   "source": [
    "## Importando los datos\n",
    "\n",
    "### 1.1. Verificar que no hay problemas en la importación"
   ]
  },
  {
   "cell_type": "code",
   "execution_count": 2,
   "metadata": {
    "colab": {
     "autoexec": {
      "startup": false,
      "wait_interval": 0
     },
     "base_uri": "https://localhost:8080/",
     "height": 72
    },
    "colab_type": "code",
    "executionInfo": {
     "elapsed": 2462,
     "status": "ok",
     "timestamp": 1527782273371,
     "user": {
      "displayName": "Gonzalo Zigaran",
      "photoUrl": "//lh4.googleusercontent.com/-BEu2HQbYbOY/AAAAAAAAAAI/AAAAAAAAAxo/mIlwA_iVLvY/s50-c-k-no/photo.jpg",
      "userId": "113725472126978143740"
     },
     "user_tz": 180
    },
    "id": "rvhbnyOOroKi",
    "outputId": "37b1bf4a-eaa1-4202-8b2b-e5d183976a35"
   },
   "outputs": [
    {
     "name": "stderr",
     "output_type": "stream",
     "text": [
      "/opt/conda/lib/python3.6/site-packages/IPython/core/interactiveshell.py:2785: DtypeWarning: Columns (22,32) have mixed types. Specify dtype option on import or set low_memory=False.\n",
      "  interactivity=interactivity, compiler=compiler, result=result)\n"
     ]
    }
   ],
   "source": [
    "data = pd.read_csv('data/Building_Permits.csv')\n"
   ]
  },
  {
   "cell_type": "markdown",
   "metadata": {
    "colab_type": "text",
    "id": "KsE5T-RCT5GD"
   },
   "source": [
    "Podemos observar que al importar los datos `pandas` nos tira un *warning* sobre el tipo de datos para unas columnas específicas. Entonces listamos esas 2 columnas para ver que datos tienen."
   ]
  },
  {
   "cell_type": "code",
   "execution_count": 3,
   "metadata": {
    "colab": {
     "autoexec": {
      "startup": false,
      "wait_interval": 0
     },
     "base_uri": "https://localhost:8080/",
     "height": 206
    },
    "colab_type": "code",
    "executionInfo": {
     "elapsed": 944,
     "status": "ok",
     "timestamp": 1527782274361,
     "user": {
      "displayName": "Gonzalo Zigaran",
      "photoUrl": "//lh4.googleusercontent.com/-BEu2HQbYbOY/AAAAAAAAAAI/AAAAAAAAAxo/mIlwA_iVLvY/s50-c-k-no/photo.jpg",
      "userId": "113725472126978143740"
     },
     "user_tz": 180
    },
    "id": "5Pr73Q8Tsx-z",
    "outputId": "5ca07e5c-ecb1-44d2-d2b1-df106d9c3029"
   },
   "outputs": [
    {
     "data": {
      "text/html": [
       "<div>\n",
       "<style scoped>\n",
       "    .dataframe tbody tr th:only-of-type {\n",
       "        vertical-align: middle;\n",
       "    }\n",
       "\n",
       "    .dataframe tbody tr th {\n",
       "        vertical-align: top;\n",
       "    }\n",
       "\n",
       "    .dataframe thead th {\n",
       "        text-align: right;\n",
       "    }\n",
       "</style>\n",
       "<table border=\"1\" class=\"dataframe\">\n",
       "  <thead>\n",
       "    <tr style=\"text-align: right;\">\n",
       "      <th></th>\n",
       "      <th>Voluntary Soft-Story Retrofit</th>\n",
       "      <th>TIDF Compliance</th>\n",
       "    </tr>\n",
       "  </thead>\n",
       "  <tbody>\n",
       "    <tr>\n",
       "      <th>40553</th>\n",
       "      <td>NaN</td>\n",
       "      <td>NaN</td>\n",
       "    </tr>\n",
       "    <tr>\n",
       "      <th>169731</th>\n",
       "      <td>NaN</td>\n",
       "      <td>NaN</td>\n",
       "    </tr>\n",
       "    <tr>\n",
       "      <th>19180</th>\n",
       "      <td>NaN</td>\n",
       "      <td>NaN</td>\n",
       "    </tr>\n",
       "    <tr>\n",
       "      <th>68047</th>\n",
       "      <td>NaN</td>\n",
       "      <td>NaN</td>\n",
       "    </tr>\n",
       "    <tr>\n",
       "      <th>64238</th>\n",
       "      <td>NaN</td>\n",
       "      <td>NaN</td>\n",
       "    </tr>\n",
       "  </tbody>\n",
       "</table>\n",
       "</div>"
      ],
      "text/plain": [
       "       Voluntary Soft-Story Retrofit TIDF Compliance\n",
       "40553                            NaN             NaN\n",
       "169731                           NaN             NaN\n",
       "19180                            NaN             NaN\n",
       "68047                            NaN             NaN\n",
       "64238                            NaN             NaN"
      ]
     },
     "execution_count": 3,
     "metadata": {},
     "output_type": "execute_result"
    }
   ],
   "source": [
    "data.iloc[:,[22, 32]].sample(5)"
   ]
  },
  {
   "cell_type": "markdown",
   "metadata": {
    "colab_type": "text",
    "id": "IMF8dLPRXdnc"
   },
   "source": [
    "A simple vista parecen ser columnas con muchos datos faltantes. Vamos a comprobar eso:"
   ]
  },
  {
   "cell_type": "code",
   "execution_count": 4,
   "metadata": {
    "colab": {
     "autoexec": {
      "startup": false,
      "wait_interval": 0
     },
     "base_uri": "https://localhost:8080/",
     "height": 104
    },
    "colab_type": "code",
    "executionInfo": {
     "elapsed": 1289,
     "status": "ok",
     "timestamp": 1527782275793,
     "user": {
      "displayName": "Gonzalo Zigaran",
      "photoUrl": "//lh4.googleusercontent.com/-BEu2HQbYbOY/AAAAAAAAAAI/AAAAAAAAAxo/mIlwA_iVLvY/s50-c-k-no/photo.jpg",
      "userId": "113725472126978143740"
     },
     "user_tz": 180
    },
    "id": "I-TvdcJTXlch",
    "outputId": "e021b7e0-7a1f-49e5-b1d0-cbb2afa0ae54"
   },
   "outputs": [
    {
     "name": "stdout",
     "output_type": "stream",
     "text": [
      "2 / 198900 \n",
      "0.001 % \n"
     ]
    },
    {
     "data": {
      "text/plain": [
       "37633     Y\n",
       "101903    P\n",
       "Name: TIDF Compliance, dtype: object"
      ]
     },
     "execution_count": 4,
     "metadata": {},
     "output_type": "execute_result"
    }
   ],
   "source": [
    "print('{} / {} '.format(data['TIDF Compliance'].notna().sum(), len(data['TIDF Compliance'])))\n",
    "print('{:.3f} % '.format(data['TIDF Compliance'].notna().sum() * 100 / len(data['TIDF Compliance'])))\n",
    "data[data['TIDF Compliance'].notna()]['TIDF Compliance']"
   ]
  },
  {
   "cell_type": "code",
   "execution_count": 5,
   "metadata": {
    "colab": {
     "autoexec": {
      "startup": false,
      "wait_interval": 0
     },
     "base_uri": "https://localhost:8080/",
     "height": 677
    },
    "colab_type": "code",
    "executionInfo": {
     "elapsed": 818,
     "status": "ok",
     "timestamp": 1527782276845,
     "user": {
      "displayName": "Gonzalo Zigaran",
      "photoUrl": "//lh4.googleusercontent.com/-BEu2HQbYbOY/AAAAAAAAAAI/AAAAAAAAAxo/mIlwA_iVLvY/s50-c-k-no/photo.jpg",
      "userId": "113725472126978143740"
     },
     "user_tz": 180
    },
    "id": "5CLJ6ZuSfsh7",
    "outputId": "812b986b-5444-46be-897d-92132047602f"
   },
   "outputs": [
    {
     "name": "stdout",
     "output_type": "stream",
     "text": [
      "35 / 198900 \n",
      "0.018 % \n"
     ]
    },
    {
     "data": {
      "text/plain": [
       "5563      Y\n",
       "5781      Y\n",
       "5782      Y\n",
       "5866      Y\n",
       "8941      Y\n",
       "8942      Y\n",
       "9884      Y\n",
       "11227     Y\n",
       "11514     Y\n",
       "13727     Y\n",
       "13834     Y\n",
       "15540     Y\n",
       "15952     Y\n",
       "16136     Y\n",
       "16143     Y\n",
       "30866     Y\n",
       "30867     Y\n",
       "98781     Y\n",
       "123895    Y\n",
       "125951    Y\n",
       "127221    Y\n",
       "127222    Y\n",
       "127223    Y\n",
       "127224    Y\n",
       "127353    Y\n",
       "129587    Y\n",
       "129589    Y\n",
       "129590    Y\n",
       "134215    Y\n",
       "134216    Y\n",
       "153869    Y\n",
       "173620    Y\n",
       "177017    Y\n",
       "190168    Y\n",
       "190169    Y\n",
       "Name: Voluntary Soft-Story Retrofit, dtype: object"
      ]
     },
     "execution_count": 5,
     "metadata": {},
     "output_type": "execute_result"
    }
   ],
   "source": [
    "print('{} / {} '.format(data['Voluntary Soft-Story Retrofit'].notna().sum(), len(data['Voluntary Soft-Story Retrofit'])))\n",
    "print('{:.3f} % '.format(data['Voluntary Soft-Story Retrofit'].notna().sum() * 100 / len(data['Voluntary Soft-Story Retrofit'])))\n",
    "data[data['Voluntary Soft-Story Retrofit'].notna()]['Voluntary Soft-Story Retrofit']"
   ]
  },
  {
   "cell_type": "markdown",
   "metadata": {
    "colab_type": "text",
    "id": "_-V8hWDfiyzP"
   },
   "source": [
    "Podemos ver que estas columnas tienen muchos datos faltantes,  en ambos casos menos del 0.02 % de datos cargados tienen esas columnas, por lo que se pueden excluir esas columnas del dataset."
   ]
  },
  {
   "cell_type": "code",
   "execution_count": 6,
   "metadata": {
    "colab": {
     "autoexec": {
      "startup": false,
      "wait_interval": 0
     }
    },
    "colab_type": "code",
    "id": "nP-FYg2U7yJS"
   },
   "outputs": [],
   "source": [
    "data.drop(['TIDF Compliance', 'Voluntary Soft-Story Retrofit'], axis=1, inplace=True)"
   ]
  },
  {
   "cell_type": "markdown",
   "metadata": {
    "colab_type": "text",
    "id": "GOwyC5PQl-nh"
   },
   "source": [
    "Con este filtro, una muestra al azar de los datos sería de la siguiente manera:"
   ]
  },
  {
   "cell_type": "code",
   "execution_count": 7,
   "metadata": {
    "colab": {
     "autoexec": {
      "startup": false,
      "wait_interval": 0
     },
     "base_uri": "https://localhost:8080/",
     "height": 481
    },
    "colab_type": "code",
    "executionInfo": {
     "elapsed": 949,
     "status": "ok",
     "timestamp": 1527782279295,
     "user": {
      "displayName": "Gonzalo Zigaran",
      "photoUrl": "//lh4.googleusercontent.com/-BEu2HQbYbOY/AAAAAAAAAAI/AAAAAAAAAxo/mIlwA_iVLvY/s50-c-k-no/photo.jpg",
      "userId": "113725472126978143740"
     },
     "user_tz": 180
    },
    "id": "AvrPwq_1mM1_",
    "outputId": "c40e9ecd-06c7-4e5e-f6c5-4e68be277e76"
   },
   "outputs": [
    {
     "data": {
      "text/html": [
       "<div>\n",
       "<style scoped>\n",
       "    .dataframe tbody tr th:only-of-type {\n",
       "        vertical-align: middle;\n",
       "    }\n",
       "\n",
       "    .dataframe tbody tr th {\n",
       "        vertical-align: top;\n",
       "    }\n",
       "\n",
       "    .dataframe thead th {\n",
       "        text-align: right;\n",
       "    }\n",
       "</style>\n",
       "<table border=\"1\" class=\"dataframe\">\n",
       "  <thead>\n",
       "    <tr style=\"text-align: right;\">\n",
       "      <th></th>\n",
       "      <th>Permit Number</th>\n",
       "      <th>Permit Type</th>\n",
       "      <th>Permit Type Definition</th>\n",
       "      <th>Permit Creation Date</th>\n",
       "      <th>Block</th>\n",
       "      <th>Lot</th>\n",
       "      <th>Street Number</th>\n",
       "      <th>Street Number Suffix</th>\n",
       "      <th>Street Name</th>\n",
       "      <th>Street Suffix</th>\n",
       "      <th>...</th>\n",
       "      <th>Existing Construction Type</th>\n",
       "      <th>Existing Construction Type Description</th>\n",
       "      <th>Proposed Construction Type</th>\n",
       "      <th>Proposed Construction Type Description</th>\n",
       "      <th>Site Permit</th>\n",
       "      <th>Supervisor District</th>\n",
       "      <th>Neighborhoods - Analysis Boundaries</th>\n",
       "      <th>Zipcode</th>\n",
       "      <th>Location</th>\n",
       "      <th>Record ID</th>\n",
       "    </tr>\n",
       "  </thead>\n",
       "  <tbody>\n",
       "    <tr>\n",
       "      <th>60635</th>\n",
       "      <td>201409105988</td>\n",
       "      <td>3</td>\n",
       "      <td>additions alterations or repairs</td>\n",
       "      <td>09/10/2014</td>\n",
       "      <td>0479</td>\n",
       "      <td>027</td>\n",
       "      <td>1356</td>\n",
       "      <td>NaN</td>\n",
       "      <td>Chestnut</td>\n",
       "      <td>St</td>\n",
       "      <td>...</td>\n",
       "      <td>5.0</td>\n",
       "      <td>wood frame (5)</td>\n",
       "      <td>5.0</td>\n",
       "      <td>wood frame (5)</td>\n",
       "      <td>Y</td>\n",
       "      <td>2.0</td>\n",
       "      <td>Marina</td>\n",
       "      <td>94123.0</td>\n",
       "      <td>(37.802444119694016, -122.42570568145257)</td>\n",
       "      <td>1355098392583</td>\n",
       "    </tr>\n",
       "    <tr>\n",
       "      <th>110430</th>\n",
       "      <td>201601046309</td>\n",
       "      <td>8</td>\n",
       "      <td>otc alterations permit</td>\n",
       "      <td>01/04/2016</td>\n",
       "      <td>1276</td>\n",
       "      <td>001H</td>\n",
       "      <td>202</td>\n",
       "      <td>NaN</td>\n",
       "      <td>Grattan</td>\n",
       "      <td>St</td>\n",
       "      <td>...</td>\n",
       "      <td>5.0</td>\n",
       "      <td>wood frame (5)</td>\n",
       "      <td>5.0</td>\n",
       "      <td>wood frame (5)</td>\n",
       "      <td>NaN</td>\n",
       "      <td>5.0</td>\n",
       "      <td>Haight Ashbury</td>\n",
       "      <td>94117.0</td>\n",
       "      <td>(37.7639230255061, -122.45133897567636)</td>\n",
       "      <td>1408159479509</td>\n",
       "    </tr>\n",
       "    <tr>\n",
       "      <th>165042</th>\n",
       "      <td>201707212672</td>\n",
       "      <td>3</td>\n",
       "      <td>additions alterations or repairs</td>\n",
       "      <td>07/21/2017</td>\n",
       "      <td>3622</td>\n",
       "      <td>004</td>\n",
       "      <td>818</td>\n",
       "      <td>NaN</td>\n",
       "      <td>Noe</td>\n",
       "      <td>St</td>\n",
       "      <td>...</td>\n",
       "      <td>5.0</td>\n",
       "      <td>wood frame (5)</td>\n",
       "      <td>5.0</td>\n",
       "      <td>wood frame (5)</td>\n",
       "      <td>Y</td>\n",
       "      <td>8.0</td>\n",
       "      <td>Noe Valley</td>\n",
       "      <td>94114.0</td>\n",
       "      <td>(37.755878042652135, -122.43257973156736)</td>\n",
       "      <td>1471545162735</td>\n",
       "    </tr>\n",
       "    <tr>\n",
       "      <th>79200</th>\n",
       "      <td>201503171100</td>\n",
       "      <td>8</td>\n",
       "      <td>otc alterations permit</td>\n",
       "      <td>03/17/2015</td>\n",
       "      <td>1509</td>\n",
       "      <td>009</td>\n",
       "      <td>547</td>\n",
       "      <td>NaN</td>\n",
       "      <td>35th</td>\n",
       "      <td>Av</td>\n",
       "      <td>...</td>\n",
       "      <td>5.0</td>\n",
       "      <td>wood frame (5)</td>\n",
       "      <td>5.0</td>\n",
       "      <td>wood frame (5)</td>\n",
       "      <td>NaN</td>\n",
       "      <td>1.0</td>\n",
       "      <td>Outer Richmond</td>\n",
       "      <td>94121.0</td>\n",
       "      <td>(37.778632168486645, -122.49570921682907)</td>\n",
       "      <td>1374631102139</td>\n",
       "    </tr>\n",
       "    <tr>\n",
       "      <th>76487</th>\n",
       "      <td>201502208860</td>\n",
       "      <td>8</td>\n",
       "      <td>otc alterations permit</td>\n",
       "      <td>02/20/2015</td>\n",
       "      <td>1923</td>\n",
       "      <td>023</td>\n",
       "      <td>1662</td>\n",
       "      <td>NaN</td>\n",
       "      <td>21st</td>\n",
       "      <td>Av</td>\n",
       "      <td>...</td>\n",
       "      <td>5.0</td>\n",
       "      <td>wood frame (5)</td>\n",
       "      <td>5.0</td>\n",
       "      <td>wood frame (5)</td>\n",
       "      <td>NaN</td>\n",
       "      <td>4.0</td>\n",
       "      <td>Sunset/Parkside</td>\n",
       "      <td>94122.0</td>\n",
       "      <td>(37.756722563984916, -122.47846371493331)</td>\n",
       "      <td>1371767120653</td>\n",
       "    </tr>\n",
       "  </tbody>\n",
       "</table>\n",
       "<p>5 rows × 41 columns</p>\n",
       "</div>"
      ],
      "text/plain": [
       "       Permit Number  Permit Type            Permit Type Definition  \\\n",
       "60635   201409105988            3  additions alterations or repairs   \n",
       "110430  201601046309            8            otc alterations permit   \n",
       "165042  201707212672            3  additions alterations or repairs   \n",
       "79200   201503171100            8            otc alterations permit   \n",
       "76487   201502208860            8            otc alterations permit   \n",
       "\n",
       "       Permit Creation Date Block   Lot  Street Number Street Number Suffix  \\\n",
       "60635            09/10/2014  0479   027           1356                  NaN   \n",
       "110430           01/04/2016  1276  001H            202                  NaN   \n",
       "165042           07/21/2017  3622   004            818                  NaN   \n",
       "79200            03/17/2015  1509   009            547                  NaN   \n",
       "76487            02/20/2015  1923   023           1662                  NaN   \n",
       "\n",
       "       Street Name Street Suffix      ...        Existing Construction Type  \\\n",
       "60635     Chestnut            St      ...                               5.0   \n",
       "110430     Grattan            St      ...                               5.0   \n",
       "165042         Noe            St      ...                               5.0   \n",
       "79200         35th            Av      ...                               5.0   \n",
       "76487         21st            Av      ...                               5.0   \n",
       "\n",
       "       Existing Construction Type Description Proposed Construction Type  \\\n",
       "60635                          wood frame (5)                        5.0   \n",
       "110430                         wood frame (5)                        5.0   \n",
       "165042                         wood frame (5)                        5.0   \n",
       "79200                          wood frame (5)                        5.0   \n",
       "76487                          wood frame (5)                        5.0   \n",
       "\n",
       "       Proposed Construction Type Description Site Permit Supervisor District  \\\n",
       "60635                          wood frame (5)           Y                 2.0   \n",
       "110430                         wood frame (5)         NaN                 5.0   \n",
       "165042                         wood frame (5)           Y                 8.0   \n",
       "79200                          wood frame (5)         NaN                 1.0   \n",
       "76487                          wood frame (5)         NaN                 4.0   \n",
       "\n",
       "       Neighborhoods - Analysis Boundaries  Zipcode  \\\n",
       "60635                               Marina  94123.0   \n",
       "110430                      Haight Ashbury  94117.0   \n",
       "165042                          Noe Valley  94114.0   \n",
       "79200                       Outer Richmond  94121.0   \n",
       "76487                      Sunset/Parkside  94122.0   \n",
       "\n",
       "                                         Location      Record ID  \n",
       "60635   (37.802444119694016, -122.42570568145257)  1355098392583  \n",
       "110430    (37.7639230255061, -122.45133897567636)  1408159479509  \n",
       "165042  (37.755878042652135, -122.43257973156736)  1471545162735  \n",
       "79200   (37.778632168486645, -122.49570921682907)  1374631102139  \n",
       "76487   (37.756722563984916, -122.47846371493331)  1371767120653  \n",
       "\n",
       "[5 rows x 41 columns]"
      ]
     },
     "execution_count": 7,
     "metadata": {},
     "output_type": "execute_result"
    }
   ],
   "source": [
    "data.sample(5)"
   ]
  },
  {
   "cell_type": "markdown",
   "metadata": {
    "colab_type": "text",
    "id": "PH2BzEVFn3cP"
   },
   "source": [
    "Ahora vamos a ver si la descripción que tenemos del dataset se corresponde con cómo levanta los datos pandas. Primero cargamos el archivo con las descripciones del dataset:"
   ]
  },
  {
   "cell_type": "code",
   "execution_count": 10,
   "metadata": {
    "colab": {
     "autoexec": {
      "startup": false,
      "wait_interval": 0
     },
     "base_uri": "https://localhost:8080/",
     "height": 34
    },
    "colab_type": "code",
    "executionInfo": {
     "elapsed": 3345,
     "status": "ok",
     "timestamp": 1527782282919,
     "user": {
      "displayName": "Gonzalo Zigaran",
      "photoUrl": "//lh4.googleusercontent.com/-BEu2HQbYbOY/AAAAAAAAAAI/AAAAAAAAAxo/mIlwA_iVLvY/s50-c-k-no/photo.jpg",
      "userId": "113725472126978143740"
     },
     "user_tz": 180
    },
    "id": "Pn6WUQjYoChh",
    "outputId": "f1a719f0-9448-4557-cf28-543fba01ceda"
   },
   "outputs": [],
   "source": [
    "desc = pd.read_excel('data/DataDictionaryBuildingPermit.xlsx')"
   ]
  },
  {
   "cell_type": "code",
   "execution_count": 11,
   "metadata": {
    "colab": {
     "autoexec": {
      "startup": false,
      "wait_interval": 0
     },
     "base_uri": "https://localhost:8080/",
     "height": 1398
    },
    "colab_type": "code",
    "executionInfo": {
     "elapsed": 1064,
     "status": "ok",
     "timestamp": 1527782284019,
     "user": {
      "displayName": "Gonzalo Zigaran",
      "photoUrl": "//lh4.googleusercontent.com/-BEu2HQbYbOY/AAAAAAAAAAI/AAAAAAAAAxo/mIlwA_iVLvY/s50-c-k-no/photo.jpg",
      "userId": "113725472126978143740"
     },
     "user_tz": 180
    },
    "id": "YhP3xj6gopI4",
    "outputId": "a3a0eed2-455a-4cd9-91b7-45f0798db557"
   },
   "outputs": [
    {
     "data": {
      "text/html": [
       "<div>\n",
       "<style scoped>\n",
       "    .dataframe tbody tr th:only-of-type {\n",
       "        vertical-align: middle;\n",
       "    }\n",
       "\n",
       "    .dataframe tbody tr th {\n",
       "        vertical-align: top;\n",
       "    }\n",
       "\n",
       "    .dataframe thead th {\n",
       "        text-align: right;\n",
       "    }\n",
       "</style>\n",
       "<table border=\"1\" class=\"dataframe\">\n",
       "  <thead>\n",
       "    <tr style=\"text-align: right;\">\n",
       "      <th></th>\n",
       "      <th>Sl No</th>\n",
       "      <th>Column name</th>\n",
       "      <th>Description</th>\n",
       "      <th>Type</th>\n",
       "    </tr>\n",
       "  </thead>\n",
       "  <tbody>\n",
       "    <tr>\n",
       "      <th>0</th>\n",
       "      <td>1</td>\n",
       "      <td>Permit Number</td>\n",
       "      <td>Number assigned while filing</td>\n",
       "      <td>String</td>\n",
       "    </tr>\n",
       "    <tr>\n",
       "      <th>1</th>\n",
       "      <td>2</td>\n",
       "      <td>Permit Type</td>\n",
       "      <td>Type of the permit represented numerically.</td>\n",
       "      <td>Numeric</td>\n",
       "    </tr>\n",
       "    <tr>\n",
       "      <th>2</th>\n",
       "      <td>3</td>\n",
       "      <td>Permit Type Definition</td>\n",
       "      <td>Description of the Permit type, for example\\n ...</td>\n",
       "      <td>String</td>\n",
       "    </tr>\n",
       "    <tr>\n",
       "      <th>3</th>\n",
       "      <td>4</td>\n",
       "      <td>Permit Creation Date</td>\n",
       "      <td>Date on which permit created, later than \\nor ...</td>\n",
       "      <td>DateTime</td>\n",
       "    </tr>\n",
       "    <tr>\n",
       "      <th>4</th>\n",
       "      <td>5</td>\n",
       "      <td>Block</td>\n",
       "      <td>Related to address</td>\n",
       "      <td>String</td>\n",
       "    </tr>\n",
       "    <tr>\n",
       "      <th>5</th>\n",
       "      <td>6</td>\n",
       "      <td>Lot</td>\n",
       "      <td>Related to address</td>\n",
       "      <td>String</td>\n",
       "    </tr>\n",
       "    <tr>\n",
       "      <th>6</th>\n",
       "      <td>7</td>\n",
       "      <td>Street Number</td>\n",
       "      <td>Related to address</td>\n",
       "      <td>Numeric</td>\n",
       "    </tr>\n",
       "    <tr>\n",
       "      <th>7</th>\n",
       "      <td>8</td>\n",
       "      <td>Street Number Suffix</td>\n",
       "      <td>Related to address</td>\n",
       "      <td>String</td>\n",
       "    </tr>\n",
       "    <tr>\n",
       "      <th>8</th>\n",
       "      <td>9</td>\n",
       "      <td>Street Name</td>\n",
       "      <td>Related to address</td>\n",
       "      <td>String</td>\n",
       "    </tr>\n",
       "    <tr>\n",
       "      <th>9</th>\n",
       "      <td>10</td>\n",
       "      <td>Street Name Suffix</td>\n",
       "      <td>Related to address</td>\n",
       "      <td>String</td>\n",
       "    </tr>\n",
       "    <tr>\n",
       "      <th>10</th>\n",
       "      <td>11</td>\n",
       "      <td>Unit</td>\n",
       "      <td>Unit of a building</td>\n",
       "      <td>String</td>\n",
       "    </tr>\n",
       "    <tr>\n",
       "      <th>11</th>\n",
       "      <td>12</td>\n",
       "      <td>Unit suffix</td>\n",
       "      <td>Suffix if any, for the unit</td>\n",
       "      <td>String</td>\n",
       "    </tr>\n",
       "    <tr>\n",
       "      <th>12</th>\n",
       "      <td>13</td>\n",
       "      <td>Description</td>\n",
       "      <td>Details about purpose of the permit.\\n Example...</td>\n",
       "      <td>String</td>\n",
       "    </tr>\n",
       "    <tr>\n",
       "      <th>13</th>\n",
       "      <td>14</td>\n",
       "      <td>Current Status</td>\n",
       "      <td>Current status of the permit application.</td>\n",
       "      <td>String</td>\n",
       "    </tr>\n",
       "    <tr>\n",
       "      <th>14</th>\n",
       "      <td>15</td>\n",
       "      <td>Current Status Date</td>\n",
       "      <td>Date at which current status was entered</td>\n",
       "      <td>DateTime</td>\n",
       "    </tr>\n",
       "    <tr>\n",
       "      <th>15</th>\n",
       "      <td>16</td>\n",
       "      <td>Filed Date</td>\n",
       "      <td>Filed date for the permit</td>\n",
       "      <td>DateTime</td>\n",
       "    </tr>\n",
       "    <tr>\n",
       "      <th>16</th>\n",
       "      <td>17</td>\n",
       "      <td>Issued Date</td>\n",
       "      <td>Issued date for the permit</td>\n",
       "      <td>DateTime</td>\n",
       "    </tr>\n",
       "    <tr>\n",
       "      <th>17</th>\n",
       "      <td>18</td>\n",
       "      <td>Completed Date</td>\n",
       "      <td>The date on which project was completed, \\napp...</td>\n",
       "      <td>String</td>\n",
       "    </tr>\n",
       "    <tr>\n",
       "      <th>18</th>\n",
       "      <td>19</td>\n",
       "      <td>First Construction Document Date</td>\n",
       "      <td>Date on which construction was documented</td>\n",
       "      <td>String</td>\n",
       "    </tr>\n",
       "    <tr>\n",
       "      <th>19</th>\n",
       "      <td>20</td>\n",
       "      <td>Structural Notification</td>\n",
       "      <td>Notification to meet some legal need, given or...</td>\n",
       "      <td>String</td>\n",
       "    </tr>\n",
       "    <tr>\n",
       "      <th>20</th>\n",
       "      <td>21</td>\n",
       "      <td>Number of Existing Stories</td>\n",
       "      <td>Number of existing stories in the building. \\n...</td>\n",
       "      <td>String</td>\n",
       "    </tr>\n",
       "    <tr>\n",
       "      <th>21</th>\n",
       "      <td>22</td>\n",
       "      <td>Number of Proposed Stories</td>\n",
       "      <td>Number of proposed stories for the constructio...</td>\n",
       "      <td>String</td>\n",
       "    </tr>\n",
       "    <tr>\n",
       "      <th>22</th>\n",
       "      <td>23</td>\n",
       "      <td>Voluntary Soft-Story \\nRetrofit</td>\n",
       "      <td>Soft story to meet earth quake regulations</td>\n",
       "      <td>String</td>\n",
       "    </tr>\n",
       "    <tr>\n",
       "      <th>23</th>\n",
       "      <td>24</td>\n",
       "      <td>Fire Only Permit</td>\n",
       "      <td>Fire hazard prevention related permit</td>\n",
       "      <td>String</td>\n",
       "    </tr>\n",
       "    <tr>\n",
       "      <th>24</th>\n",
       "      <td>25</td>\n",
       "      <td>Permit Expiration Date</td>\n",
       "      <td>Expiration date related to issued permit.</td>\n",
       "      <td>String</td>\n",
       "    </tr>\n",
       "    <tr>\n",
       "      <th>25</th>\n",
       "      <td>26</td>\n",
       "      <td>Estimated Cost</td>\n",
       "      <td>Initial estimation of the cost of the project</td>\n",
       "      <td>String</td>\n",
       "    </tr>\n",
       "    <tr>\n",
       "      <th>26</th>\n",
       "      <td>27</td>\n",
       "      <td>Revised Cost</td>\n",
       "      <td>Revised estimation of the cost of the project</td>\n",
       "      <td>String</td>\n",
       "    </tr>\n",
       "    <tr>\n",
       "      <th>27</th>\n",
       "      <td>28</td>\n",
       "      <td>Existing Use</td>\n",
       "      <td>Existing use of the building</td>\n",
       "      <td>String</td>\n",
       "    </tr>\n",
       "    <tr>\n",
       "      <th>28</th>\n",
       "      <td>29</td>\n",
       "      <td>Existing Units</td>\n",
       "      <td>Existing number of units</td>\n",
       "      <td>String</td>\n",
       "    </tr>\n",
       "    <tr>\n",
       "      <th>29</th>\n",
       "      <td>30</td>\n",
       "      <td>Proposed Use</td>\n",
       "      <td>Proposed use of the building</td>\n",
       "      <td>String</td>\n",
       "    </tr>\n",
       "    <tr>\n",
       "      <th>30</th>\n",
       "      <td>31</td>\n",
       "      <td>Proposed Units</td>\n",
       "      <td>Proposed number of units</td>\n",
       "      <td>String</td>\n",
       "    </tr>\n",
       "    <tr>\n",
       "      <th>31</th>\n",
       "      <td>32</td>\n",
       "      <td>Plansets</td>\n",
       "      <td>Plan representation indicating the general des...</td>\n",
       "      <td>String</td>\n",
       "    </tr>\n",
       "    <tr>\n",
       "      <th>32</th>\n",
       "      <td>33</td>\n",
       "      <td>TIDF Compliance</td>\n",
       "      <td>TIDF compliant or not, this is a new legal req...</td>\n",
       "      <td>String</td>\n",
       "    </tr>\n",
       "    <tr>\n",
       "      <th>33</th>\n",
       "      <td>34</td>\n",
       "      <td>Existing Construction Type</td>\n",
       "      <td>Construction type, existing,as categories \\nre...</td>\n",
       "      <td>String</td>\n",
       "    </tr>\n",
       "    <tr>\n",
       "      <th>34</th>\n",
       "      <td>35</td>\n",
       "      <td>Existing Construction Type Description</td>\n",
       "      <td>Description of the above, for example, \\nwood ...</td>\n",
       "      <td>String</td>\n",
       "    </tr>\n",
       "    <tr>\n",
       "      <th>35</th>\n",
       "      <td>36</td>\n",
       "      <td>Proposed Construction Type</td>\n",
       "      <td>Construction type, proposed, as categories\\n r...</td>\n",
       "      <td>String</td>\n",
       "    </tr>\n",
       "    <tr>\n",
       "      <th>36</th>\n",
       "      <td>37</td>\n",
       "      <td>Proposed Construction Type Description</td>\n",
       "      <td>Description of the above</td>\n",
       "      <td>String</td>\n",
       "    </tr>\n",
       "    <tr>\n",
       "      <th>37</th>\n",
       "      <td>38</td>\n",
       "      <td>Site Permit</td>\n",
       "      <td>Permit for site</td>\n",
       "      <td>String</td>\n",
       "    </tr>\n",
       "    <tr>\n",
       "      <th>38</th>\n",
       "      <td>39</td>\n",
       "      <td>Supervisor District</td>\n",
       "      <td>Supervisor District to which the building loca...</td>\n",
       "      <td>Numeric</td>\n",
       "    </tr>\n",
       "    <tr>\n",
       "      <th>39</th>\n",
       "      <td>40</td>\n",
       "      <td>Neighborhoods - Analysis Boundaries</td>\n",
       "      <td>Neighborhood to which the building location be...</td>\n",
       "      <td>String</td>\n",
       "    </tr>\n",
       "    <tr>\n",
       "      <th>40</th>\n",
       "      <td>41</td>\n",
       "      <td>Zipcode</td>\n",
       "      <td>Zipcode of building address</td>\n",
       "      <td>Numeric</td>\n",
       "    </tr>\n",
       "    <tr>\n",
       "      <th>41</th>\n",
       "      <td>42</td>\n",
       "      <td>Location</td>\n",
       "      <td>Location in latitude, longitude pair.</td>\n",
       "      <td>String</td>\n",
       "    </tr>\n",
       "    <tr>\n",
       "      <th>42</th>\n",
       "      <td>43</td>\n",
       "      <td>Record ID</td>\n",
       "      <td>Some ID, not useful for this</td>\n",
       "      <td>Numeric</td>\n",
       "    </tr>\n",
       "  </tbody>\n",
       "</table>\n",
       "</div>"
      ],
      "text/plain": [
       "    Sl No                             Column name  \\\n",
       "0       1                           Permit Number   \n",
       "1       2                             Permit Type   \n",
       "2       3                  Permit Type Definition   \n",
       "3       4                    Permit Creation Date   \n",
       "4       5                                   Block   \n",
       "5       6                                     Lot   \n",
       "6       7                           Street Number   \n",
       "7       8                    Street Number Suffix   \n",
       "8       9                             Street Name   \n",
       "9      10                      Street Name Suffix   \n",
       "10     11                                    Unit   \n",
       "11     12                             Unit suffix   \n",
       "12     13                             Description   \n",
       "13     14                          Current Status   \n",
       "14     15                     Current Status Date   \n",
       "15     16                              Filed Date   \n",
       "16     17                             Issued Date   \n",
       "17     18                          Completed Date   \n",
       "18     19        First Construction Document Date   \n",
       "19     20                 Structural Notification   \n",
       "20     21              Number of Existing Stories   \n",
       "21     22              Number of Proposed Stories   \n",
       "22     23         Voluntary Soft-Story \\nRetrofit   \n",
       "23     24                        Fire Only Permit   \n",
       "24     25                  Permit Expiration Date   \n",
       "25     26                          Estimated Cost   \n",
       "26     27                            Revised Cost   \n",
       "27     28                            Existing Use   \n",
       "28     29                          Existing Units   \n",
       "29     30                            Proposed Use   \n",
       "30     31                          Proposed Units   \n",
       "31     32                                Plansets   \n",
       "32     33                         TIDF Compliance   \n",
       "33     34              Existing Construction Type   \n",
       "34     35  Existing Construction Type Description   \n",
       "35     36              Proposed Construction Type   \n",
       "36     37  Proposed Construction Type Description   \n",
       "37     38                             Site Permit   \n",
       "38     39                     Supervisor District   \n",
       "39     40     Neighborhoods - Analysis Boundaries   \n",
       "40     41                                 Zipcode   \n",
       "41     42                                Location   \n",
       "42     43                               Record ID   \n",
       "\n",
       "                                          Description      Type  \n",
       "0                        Number assigned while filing    String  \n",
       "1         Type of the permit represented numerically.   Numeric  \n",
       "2   Description of the Permit type, for example\\n ...    String  \n",
       "3   Date on which permit created, later than \\nor ...  DateTime  \n",
       "4                                  Related to address    String  \n",
       "5                                  Related to address    String  \n",
       "6                                  Related to address   Numeric  \n",
       "7                                  Related to address    String  \n",
       "8                                  Related to address    String  \n",
       "9                                  Related to address    String  \n",
       "10                                 Unit of a building    String  \n",
       "11                        Suffix if any, for the unit    String  \n",
       "12  Details about purpose of the permit.\\n Example...    String  \n",
       "13         Current status of the permit application.     String  \n",
       "14           Date at which current status was entered  DateTime  \n",
       "15                          Filed date for the permit  DateTime  \n",
       "16                         Issued date for the permit  DateTime  \n",
       "17  The date on which project was completed, \\napp...    String  \n",
       "18          Date on which construction was documented    String  \n",
       "19  Notification to meet some legal need, given or...    String  \n",
       "20  Number of existing stories in the building. \\n...    String  \n",
       "21  Number of proposed stories for the constructio...    String  \n",
       "22         Soft story to meet earth quake regulations    String  \n",
       "23              Fire hazard prevention related permit    String  \n",
       "24          Expiration date related to issued permit.    String  \n",
       "25      Initial estimation of the cost of the project    String  \n",
       "26      Revised estimation of the cost of the project    String  \n",
       "27                       Existing use of the building    String  \n",
       "28                           Existing number of units    String  \n",
       "29                       Proposed use of the building    String  \n",
       "30                           Proposed number of units    String  \n",
       "31  Plan representation indicating the general des...    String  \n",
       "32  TIDF compliant or not, this is a new legal req...    String  \n",
       "33  Construction type, existing,as categories \\nre...    String  \n",
       "34  Description of the above, for example, \\nwood ...    String  \n",
       "35  Construction type, proposed, as categories\\n r...    String  \n",
       "36                           Description of the above    String  \n",
       "37                                    Permit for site    String  \n",
       "38  Supervisor District to which the building loca...   Numeric  \n",
       "39  Neighborhood to which the building location be...    String  \n",
       "40                        Zipcode of building address   Numeric  \n",
       "41              Location in latitude, longitude pair.    String  \n",
       "42                       Some ID, not useful for this   Numeric  "
      ]
     },
     "execution_count": 11,
     "metadata": {},
     "output_type": "execute_result"
    }
   ],
   "source": [
    "desc"
   ]
  },
  {
   "cell_type": "code",
   "execution_count": 12,
   "metadata": {
    "colab": {
     "autoexec": {
      "startup": false,
      "wait_interval": 0
     },
     "base_uri": "https://localhost:8080/",
     "height": 729
    },
    "colab_type": "code",
    "executionInfo": {
     "elapsed": 1025,
     "status": "ok",
     "timestamp": 1527782285219,
     "user": {
      "displayName": "Gonzalo Zigaran",
      "photoUrl": "//lh4.googleusercontent.com/-BEu2HQbYbOY/AAAAAAAAAAI/AAAAAAAAAxo/mIlwA_iVLvY/s50-c-k-no/photo.jpg",
      "userId": "113725472126978143740"
     },
     "user_tz": 180
    },
    "id": "_j0-11T-qaaD",
    "outputId": "f623be26-eeaf-4ab0-cf94-02a916a73142"
   },
   "outputs": [
    {
     "name": "stdout",
     "output_type": "stream",
     "text": [
      "Permit Number  :  object ['String']\n",
      "Permit Type  :  int64 ['Numeric']\n",
      "Permit Type Definition  :  object ['String']\n",
      "Permit Creation Date  :  object ['DateTime']\n",
      "Block  :  object ['String']\n",
      "Lot  :  object ['String']\n",
      "Street Number  :  int64 ['Numeric']\n",
      "Street Number Suffix  :  object ['String']\n",
      "Street Name  :  object ['String']\n",
      "Street Suffix  :  object []\n",
      "Unit  :  float64 ['String']\n",
      "Unit Suffix  :  object []\n",
      "Description  :  object ['String']\n",
      "Current Status  :  object ['String']\n",
      "Current Status Date  :  object ['DateTime']\n",
      "Filed Date  :  object ['DateTime']\n",
      "Issued Date  :  object ['DateTime']\n",
      "Completed Date  :  object ['String']\n",
      "First Construction Document Date  :  object ['String']\n",
      "Structural Notification  :  object ['String']\n",
      "Number of Existing Stories  :  float64 ['String']\n",
      "Number of Proposed Stories  :  float64 ['String']\n",
      "Fire Only Permit  :  object ['String']\n",
      "Permit Expiration Date  :  object ['String']\n",
      "Estimated Cost  :  float64 ['String']\n",
      "Revised Cost  :  float64 ['String']\n",
      "Existing Use  :  object ['String']\n",
      "Existing Units  :  float64 ['String']\n",
      "Proposed Use  :  object ['String']\n",
      "Proposed Units  :  float64 ['String']\n",
      "Plansets  :  float64 ['String']\n",
      "Existing Construction Type  :  float64 ['String']\n",
      "Existing Construction Type Description  :  object ['String']\n",
      "Proposed Construction Type  :  float64 ['String']\n",
      "Proposed Construction Type Description  :  object ['String']\n",
      "Site Permit  :  object ['String']\n",
      "Supervisor District  :  float64 ['Numeric']\n",
      "Neighborhoods - Analysis Boundaries  :  object ['String']\n",
      "Zipcode  :  float64 ['Numeric']\n",
      "Location  :  object ['String']\n",
      "Record ID  :  int64 ['Numeric']\n"
     ]
    }
   ],
   "source": [
    "for col in data.columns:\n",
    "  print(col, ' : ' , data[col].dtype, desc.loc[desc['Column name'] == col]['Type'].values)"
   ]
  },
  {
   "cell_type": "markdown",
   "metadata": {
    "colab_type": "text",
    "id": "iIgp-tKlsmHc"
   },
   "source": [
    "Tomando como que a los datos de tipo *Strings*, pandas lo toma como *objects*, podemos notar las siguientes cosas:\n",
    "  \n",
    "  - Las columnas de tipo *DateTime*, pandas no las reconocío por lo que hay que cargar el dataset de nuevo con la opcion para que parsee las fechas.\n",
    "  - La columna `Street Suffix` estaba mal cargada en la descripción, ya que ahí estaba nombrada como `Street Name Suffix`\n",
    "  - Lo mismo para la columna `Unit Suffix` que estaba cargada como `Unit suffix`\n",
    "  - Hay varias columnas que estaban cargadas como *String*, pero que tenían valores numéricos. Pandas las recnonoció como numéricas.\n",
    "\n",
    "\n",
    "Con estas observaciones, volvemos a cargar el dataset con las columnas que sean de tipo `DateTime`"
   ]
  },
  {
   "cell_type": "code",
   "execution_count": 13,
   "metadata": {
    "colab": {
     "autoexec": {
      "startup": false,
      "wait_interval": 0
     },
     "base_uri": "https://localhost:8080/",
     "height": 34
    },
    "colab_type": "code",
    "executionInfo": {
     "elapsed": 779,
     "status": "ok",
     "timestamp": 1527782286336,
     "user": {
      "displayName": "Gonzalo Zigaran",
      "photoUrl": "//lh4.googleusercontent.com/-BEu2HQbYbOY/AAAAAAAAAAI/AAAAAAAAAxo/mIlwA_iVLvY/s50-c-k-no/photo.jpg",
      "userId": "113725472126978143740"
     },
     "user_tz": 180
    },
    "id": "pdNVTAPITCU7",
    "outputId": "525c194e-71e6-406d-993f-ab0ecd2bb054"
   },
   "outputs": [
    {
     "data": {
      "text/plain": [
       "['Permit Creation Date', 'Current Status Date', 'Filed Date', 'Issued Date']"
      ]
     },
     "execution_count": 13,
     "metadata": {},
     "output_type": "execute_result"
    }
   ],
   "source": [
    "date_cols = list(desc[desc['Type'] == 'DateTime']['Column name'])\n",
    "date_cols"
   ]
  },
  {
   "cell_type": "markdown",
   "metadata": {
    "colab_type": "text",
    "id": "Gdl8CmFVgRne"
   },
   "source": [
    "Podemos ver en la descripción de las columnas, que hay más columnas que hacen referencia a Fechas, sin embargo están cargada como *strings*. Vamos a analizar esas columnas."
   ]
  },
  {
   "cell_type": "code",
   "execution_count": 14,
   "metadata": {
    "colab": {
     "autoexec": {
      "startup": false,
      "wait_interval": 0
     },
     "base_uri": "https://localhost:8080/",
     "height": 139
    },
    "colab_type": "code",
    "executionInfo": {
     "elapsed": 767,
     "status": "ok",
     "timestamp": 1527782287319,
     "user": {
      "displayName": "Gonzalo Zigaran",
      "photoUrl": "//lh4.googleusercontent.com/-BEu2HQbYbOY/AAAAAAAAAAI/AAAAAAAAAxo/mIlwA_iVLvY/s50-c-k-no/photo.jpg",
      "userId": "113725472126978143740"
     },
     "user_tz": 180
    },
    "id": "jhfJq6jfgb8v",
    "outputId": "efbb40d0-29f9-4e52-ae14-e3de5dcb5c7d"
   },
   "outputs": [
    {
     "data": {
      "text/plain": [
       "['Permit Creation Date',\n",
       " 'Current Status Date',\n",
       " 'Filed Date',\n",
       " 'Issued Date',\n",
       " 'Completed Date',\n",
       " 'First Construction Document Date',\n",
       " 'Permit Expiration Date']"
      ]
     },
     "execution_count": 14,
     "metadata": {},
     "output_type": "execute_result"
    }
   ],
   "source": [
    "date_cols_reals = list(desc[desc['Column name'].str.contains(pat = 'Date')]['Column name'])\n",
    "date_cols_reals"
   ]
  },
  {
   "cell_type": "code",
   "execution_count": 15,
   "metadata": {
    "colab": {
     "autoexec": {
      "startup": false,
      "wait_interval": 0
     },
     "base_uri": "https://localhost:8080/",
     "height": 206
    },
    "colab_type": "code",
    "executionInfo": {
     "elapsed": 1125,
     "status": "ok",
     "timestamp": 1527782288750,
     "user": {
      "displayName": "Gonzalo Zigaran",
      "photoUrl": "//lh4.googleusercontent.com/-BEu2HQbYbOY/AAAAAAAAAAI/AAAAAAAAAxo/mIlwA_iVLvY/s50-c-k-no/photo.jpg",
      "userId": "113725472126978143740"
     },
     "user_tz": 180
    },
    "id": "bQbPlgbYhC_K",
    "outputId": "bfc8084c-0716-48c6-bf6e-321dad177fdf"
   },
   "outputs": [
    {
     "data": {
      "text/html": [
       "<div>\n",
       "<style scoped>\n",
       "    .dataframe tbody tr th:only-of-type {\n",
       "        vertical-align: middle;\n",
       "    }\n",
       "\n",
       "    .dataframe tbody tr th {\n",
       "        vertical-align: top;\n",
       "    }\n",
       "\n",
       "    .dataframe thead th {\n",
       "        text-align: right;\n",
       "    }\n",
       "</style>\n",
       "<table border=\"1\" class=\"dataframe\">\n",
       "  <thead>\n",
       "    <tr style=\"text-align: right;\">\n",
       "      <th></th>\n",
       "      <th>Permit Creation Date</th>\n",
       "      <th>Current Status Date</th>\n",
       "      <th>Filed Date</th>\n",
       "      <th>Issued Date</th>\n",
       "      <th>Completed Date</th>\n",
       "      <th>First Construction Document Date</th>\n",
       "      <th>Permit Expiration Date</th>\n",
       "    </tr>\n",
       "  </thead>\n",
       "  <tbody>\n",
       "    <tr>\n",
       "      <th>155499</th>\n",
       "      <td>04/26/2017</td>\n",
       "      <td>04/26/2017</td>\n",
       "      <td>04/26/2017</td>\n",
       "      <td>04/26/2017</td>\n",
       "      <td>NaN</td>\n",
       "      <td>04/26/2017</td>\n",
       "      <td>NaN</td>\n",
       "    </tr>\n",
       "    <tr>\n",
       "      <th>39974</th>\n",
       "      <td>02/24/2014</td>\n",
       "      <td>04/24/2014</td>\n",
       "      <td>02/24/2014</td>\n",
       "      <td>02/24/2014</td>\n",
       "      <td>04/24/2014</td>\n",
       "      <td>02/24/2014</td>\n",
       "      <td>02/19/2015</td>\n",
       "    </tr>\n",
       "    <tr>\n",
       "      <th>174870</th>\n",
       "      <td>01/30/2017</td>\n",
       "      <td>01/11/2018</td>\n",
       "      <td>01/30/2017</td>\n",
       "      <td>01/30/2017</td>\n",
       "      <td>01/11/2018</td>\n",
       "      <td>01/30/2017</td>\n",
       "      <td>01/25/2018</td>\n",
       "    </tr>\n",
       "    <tr>\n",
       "      <th>143712</th>\n",
       "      <td>11/29/2016</td>\n",
       "      <td>11/29/2016</td>\n",
       "      <td>11/29/2016</td>\n",
       "      <td>11/29/2016</td>\n",
       "      <td>NaN</td>\n",
       "      <td>11/29/2016</td>\n",
       "      <td>NaN</td>\n",
       "    </tr>\n",
       "    <tr>\n",
       "      <th>65453</th>\n",
       "      <td>10/24/2014</td>\n",
       "      <td>04/30/2015</td>\n",
       "      <td>10/24/2014</td>\n",
       "      <td>12/05/2014</td>\n",
       "      <td>04/30/2015</td>\n",
       "      <td>12/05/2014</td>\n",
       "      <td>11/30/2015</td>\n",
       "    </tr>\n",
       "  </tbody>\n",
       "</table>\n",
       "</div>"
      ],
      "text/plain": [
       "       Permit Creation Date Current Status Date  Filed Date Issued Date  \\\n",
       "155499           04/26/2017          04/26/2017  04/26/2017  04/26/2017   \n",
       "39974            02/24/2014          04/24/2014  02/24/2014  02/24/2014   \n",
       "174870           01/30/2017          01/11/2018  01/30/2017  01/30/2017   \n",
       "143712           11/29/2016          11/29/2016  11/29/2016  11/29/2016   \n",
       "65453            10/24/2014          04/30/2015  10/24/2014  12/05/2014   \n",
       "\n",
       "       Completed Date First Construction Document Date Permit Expiration Date  \n",
       "155499            NaN                       04/26/2017                    NaN  \n",
       "39974      04/24/2014                       02/24/2014             02/19/2015  \n",
       "174870     01/11/2018                       01/30/2017             01/25/2018  \n",
       "143712            NaN                       11/29/2016                    NaN  \n",
       "65453      04/30/2015                       12/05/2014             11/30/2015  "
      ]
     },
     "execution_count": 15,
     "metadata": {},
     "output_type": "execute_result"
    }
   ],
   "source": [
    "data[date_cols_reals].sample(5)"
   ]
  },
  {
   "cell_type": "markdown",
   "metadata": {
    "colab_type": "text",
    "id": "7DBnQNQdimbD"
   },
   "source": [
    "Claramente también tienen información de fechas, por lo que vamos a cargar todas estas columnas como fechas en pandas."
   ]
  },
  {
   "cell_type": "code",
   "execution_count": 16,
   "metadata": {
    "colab": {
     "autoexec": {
      "startup": false,
      "wait_interval": 0
     },
     "base_uri": "https://localhost:8080/",
     "height": 72
    },
    "colab_type": "code",
    "executionInfo": {
     "elapsed": 169024,
     "status": "ok",
     "timestamp": 1527782457973,
     "user": {
      "displayName": "Gonzalo Zigaran",
      "photoUrl": "//lh4.googleusercontent.com/-BEu2HQbYbOY/AAAAAAAAAAI/AAAAAAAAAxo/mIlwA_iVLvY/s50-c-k-no/photo.jpg",
      "userId": "113725472126978143740"
     },
     "user_tz": 180
    },
    "id": "sB0BGW3yuFA5",
    "outputId": "853f345f-3174-44d6-db35-d3612af1a5a7"
   },
   "outputs": [
    {
     "name": "stderr",
     "output_type": "stream",
     "text": [
      "/opt/conda/lib/python3.6/site-packages/IPython/core/interactiveshell.py:2785: DtypeWarning: Columns (22,32) have mixed types. Specify dtype option on import or set low_memory=False.\n",
      "  interactivity=interactivity, compiler=compiler, result=result)\n"
     ]
    }
   ],
   "source": [
    "data = pd.read_csv('data/Building_Permits.csv', \n",
    "                   parse_dates=date_cols_reals)\n",
    "data.drop(['TIDF Compliance', \n",
    "           'Voluntary Soft-Story Retrofit'], \n",
    "          axis=1, \n",
    "          inplace=True)\n"
   ]
  },
  {
   "cell_type": "code",
   "execution_count": 17,
   "metadata": {
    "colab": {
     "autoexec": {
      "startup": false,
      "wait_interval": 0
     },
     "base_uri": "https://localhost:8080/",
     "height": 729
    },
    "colab_type": "code",
    "executionInfo": {
     "elapsed": 845,
     "status": "ok",
     "timestamp": 1527782458885,
     "user": {
      "displayName": "Gonzalo Zigaran",
      "photoUrl": "//lh4.googleusercontent.com/-BEu2HQbYbOY/AAAAAAAAAAI/AAAAAAAAAxo/mIlwA_iVLvY/s50-c-k-no/photo.jpg",
      "userId": "113725472126978143740"
     },
     "user_tz": 180
    },
    "id": "DnppwJcQucAX",
    "outputId": "21be0a22-8500-4f8c-d6cc-793ddadd351a"
   },
   "outputs": [
    {
     "name": "stdout",
     "output_type": "stream",
     "text": [
      "Permit Number  :  object ['String']\n",
      "Permit Type  :  int64 ['Numeric']\n",
      "Permit Type Definition  :  object ['String']\n",
      "Permit Creation Date  :  datetime64[ns] ['DateTime']\n",
      "Block  :  object ['String']\n",
      "Lot  :  object ['String']\n",
      "Street Number  :  int64 ['Numeric']\n",
      "Street Number Suffix  :  object ['String']\n",
      "Street Name  :  object ['String']\n",
      "Street Suffix  :  object []\n",
      "Unit  :  float64 ['String']\n",
      "Unit Suffix  :  object []\n",
      "Description  :  object ['String']\n",
      "Current Status  :  object ['String']\n",
      "Current Status Date  :  datetime64[ns] ['DateTime']\n",
      "Filed Date  :  datetime64[ns] ['DateTime']\n",
      "Issued Date  :  datetime64[ns] ['DateTime']\n",
      "Completed Date  :  datetime64[ns] ['String']\n",
      "First Construction Document Date  :  datetime64[ns] ['String']\n",
      "Structural Notification  :  object ['String']\n",
      "Number of Existing Stories  :  float64 ['String']\n",
      "Number of Proposed Stories  :  float64 ['String']\n",
      "Fire Only Permit  :  object ['String']\n",
      "Permit Expiration Date  :  datetime64[ns] ['String']\n",
      "Estimated Cost  :  float64 ['String']\n",
      "Revised Cost  :  float64 ['String']\n",
      "Existing Use  :  object ['String']\n",
      "Existing Units  :  float64 ['String']\n",
      "Proposed Use  :  object ['String']\n",
      "Proposed Units  :  float64 ['String']\n",
      "Plansets  :  float64 ['String']\n",
      "Existing Construction Type  :  float64 ['String']\n",
      "Existing Construction Type Description  :  object ['String']\n",
      "Proposed Construction Type  :  float64 ['String']\n",
      "Proposed Construction Type Description  :  object ['String']\n",
      "Site Permit  :  object ['String']\n",
      "Supervisor District  :  float64 ['Numeric']\n",
      "Neighborhoods - Analysis Boundaries  :  object ['String']\n",
      "Zipcode  :  float64 ['Numeric']\n",
      "Location  :  object ['String']\n",
      "Record ID  :  int64 ['Numeric']\n"
     ]
    }
   ],
   "source": [
    "for col in data.columns:\n",
    "  print(col, ' : ' , data[col].dtype, desc.loc[desc['Column name'] == col]['Type'].values)"
   ]
  },
  {
   "cell_type": "markdown",
   "metadata": {
    "colab_type": "text",
    "id": "e0VGlxfWlxuJ"
   },
   "source": [
    "### 1.2. Asegurar de tener ids/claves únicas\n",
    "\n",
    "Ahora vamos a fijar como clave de las filas a una columna del dataset que fue registrando un ID para cada entrada, utilizamos la columna `Record ID`"
   ]
  },
  {
   "cell_type": "code",
   "execution_count": 18,
   "metadata": {
    "colab": {
     "autoexec": {
      "startup": false,
      "wait_interval": 0
     }
    },
    "colab_type": "code",
    "id": "WyK8JHRxqZP1"
   },
   "outputs": [],
   "source": [
    "data.set_index(['Record ID'], inplace=True)"
   ]
  },
  {
   "cell_type": "code",
   "execution_count": 19,
   "metadata": {
    "colab": {
     "autoexec": {
      "startup": false,
      "wait_interval": 0
     },
     "base_uri": "https://localhost:8080/",
     "height": 513
    },
    "colab_type": "code",
    "executionInfo": {
     "elapsed": 745,
     "status": "ok",
     "timestamp": 1527782460773,
     "user": {
      "displayName": "Gonzalo Zigaran",
      "photoUrl": "//lh4.googleusercontent.com/-BEu2HQbYbOY/AAAAAAAAAAI/AAAAAAAAAxo/mIlwA_iVLvY/s50-c-k-no/photo.jpg",
      "userId": "113725472126978143740"
     },
     "user_tz": 180
    },
    "id": "4IOmpXnXSZFc",
    "outputId": "b841833d-1470-4c41-eb0b-6dfaef8e76a0"
   },
   "outputs": [
    {
     "data": {
      "text/html": [
       "<div>\n",
       "<style scoped>\n",
       "    .dataframe tbody tr th:only-of-type {\n",
       "        vertical-align: middle;\n",
       "    }\n",
       "\n",
       "    .dataframe tbody tr th {\n",
       "        vertical-align: top;\n",
       "    }\n",
       "\n",
       "    .dataframe thead th {\n",
       "        text-align: right;\n",
       "    }\n",
       "</style>\n",
       "<table border=\"1\" class=\"dataframe\">\n",
       "  <thead>\n",
       "    <tr style=\"text-align: right;\">\n",
       "      <th></th>\n",
       "      <th>Permit Number</th>\n",
       "      <th>Permit Type</th>\n",
       "      <th>Permit Type Definition</th>\n",
       "      <th>Permit Creation Date</th>\n",
       "      <th>Block</th>\n",
       "      <th>Lot</th>\n",
       "      <th>Street Number</th>\n",
       "      <th>Street Number Suffix</th>\n",
       "      <th>Street Name</th>\n",
       "      <th>Street Suffix</th>\n",
       "      <th>...</th>\n",
       "      <th>Plansets</th>\n",
       "      <th>Existing Construction Type</th>\n",
       "      <th>Existing Construction Type Description</th>\n",
       "      <th>Proposed Construction Type</th>\n",
       "      <th>Proposed Construction Type Description</th>\n",
       "      <th>Site Permit</th>\n",
       "      <th>Supervisor District</th>\n",
       "      <th>Neighborhoods - Analysis Boundaries</th>\n",
       "      <th>Zipcode</th>\n",
       "      <th>Location</th>\n",
       "    </tr>\n",
       "    <tr>\n",
       "      <th>Record ID</th>\n",
       "      <th></th>\n",
       "      <th></th>\n",
       "      <th></th>\n",
       "      <th></th>\n",
       "      <th></th>\n",
       "      <th></th>\n",
       "      <th></th>\n",
       "      <th></th>\n",
       "      <th></th>\n",
       "      <th></th>\n",
       "      <th></th>\n",
       "      <th></th>\n",
       "      <th></th>\n",
       "      <th></th>\n",
       "      <th></th>\n",
       "      <th></th>\n",
       "      <th></th>\n",
       "      <th></th>\n",
       "      <th></th>\n",
       "      <th></th>\n",
       "      <th></th>\n",
       "    </tr>\n",
       "  </thead>\n",
       "  <tbody>\n",
       "    <tr>\n",
       "      <th>129249973746</th>\n",
       "      <td>M364887</td>\n",
       "      <td>8</td>\n",
       "      <td>otc alterations permit</td>\n",
       "      <td>2013-01-07</td>\n",
       "      <td>0543</td>\n",
       "      <td>010</td>\n",
       "      <td>1830</td>\n",
       "      <td>NaN</td>\n",
       "      <td>Green</td>\n",
       "      <td>St</td>\n",
       "      <td>...</td>\n",
       "      <td>NaN</td>\n",
       "      <td>NaN</td>\n",
       "      <td>NaN</td>\n",
       "      <td>NaN</td>\n",
       "      <td>NaN</td>\n",
       "      <td>NaN</td>\n",
       "      <td>2.0</td>\n",
       "      <td>Marina</td>\n",
       "      <td>94123.0</td>\n",
       "      <td>(37.79719627688741, -122.42937453611637)</td>\n",
       "    </tr>\n",
       "    <tr>\n",
       "      <th>1307989182550</th>\n",
       "      <td>201306139491</td>\n",
       "      <td>8</td>\n",
       "      <td>otc alterations permit</td>\n",
       "      <td>2013-06-13</td>\n",
       "      <td>5462</td>\n",
       "      <td>010</td>\n",
       "      <td>38</td>\n",
       "      <td>NaN</td>\n",
       "      <td>Carr</td>\n",
       "      <td>St</td>\n",
       "      <td>...</td>\n",
       "      <td>2.0</td>\n",
       "      <td>5.0</td>\n",
       "      <td>wood frame (5)</td>\n",
       "      <td>5.0</td>\n",
       "      <td>wood frame (5)</td>\n",
       "      <td>NaN</td>\n",
       "      <td>10.0</td>\n",
       "      <td>Bayview Hunters Point</td>\n",
       "      <td>94124.0</td>\n",
       "      <td>(37.721985990029644, -122.39715844465124)</td>\n",
       "    </tr>\n",
       "    <tr>\n",
       "      <th>1399631385563</th>\n",
       "      <td>201510169943</td>\n",
       "      <td>8</td>\n",
       "      <td>otc alterations permit</td>\n",
       "      <td>2015-10-16</td>\n",
       "      <td>0239</td>\n",
       "      <td>026</td>\n",
       "      <td>420</td>\n",
       "      <td>NaN</td>\n",
       "      <td>Montgomery</td>\n",
       "      <td>St</td>\n",
       "      <td>...</td>\n",
       "      <td>2.0</td>\n",
       "      <td>1.0</td>\n",
       "      <td>constr type 1</td>\n",
       "      <td>1.0</td>\n",
       "      <td>constr type 1</td>\n",
       "      <td>NaN</td>\n",
       "      <td>3.0</td>\n",
       "      <td>Financial District/South Beach</td>\n",
       "      <td>94104.0</td>\n",
       "      <td>(37.793410188274535, -122.40240133577385)</td>\n",
       "    </tr>\n",
       "    <tr>\n",
       "      <th>1346409484473</th>\n",
       "      <td>201406249240</td>\n",
       "      <td>8</td>\n",
       "      <td>otc alterations permit</td>\n",
       "      <td>2014-06-24</td>\n",
       "      <td>4294</td>\n",
       "      <td>017</td>\n",
       "      <td>1411</td>\n",
       "      <td>NaN</td>\n",
       "      <td>Minnesota</td>\n",
       "      <td>St</td>\n",
       "      <td>...</td>\n",
       "      <td>2.0</td>\n",
       "      <td>3.0</td>\n",
       "      <td>constr type 3</td>\n",
       "      <td>3.0</td>\n",
       "      <td>constr type 3</td>\n",
       "      <td>NaN</td>\n",
       "      <td>10.0</td>\n",
       "      <td>Bayview Hunters Point</td>\n",
       "      <td>94107.0</td>\n",
       "      <td>(37.75192353116243, -122.38933443136986)</td>\n",
       "    </tr>\n",
       "    <tr>\n",
       "      <th>1379497101274</th>\n",
       "      <td>201504274727</td>\n",
       "      <td>8</td>\n",
       "      <td>otc alterations permit</td>\n",
       "      <td>2015-04-27</td>\n",
       "      <td>1474</td>\n",
       "      <td>021</td>\n",
       "      <td>464</td>\n",
       "      <td>NaN</td>\n",
       "      <td>43rd</td>\n",
       "      <td>Av</td>\n",
       "      <td>...</td>\n",
       "      <td>0.0</td>\n",
       "      <td>5.0</td>\n",
       "      <td>wood frame (5)</td>\n",
       "      <td>5.0</td>\n",
       "      <td>wood frame (5)</td>\n",
       "      <td>NaN</td>\n",
       "      <td>1.0</td>\n",
       "      <td>Outer Richmond</td>\n",
       "      <td>94121.0</td>\n",
       "      <td>(37.77996298808067, -122.50382683503868)</td>\n",
       "    </tr>\n",
       "  </tbody>\n",
       "</table>\n",
       "<p>5 rows × 40 columns</p>\n",
       "</div>"
      ],
      "text/plain": [
       "              Permit Number  Permit Type  Permit Type Definition  \\\n",
       "Record ID                                                          \n",
       "129249973746        M364887            8  otc alterations permit   \n",
       "1307989182550  201306139491            8  otc alterations permit   \n",
       "1399631385563  201510169943            8  otc alterations permit   \n",
       "1346409484473  201406249240            8  otc alterations permit   \n",
       "1379497101274  201504274727            8  otc alterations permit   \n",
       "\n",
       "              Permit Creation Date Block  Lot  Street Number  \\\n",
       "Record ID                                                      \n",
       "129249973746            2013-01-07  0543  010           1830   \n",
       "1307989182550           2013-06-13  5462  010             38   \n",
       "1399631385563           2015-10-16  0239  026            420   \n",
       "1346409484473           2014-06-24  4294  017           1411   \n",
       "1379497101274           2015-04-27  1474  021            464   \n",
       "\n",
       "              Street Number Suffix Street Name Street Suffix  \\\n",
       "Record ID                                                      \n",
       "129249973746                   NaN       Green            St   \n",
       "1307989182550                  NaN        Carr            St   \n",
       "1399631385563                  NaN  Montgomery            St   \n",
       "1346409484473                  NaN   Minnesota            St   \n",
       "1379497101274                  NaN        43rd            Av   \n",
       "\n",
       "                                 ...                      Plansets  \\\n",
       "Record ID                        ...                                 \n",
       "129249973746                     ...                           NaN   \n",
       "1307989182550                    ...                           2.0   \n",
       "1399631385563                    ...                           2.0   \n",
       "1346409484473                    ...                           2.0   \n",
       "1379497101274                    ...                           0.0   \n",
       "\n",
       "              Existing Construction Type  \\\n",
       "Record ID                                  \n",
       "129249973746                         NaN   \n",
       "1307989182550                        5.0   \n",
       "1399631385563                        1.0   \n",
       "1346409484473                        3.0   \n",
       "1379497101274                        5.0   \n",
       "\n",
       "              Existing Construction Type Description  \\\n",
       "Record ID                                              \n",
       "129249973746                                     NaN   \n",
       "1307989182550                         wood frame (5)   \n",
       "1399631385563                          constr type 1   \n",
       "1346409484473                          constr type 3   \n",
       "1379497101274                         wood frame (5)   \n",
       "\n",
       "              Proposed Construction Type  \\\n",
       "Record ID                                  \n",
       "129249973746                         NaN   \n",
       "1307989182550                        5.0   \n",
       "1399631385563                        1.0   \n",
       "1346409484473                        3.0   \n",
       "1379497101274                        5.0   \n",
       "\n",
       "              Proposed Construction Type Description Site Permit  \\\n",
       "Record ID                                                          \n",
       "129249973746                                     NaN         NaN   \n",
       "1307989182550                         wood frame (5)         NaN   \n",
       "1399631385563                          constr type 1         NaN   \n",
       "1346409484473                          constr type 3         NaN   \n",
       "1379497101274                         wood frame (5)         NaN   \n",
       "\n",
       "              Supervisor District Neighborhoods - Analysis Boundaries  \\\n",
       "Record ID                                                               \n",
       "129249973746                  2.0                              Marina   \n",
       "1307989182550                10.0               Bayview Hunters Point   \n",
       "1399631385563                 3.0      Financial District/South Beach   \n",
       "1346409484473                10.0               Bayview Hunters Point   \n",
       "1379497101274                 1.0                      Outer Richmond   \n",
       "\n",
       "               Zipcode                                   Location  \n",
       "Record ID                                                          \n",
       "129249973746   94123.0   (37.79719627688741, -122.42937453611637)  \n",
       "1307989182550  94124.0  (37.721985990029644, -122.39715844465124)  \n",
       "1399631385563  94104.0  (37.793410188274535, -122.40240133577385)  \n",
       "1346409484473  94107.0   (37.75192353116243, -122.38933443136986)  \n",
       "1379497101274  94121.0   (37.77996298808067, -122.50382683503868)  \n",
       "\n",
       "[5 rows x 40 columns]"
      ]
     },
     "execution_count": 19,
     "metadata": {},
     "output_type": "execute_result"
    }
   ],
   "source": [
    "data.sample(5)"
   ]
  },
  {
   "cell_type": "code",
   "execution_count": 20,
   "metadata": {
    "colab": {
     "autoexec": {
      "startup": false,
      "wait_interval": 0
     },
     "base_uri": "https://localhost:8080/",
     "height": 200
    },
    "colab_type": "code",
    "executionInfo": {
     "elapsed": 773,
     "status": "ok",
     "timestamp": 1527782461754,
     "user": {
      "displayName": "Gonzalo Zigaran",
      "photoUrl": "//lh4.googleusercontent.com/-BEu2HQbYbOY/AAAAAAAAAAI/AAAAAAAAAxo/mIlwA_iVLvY/s50-c-k-no/photo.jpg",
      "userId": "113725472126978143740"
     },
     "user_tz": 180
    },
    "id": "mvzZPS7sShcn",
    "outputId": "2d82beff-89fa-4467-c442-e2f9bd0a10ea"
   },
   "outputs": [
    {
     "data": {
      "text/html": [
       "<div>\n",
       "<style scoped>\n",
       "    .dataframe tbody tr th:only-of-type {\n",
       "        vertical-align: middle;\n",
       "    }\n",
       "\n",
       "    .dataframe tbody tr th {\n",
       "        vertical-align: top;\n",
       "    }\n",
       "\n",
       "    .dataframe thead th {\n",
       "        text-align: right;\n",
       "    }\n",
       "</style>\n",
       "<table border=\"1\" class=\"dataframe\">\n",
       "  <thead>\n",
       "    <tr style=\"text-align: right;\">\n",
       "      <th></th>\n",
       "      <th>Permit Number</th>\n",
       "      <th>Permit Type</th>\n",
       "      <th>Permit Type Definition</th>\n",
       "      <th>Permit Creation Date</th>\n",
       "      <th>Block</th>\n",
       "      <th>Lot</th>\n",
       "      <th>Street Number</th>\n",
       "      <th>Street Number Suffix</th>\n",
       "      <th>Street Name</th>\n",
       "      <th>Street Suffix</th>\n",
       "      <th>...</th>\n",
       "      <th>Plansets</th>\n",
       "      <th>Existing Construction Type</th>\n",
       "      <th>Existing Construction Type Description</th>\n",
       "      <th>Proposed Construction Type</th>\n",
       "      <th>Proposed Construction Type Description</th>\n",
       "      <th>Site Permit</th>\n",
       "      <th>Supervisor District</th>\n",
       "      <th>Neighborhoods - Analysis Boundaries</th>\n",
       "      <th>Zipcode</th>\n",
       "      <th>Location</th>\n",
       "    </tr>\n",
       "    <tr>\n",
       "      <th>Record ID</th>\n",
       "      <th></th>\n",
       "      <th></th>\n",
       "      <th></th>\n",
       "      <th></th>\n",
       "      <th></th>\n",
       "      <th></th>\n",
       "      <th></th>\n",
       "      <th></th>\n",
       "      <th></th>\n",
       "      <th></th>\n",
       "      <th></th>\n",
       "      <th></th>\n",
       "      <th></th>\n",
       "      <th></th>\n",
       "      <th></th>\n",
       "      <th></th>\n",
       "      <th></th>\n",
       "      <th></th>\n",
       "      <th></th>\n",
       "      <th></th>\n",
       "      <th></th>\n",
       "    </tr>\n",
       "  </thead>\n",
       "  <tbody>\n",
       "  </tbody>\n",
       "</table>\n",
       "<p>0 rows × 40 columns</p>\n",
       "</div>"
      ],
      "text/plain": [
       "Empty DataFrame\n",
       "Columns: [Permit Number, Permit Type, Permit Type Definition, Permit Creation Date, Block, Lot, Street Number, Street Number Suffix, Street Name, Street Suffix, Unit, Unit Suffix, Description, Current Status, Current Status Date, Filed Date, Issued Date, Completed Date, First Construction Document Date, Structural Notification, Number of Existing Stories, Number of Proposed Stories, Fire Only Permit, Permit Expiration Date, Estimated Cost, Revised Cost, Existing Use, Existing Units, Proposed Use, Proposed Units, Plansets, Existing Construction Type, Existing Construction Type Description, Proposed Construction Type, Proposed Construction Type Description, Site Permit, Supervisor District, Neighborhoods - Analysis Boundaries, Zipcode, Location]\n",
       "Index: []\n",
       "\n",
       "[0 rows x 40 columns]"
      ]
     },
     "execution_count": 20,
     "metadata": {},
     "output_type": "execute_result"
    }
   ],
   "source": [
    "data[data.index.duplicated(keep=False)]"
   ]
  },
  {
   "cell_type": "markdown",
   "metadata": {
    "colab_type": "text",
    "id": "Fk7aoi6PVv53"
   },
   "source": [
    "Podemos ver que con esta elección de clave para las filas, no se tiene registros duplicados. "
   ]
  },
  {
   "cell_type": "markdown",
   "metadata": {
    "colab_type": "text",
    "id": "uNyAGacRmilU"
   },
   "source": [
    "### 1.3. Despersonalizar datos y guardarlos en un nuevo archivo\n",
    "\n",
    "Una variable que vemos sensible y que podría ser despersonzalizada es la dirección que aparece dividida en varias columnas. Para desperzonalizar este dato, vamos a encriptar el nombre de la calle dado en la columna *Street Name*.\n"
   ]
  },
  {
   "cell_type": "code",
   "execution_count": 21,
   "metadata": {
    "colab": {
     "autoexec": {
      "startup": false,
      "wait_interval": 0
     }
    },
    "colab_type": "code",
    "id": "6RDgJOWwlBu5"
   },
   "outputs": [],
   "source": [
    "from hashlib import md5\n",
    "\n",
    "def hashit(val):\n",
    "    if isinstance(val, float): \n",
    "        return str(val)\n",
    "    return md5(val.encode('utf-8')).hexdigest()\n",
    "\n",
    "\n",
    "data['Street Name'] = data['Street Name'].apply(hashit)"
   ]
  },
  {
   "cell_type": "code",
   "execution_count": 22,
   "metadata": {
    "colab": {
     "autoexec": {
      "startup": false,
      "wait_interval": 0
     },
     "base_uri": "https://localhost:8080/",
     "height": 513
    },
    "colab_type": "code",
    "executionInfo": {
     "elapsed": 1070,
     "status": "ok",
     "timestamp": 1527782464662,
     "user": {
      "displayName": "Gonzalo Zigaran",
      "photoUrl": "//lh4.googleusercontent.com/-BEu2HQbYbOY/AAAAAAAAAAI/AAAAAAAAAxo/mIlwA_iVLvY/s50-c-k-no/photo.jpg",
      "userId": "113725472126978143740"
     },
     "user_tz": 180
    },
    "id": "skgPZYeslSSv",
    "outputId": "29ac266c-8298-4a79-e3c6-9da87a7c2b10"
   },
   "outputs": [
    {
     "data": {
      "text/html": [
       "<div>\n",
       "<style scoped>\n",
       "    .dataframe tbody tr th:only-of-type {\n",
       "        vertical-align: middle;\n",
       "    }\n",
       "\n",
       "    .dataframe tbody tr th {\n",
       "        vertical-align: top;\n",
       "    }\n",
       "\n",
       "    .dataframe thead th {\n",
       "        text-align: right;\n",
       "    }\n",
       "</style>\n",
       "<table border=\"1\" class=\"dataframe\">\n",
       "  <thead>\n",
       "    <tr style=\"text-align: right;\">\n",
       "      <th></th>\n",
       "      <th>Permit Number</th>\n",
       "      <th>Permit Type</th>\n",
       "      <th>Permit Type Definition</th>\n",
       "      <th>Permit Creation Date</th>\n",
       "      <th>Block</th>\n",
       "      <th>Lot</th>\n",
       "      <th>Street Number</th>\n",
       "      <th>Street Number Suffix</th>\n",
       "      <th>Street Name</th>\n",
       "      <th>Street Suffix</th>\n",
       "      <th>...</th>\n",
       "      <th>Plansets</th>\n",
       "      <th>Existing Construction Type</th>\n",
       "      <th>Existing Construction Type Description</th>\n",
       "      <th>Proposed Construction Type</th>\n",
       "      <th>Proposed Construction Type Description</th>\n",
       "      <th>Site Permit</th>\n",
       "      <th>Supervisor District</th>\n",
       "      <th>Neighborhoods - Analysis Boundaries</th>\n",
       "      <th>Zipcode</th>\n",
       "      <th>Location</th>\n",
       "    </tr>\n",
       "    <tr>\n",
       "      <th>Record ID</th>\n",
       "      <th></th>\n",
       "      <th></th>\n",
       "      <th></th>\n",
       "      <th></th>\n",
       "      <th></th>\n",
       "      <th></th>\n",
       "      <th></th>\n",
       "      <th></th>\n",
       "      <th></th>\n",
       "      <th></th>\n",
       "      <th></th>\n",
       "      <th></th>\n",
       "      <th></th>\n",
       "      <th></th>\n",
       "      <th></th>\n",
       "      <th></th>\n",
       "      <th></th>\n",
       "      <th></th>\n",
       "      <th></th>\n",
       "      <th></th>\n",
       "      <th></th>\n",
       "    </tr>\n",
       "  </thead>\n",
       "  <tbody>\n",
       "    <tr>\n",
       "      <th>1329935126609</th>\n",
       "      <td>201401166429</td>\n",
       "      <td>8</td>\n",
       "      <td>otc alterations permit</td>\n",
       "      <td>2014-01-16</td>\n",
       "      <td>2121A</td>\n",
       "      <td>025</td>\n",
       "      <td>50</td>\n",
       "      <td>NaN</td>\n",
       "      <td>ed4023faebffe21c9a6796897faadb49</td>\n",
       "      <td>Dr</td>\n",
       "      <td>...</td>\n",
       "      <td>0.0</td>\n",
       "      <td>5.0</td>\n",
       "      <td>wood frame (5)</td>\n",
       "      <td>5.0</td>\n",
       "      <td>wood frame (5)</td>\n",
       "      <td>NaN</td>\n",
       "      <td>7.0</td>\n",
       "      <td>Inner Sunset</td>\n",
       "      <td>94116.0</td>\n",
       "      <td>(37.7508801456054, -122.46985995197439)</td>\n",
       "    </tr>\n",
       "    <tr>\n",
       "      <th>1474240405552</th>\n",
       "      <td>201708114582</td>\n",
       "      <td>8</td>\n",
       "      <td>otc alterations permit</td>\n",
       "      <td>2017-08-11</td>\n",
       "      <td>3731</td>\n",
       "      <td>054A</td>\n",
       "      <td>70</td>\n",
       "      <td>NaN</td>\n",
       "      <td>58091cd419f36b3852b27525492a5d46</td>\n",
       "      <td>St</td>\n",
       "      <td>...</td>\n",
       "      <td>2.0</td>\n",
       "      <td>5.0</td>\n",
       "      <td>wood frame (5)</td>\n",
       "      <td>5.0</td>\n",
       "      <td>wood frame (5)</td>\n",
       "      <td>NaN</td>\n",
       "      <td>6.0</td>\n",
       "      <td>South of Market</td>\n",
       "      <td>94103.0</td>\n",
       "      <td>(37.77746581162453, -122.40794981309949)</td>\n",
       "    </tr>\n",
       "    <tr>\n",
       "      <th>1401888250267</th>\n",
       "      <td>201511031574</td>\n",
       "      <td>3</td>\n",
       "      <td>additions alterations or repairs</td>\n",
       "      <td>2015-11-03</td>\n",
       "      <td>4700</td>\n",
       "      <td>039</td>\n",
       "      <td>42</td>\n",
       "      <td>NaN</td>\n",
       "      <td>b50b47c54bb521be79ae5695582033cd</td>\n",
       "      <td>Rd</td>\n",
       "      <td>...</td>\n",
       "      <td>3.0</td>\n",
       "      <td>5.0</td>\n",
       "      <td>wood frame (5)</td>\n",
       "      <td>5.0</td>\n",
       "      <td>wood frame (5)</td>\n",
       "      <td>Y</td>\n",
       "      <td>10.0</td>\n",
       "      <td>Bayview Hunters Point</td>\n",
       "      <td>94124.0</td>\n",
       "      <td>(37.73106843091746, -122.37519264943822)</td>\n",
       "    </tr>\n",
       "    <tr>\n",
       "      <th>1439604186542</th>\n",
       "      <td>M727147</td>\n",
       "      <td>8</td>\n",
       "      <td>otc alterations permit</td>\n",
       "      <td>2016-10-03</td>\n",
       "      <td>5673</td>\n",
       "      <td>003</td>\n",
       "      <td>320</td>\n",
       "      <td>NaN</td>\n",
       "      <td>39916b02abacbce9d43cf901485dd79f</td>\n",
       "      <td>St</td>\n",
       "      <td>...</td>\n",
       "      <td>NaN</td>\n",
       "      <td>NaN</td>\n",
       "      <td>NaN</td>\n",
       "      <td>NaN</td>\n",
       "      <td>NaN</td>\n",
       "      <td>NaN</td>\n",
       "      <td>9.0</td>\n",
       "      <td>Bernal Heights</td>\n",
       "      <td>94110.0</td>\n",
       "      <td>(37.74158162220186, -122.4213438653185)</td>\n",
       "    </tr>\n",
       "    <tr>\n",
       "      <th>1360457239168</th>\n",
       "      <td>M531527</td>\n",
       "      <td>8</td>\n",
       "      <td>otc alterations permit</td>\n",
       "      <td>2014-10-28</td>\n",
       "      <td>1065</td>\n",
       "      <td>046</td>\n",
       "      <td>120</td>\n",
       "      <td>NaN</td>\n",
       "      <td>d28810ed76d0a5bd1b7ca4c1e4372b02</td>\n",
       "      <td>Av</td>\n",
       "      <td>...</td>\n",
       "      <td>NaN</td>\n",
       "      <td>NaN</td>\n",
       "      <td>NaN</td>\n",
       "      <td>NaN</td>\n",
       "      <td>NaN</td>\n",
       "      <td>NaN</td>\n",
       "      <td>2.0</td>\n",
       "      <td>Presidio Heights</td>\n",
       "      <td>94118.0</td>\n",
       "      <td>(37.78356725139279, -122.4542510829742)</td>\n",
       "    </tr>\n",
       "  </tbody>\n",
       "</table>\n",
       "<p>5 rows × 40 columns</p>\n",
       "</div>"
      ],
      "text/plain": [
       "              Permit Number  Permit Type            Permit Type Definition  \\\n",
       "Record ID                                                                    \n",
       "1329935126609  201401166429            8            otc alterations permit   \n",
       "1474240405552  201708114582            8            otc alterations permit   \n",
       "1401888250267  201511031574            3  additions alterations or repairs   \n",
       "1439604186542       M727147            8            otc alterations permit   \n",
       "1360457239168       M531527            8            otc alterations permit   \n",
       "\n",
       "              Permit Creation Date  Block   Lot  Street Number  \\\n",
       "Record ID                                                        \n",
       "1329935126609           2014-01-16  2121A   025             50   \n",
       "1474240405552           2017-08-11   3731  054A             70   \n",
       "1401888250267           2015-11-03   4700   039             42   \n",
       "1439604186542           2016-10-03   5673   003            320   \n",
       "1360457239168           2014-10-28   1065   046            120   \n",
       "\n",
       "              Street Number Suffix                       Street Name  \\\n",
       "Record ID                                                              \n",
       "1329935126609                  NaN  ed4023faebffe21c9a6796897faadb49   \n",
       "1474240405552                  NaN  58091cd419f36b3852b27525492a5d46   \n",
       "1401888250267                  NaN  b50b47c54bb521be79ae5695582033cd   \n",
       "1439604186542                  NaN  39916b02abacbce9d43cf901485dd79f   \n",
       "1360457239168                  NaN  d28810ed76d0a5bd1b7ca4c1e4372b02   \n",
       "\n",
       "              Street Suffix                    ...                     \\\n",
       "Record ID                                      ...                      \n",
       "1329935126609            Dr                    ...                      \n",
       "1474240405552            St                    ...                      \n",
       "1401888250267            Rd                    ...                      \n",
       "1439604186542            St                    ...                      \n",
       "1360457239168            Av                    ...                      \n",
       "\n",
       "               Plansets Existing Construction Type  \\\n",
       "Record ID                                            \n",
       "1329935126609       0.0                        5.0   \n",
       "1474240405552       2.0                        5.0   \n",
       "1401888250267       3.0                        5.0   \n",
       "1439604186542       NaN                        NaN   \n",
       "1360457239168       NaN                        NaN   \n",
       "\n",
       "              Existing Construction Type Description  \\\n",
       "Record ID                                              \n",
       "1329935126609                         wood frame (5)   \n",
       "1474240405552                         wood frame (5)   \n",
       "1401888250267                         wood frame (5)   \n",
       "1439604186542                                    NaN   \n",
       "1360457239168                                    NaN   \n",
       "\n",
       "              Proposed Construction Type  \\\n",
       "Record ID                                  \n",
       "1329935126609                        5.0   \n",
       "1474240405552                        5.0   \n",
       "1401888250267                        5.0   \n",
       "1439604186542                        NaN   \n",
       "1360457239168                        NaN   \n",
       "\n",
       "              Proposed Construction Type Description Site Permit  \\\n",
       "Record ID                                                          \n",
       "1329935126609                         wood frame (5)         NaN   \n",
       "1474240405552                         wood frame (5)         NaN   \n",
       "1401888250267                         wood frame (5)           Y   \n",
       "1439604186542                                    NaN         NaN   \n",
       "1360457239168                                    NaN         NaN   \n",
       "\n",
       "              Supervisor District Neighborhoods - Analysis Boundaries  \\\n",
       "Record ID                                                               \n",
       "1329935126609                 7.0                        Inner Sunset   \n",
       "1474240405552                 6.0                     South of Market   \n",
       "1401888250267                10.0               Bayview Hunters Point   \n",
       "1439604186542                 9.0                      Bernal Heights   \n",
       "1360457239168                 2.0                    Presidio Heights   \n",
       "\n",
       "               Zipcode                                  Location  \n",
       "Record ID                                                         \n",
       "1329935126609  94116.0   (37.7508801456054, -122.46985995197439)  \n",
       "1474240405552  94103.0  (37.77746581162453, -122.40794981309949)  \n",
       "1401888250267  94124.0  (37.73106843091746, -122.37519264943822)  \n",
       "1439604186542  94110.0   (37.74158162220186, -122.4213438653185)  \n",
       "1360457239168  94118.0   (37.78356725139279, -122.4542510829742)  \n",
       "\n",
       "[5 rows x 40 columns]"
      ]
     },
     "execution_count": 22,
     "metadata": {},
     "output_type": "execute_result"
    }
   ],
   "source": [
    "data.sample(5)"
   ]
  },
  {
   "cell_type": "markdown",
   "metadata": {
    "colab_type": "text",
    "id": "msdkQiRXmiuV"
   },
   "source": [
    "### 1.4. Nunca modificar los datos crudos u originales\n",
    "\n",
    "Guardamos esta tabla procesada en un nuevo csv:"
   ]
  },
  {
   "cell_type": "code",
   "execution_count": 23,
   "metadata": {
    "colab": {
     "autoexec": {
      "startup": false,
      "wait_interval": 0
     }
    },
    "colab_type": "code",
    "id": "h3f2LEKulTeb"
   },
   "outputs": [],
   "source": [
    "data.to_csv('data/Building_Permits_proc_1.csv')"
   ]
  },
  {
   "cell_type": "markdown",
   "metadata": {
    "colab_type": "text",
    "id": "K47gZoAul9Js"
   },
   "source": [
    "## 2. Pasos necesarios"
   ]
  },
  {
   "cell_type": "markdown",
   "metadata": {
    "colab_type": "text",
    "id": "KGz42L4rmBJt"
   },
   "source": [
    "### 2.1. Etiquetas de variables/columnas: no usar caracteres especiales\n",
    "*Verificar que no haya problemas de codificación/encoding*"
   ]
  },
  {
   "cell_type": "markdown",
   "metadata": {
    "colab_type": "text",
    "id": "HhLHVQp_o5AF"
   },
   "source": [
    "Primero revisamos que todos los nombres de columna tengan los caracteres recomendados (es decir, estén dentro de a- Z, 0-9 y _)"
   ]
  },
  {
   "cell_type": "code",
   "execution_count": 24,
   "metadata": {
    "colab": {
     "autoexec": {
      "startup": false,
      "wait_interval": 0
     },
     "base_uri": "https://localhost:8080/",
     "height": 298
    },
    "colab_type": "code",
    "executionInfo": {
     "elapsed": 800,
     "status": "ok",
     "timestamp": 1527782476860,
     "user": {
      "displayName": "Gonzalo Zigaran",
      "photoUrl": "//lh4.googleusercontent.com/-BEu2HQbYbOY/AAAAAAAAAAI/AAAAAAAAAxo/mIlwA_iVLvY/s50-c-k-no/photo.jpg",
      "userId": "113725472126978143740"
     },
     "user_tz": 180
    },
    "id": "dPv_t2OkoyOO",
    "outputId": "ef44f6bd-664f-4739-b049-bed895826f80"
   },
   "outputs": [
    {
     "name": "stderr",
     "output_type": "stream",
     "text": [
      "/opt/conda/lib/python3.6/site-packages/ipykernel_launcher.py:1: FutureWarning: currently extract(expand=None) means expand=False (return Index/Series/DataFrame) but in a future version of pandas this will be changed to expand=True (return DataFrame)\n",
      "  \"\"\"Entry point for launching an IPython kernel.\n"
     ]
    },
    {
     "data": {
      "text/plain": [
       "Index(['Permit Number', 'Permit Type', 'Permit Type Definition',\n",
       "       'Permit Creation Date', 'Street Number', 'Street Number Suffix',\n",
       "       'Street Name', 'Street Suffix', 'Unit Suffix', 'Current Status',\n",
       "       'Current Status Date', 'Filed Date', 'Issued Date', 'Completed Date',\n",
       "       'First Construction Document Date', 'Structural Notification',\n",
       "       'Number of Existing Stories', 'Number of Proposed Stories',\n",
       "       'Fire Only Permit', 'Permit Expiration Date', 'Estimated Cost',\n",
       "       'Revised Cost', 'Existing Use', 'Existing Units', 'Proposed Use',\n",
       "       'Proposed Units', 'Existing Construction Type',\n",
       "       'Existing Construction Type Description', 'Proposed Construction Type',\n",
       "       'Proposed Construction Type Description', 'Site Permit',\n",
       "       'Supervisor District', 'Neighborhoods - Analysis Boundaries'],\n",
       "      dtype='object')"
      ]
     },
     "execution_count": 24,
     "metadata": {},
     "output_type": "execute_result"
    }
   ],
   "source": [
    "data.columns[data.columns != data.columns.str.extract(r'^(\\w+)$')] "
   ]
  },
  {
   "cell_type": "markdown",
   "metadata": {
    "colab_type": "text",
    "id": "nuIge4wWpMe8"
   },
   "source": [
    "Como ya veníamos viendo, se puede observar que la mayoría de las columnas tienen nombres no recomendables, esto es principalmente por el espacio en los nombres de las variables."
   ]
  },
  {
   "cell_type": "code",
   "execution_count": 25,
   "metadata": {
    "colab": {
     "autoexec": {
      "startup": false,
      "wait_interval": 0
     },
     "base_uri": "https://localhost:8080/",
     "height": 89
    },
    "colab_type": "code",
    "executionInfo": {
     "elapsed": 1694,
     "status": "ok",
     "timestamp": 1527782478937,
     "user": {
      "displayName": "Gonzalo Zigaran",
      "photoUrl": "//lh4.googleusercontent.com/-BEu2HQbYbOY/AAAAAAAAAAI/AAAAAAAAAxo/mIlwA_iVLvY/s50-c-k-no/photo.jpg",
      "userId": "113725472126978143740"
     },
     "user_tz": 180
    },
    "id": "WD7DRd7QpWTP",
    "outputId": "99140c85-e9f8-4bb7-8d2c-1dafdb259f2d"
   },
   "outputs": [
    {
     "name": "stderr",
     "output_type": "stream",
     "text": [
      "/opt/conda/lib/python3.6/site-packages/ipykernel_launcher.py:2: FutureWarning: currently extract(expand=None) means expand=False (return Index/Series/DataFrame) but in a future version of pandas this will be changed to expand=True (return DataFrame)\n",
      "  \n"
     ]
    },
    {
     "data": {
      "text/plain": [
       "Index(['Neighborhoods_-_Analysis_Boundaries'], dtype='object')"
      ]
     },
     "execution_count": 25,
     "metadata": {},
     "output_type": "execute_result"
    }
   ],
   "source": [
    "data.columns = data.columns.str.replace(' ', '_')\n",
    "data.columns[data.columns != data.columns.str.extract(r'^(\\w+)$')] "
   ]
  },
  {
   "cell_type": "markdown",
   "metadata": {
    "colab_type": "text",
    "id": "Vo_jisG6phOK"
   },
   "source": [
    "Cambiando el espacio por un \"_\", podemos ver que solo nos queda solucionar un nombre de columna: *Neighborhoods_-_Analysis_Boundaries*"
   ]
  },
  {
   "cell_type": "code",
   "execution_count": 26,
   "metadata": {
    "colab": {
     "autoexec": {
      "startup": false,
      "wait_interval": 0
     },
     "base_uri": "https://localhost:8080/",
     "height": 89
    },
    "colab_type": "code",
    "executionInfo": {
     "elapsed": 2473,
     "status": "ok",
     "timestamp": 1527782481453,
     "user": {
      "displayName": "Gonzalo Zigaran",
      "photoUrl": "//lh4.googleusercontent.com/-BEu2HQbYbOY/AAAAAAAAAAI/AAAAAAAAAxo/mIlwA_iVLvY/s50-c-k-no/photo.jpg",
      "userId": "113725472126978143740"
     },
     "user_tz": 180
    },
    "id": "2GnfXXq3pxXB",
    "outputId": "da6071fe-b99a-4487-eb6e-f38540c65685"
   },
   "outputs": [
    {
     "name": "stderr",
     "output_type": "stream",
     "text": [
      "/opt/conda/lib/python3.6/site-packages/ipykernel_launcher.py:2: FutureWarning: currently extract(expand=None) means expand=False (return Index/Series/DataFrame) but in a future version of pandas this will be changed to expand=True (return DataFrame)\n",
      "  \n"
     ]
    },
    {
     "data": {
      "text/plain": [
       "Index([], dtype='object')"
      ]
     },
     "execution_count": 26,
     "metadata": {},
     "output_type": "execute_result"
    }
   ],
   "source": [
    "data.columns = data.columns.str.replace('_-_', '_')\n",
    "data.columns[data.columns != data.columns.str.extract(r'^(\\w+)$')] "
   ]
  },
  {
   "cell_type": "markdown",
   "metadata": {
    "colab_type": "text",
    "id": "MhG51QMLmH21"
   },
   "source": [
    "### 2.2. Tratar valores faltantes\n",
    "*quitar o imputar*"
   ]
  },
  {
   "cell_type": "code",
   "execution_count": 27,
   "metadata": {
    "colab": {
     "autoexec": {
      "startup": false,
      "wait_interval": 0
     },
     "base_uri": "https://localhost:8080/",
     "height": 555
    },
    "colab_type": "code",
    "executionInfo": {
     "elapsed": 1184,
     "status": "ok",
     "timestamp": 1527782482805,
     "user": {
      "displayName": "Gonzalo Zigaran",
      "photoUrl": "//lh4.googleusercontent.com/-BEu2HQbYbOY/AAAAAAAAAAI/AAAAAAAAAxo/mIlwA_iVLvY/s50-c-k-no/photo.jpg",
      "userId": "113725472126978143740"
     },
     "user_tz": 180
    },
    "id": "0VBCg4Afp_eZ",
    "outputId": "afdbd57b-17aa-4a46-c3dd-2ca6e348c176"
   },
   "outputs": [
    {
     "name": "stdout",
     "output_type": "stream",
     "text": [
      "Porcentaje de valores faltantes por columna:\n"
     ]
    },
    {
     "data": {
      "text/plain": [
       "Street_Number_Suffix                      98.885872\n",
       "Street_Suffix                              1.391654\n",
       "Unit                                      85.178984\n",
       "Unit_Suffix                               99.014077\n",
       "Description                                0.145802\n",
       "Issued_Date                                7.511312\n",
       "Completed_Date                            51.135747\n",
       "First_Construction_Document_Date           7.514329\n",
       "Structural_Notification                   96.519859\n",
       "Number_of_Existing_Stories                21.510307\n",
       "Number_of_Proposed_Stories                21.552539\n",
       "Fire_Only_Permit                          90.534439\n",
       "Permit_Expiration_Date                    26.083459\n",
       "Estimated_Cost                            19.138260\n",
       "Revised_Cost                               3.049774\n",
       "Existing_Use                              20.670689\n",
       "Existing_Units                            25.911513\n",
       "Proposed_Use                              21.336853\n",
       "Proposed_Units                            25.596280\n",
       "Plansets                                  18.757667\n",
       "Existing_Construction_Type                21.802916\n",
       "Existing_Construction_Type_Description    21.802916\n",
       "Proposed_Construction_Type                21.700352\n",
       "Proposed_Construction_Type_Description    21.700352\n",
       "Site_Permit                               97.305681\n",
       "Supervisor_District                        0.863248\n",
       "Neighborhoods_Analysis_Boundaries          0.867270\n",
       "Zipcode                                    0.862745\n",
       "Location                                   0.854701\n",
       "dtype: float64"
      ]
     },
     "execution_count": 27,
     "metadata": {},
     "output_type": "execute_result"
    }
   ],
   "source": [
    "nan_values = data.isnull().sum()\n",
    "\n",
    "print('Porcentaje de valores faltantes por columna:')\n",
    "\n",
    "(nan_values[nan_values > 0] / len(data)) *100"
   ]
  },
  {
   "cell_type": "markdown",
   "metadata": {
    "colab_type": "text",
    "id": "U3cHCBkVrWyB"
   },
   "source": [
    "Podemos ver que varias columnas que tienen más del 85% de los datos faltantes, por lo que cualquier análisis que se haga teniendo en cuenta estas variables va a ser sesgado. Lo mejor es precindir de estas variables."
   ]
  },
  {
   "cell_type": "code",
   "execution_count": 28,
   "metadata": {
    "colab": {
     "autoexec": {
      "startup": false,
      "wait_interval": 0
     }
    },
    "colab_type": "code",
    "id": "A02oSlRNsANq"
   },
   "outputs": [],
   "source": [
    "drop_columns = ['Street_Number_Suffix',\n",
    "                'Unit',\n",
    "                'Unit_Suffix', \n",
    "                'Structural_Notification', \n",
    "                'Fire_Only_Permit', \n",
    "                'Site_Permit']\n",
    "\n",
    "data.drop(drop_columns, \n",
    "          axis=1, \n",
    "          inplace=True)"
   ]
  },
  {
   "cell_type": "code",
   "execution_count": 29,
   "metadata": {
    "colab": {
     "autoexec": {
      "startup": false,
      "wait_interval": 0
     },
     "base_uri": "https://localhost:8080/",
     "height": 451
    },
    "colab_type": "code",
    "executionInfo": {
     "elapsed": 1434,
     "status": "ok",
     "timestamp": 1527782485254,
     "user": {
      "displayName": "Gonzalo Zigaran",
      "photoUrl": "//lh4.googleusercontent.com/-BEu2HQbYbOY/AAAAAAAAAAI/AAAAAAAAAxo/mIlwA_iVLvY/s50-c-k-no/photo.jpg",
      "userId": "113725472126978143740"
     },
     "user_tz": 180
    },
    "id": "X_bk8riEsdWY",
    "outputId": "c3885945-b608-4e12-c984-647c9869f680"
   },
   "outputs": [
    {
     "name": "stdout",
     "output_type": "stream",
     "text": [
      "Porcentaje de valores faltantes por columna:\n"
     ]
    },
    {
     "data": {
      "text/plain": [
       "Street_Suffix                              1.391654\n",
       "Description                                0.145802\n",
       "Issued_Date                                7.511312\n",
       "Completed_Date                            51.135747\n",
       "First_Construction_Document_Date           7.514329\n",
       "Number_of_Existing_Stories                21.510307\n",
       "Number_of_Proposed_Stories                21.552539\n",
       "Permit_Expiration_Date                    26.083459\n",
       "Estimated_Cost                            19.138260\n",
       "Revised_Cost                               3.049774\n",
       "Existing_Use                              20.670689\n",
       "Existing_Units                            25.911513\n",
       "Proposed_Use                              21.336853\n",
       "Proposed_Units                            25.596280\n",
       "Plansets                                  18.757667\n",
       "Existing_Construction_Type                21.802916\n",
       "Existing_Construction_Type_Description    21.802916\n",
       "Proposed_Construction_Type                21.700352\n",
       "Proposed_Construction_Type_Description    21.700352\n",
       "Supervisor_District                        0.863248\n",
       "Neighborhoods_Analysis_Boundaries          0.867270\n",
       "Zipcode                                    0.862745\n",
       "Location                                   0.854701\n",
       "dtype: float64"
      ]
     },
     "execution_count": 29,
     "metadata": {},
     "output_type": "execute_result"
    }
   ],
   "source": [
    "nan_values = data.isnull().sum()\n",
    "\n",
    "print('Porcentaje de valores faltantes por columna:')\n",
    "\n",
    "(nan_values[nan_values > 0] / len(data)) *100"
   ]
  },
  {
   "cell_type": "markdown",
   "metadata": {
    "colab_type": "text",
    "id": "ymKwcQCw74po"
   },
   "source": [
    "Podemos ver que sigue habiendo variables con gran cantidad de valores faltantes, pero que de igual manera tienen una cantidad bastante representativa de valores no nulos. Por lo que su uso o no dependerá de la aplicación."
   ]
  },
  {
   "cell_type": "code",
   "execution_count": 30,
   "metadata": {
    "colab": {
     "autoexec": {
      "startup": false,
      "wait_interval": 0
     },
     "base_uri": "https://localhost:8080/",
     "height": 52
    },
    "colab_type": "code",
    "executionInfo": {
     "elapsed": 2020,
     "status": "ok",
     "timestamp": 1527782715550,
     "user": {
      "displayName": "Gonzalo Zigaran",
      "photoUrl": "//lh4.googleusercontent.com/-BEu2HQbYbOY/AAAAAAAAAAI/AAAAAAAAAxo/mIlwA_iVLvY/s50-c-k-no/photo.jpg",
      "userId": "113725472126978143740"
     },
     "user_tz": 180
    },
    "id": "1bfnwuITsiAY",
    "outputId": "02375643-b174-437f-9c53-933865bf8750"
   },
   "outputs": [
    {
     "name": "stdout",
     "output_type": "stream",
     "text": [
      "86817\n",
      "43.65 %\n"
     ]
    }
   ],
   "source": [
    "print(len(data.dropna()))\n",
    "print('{:.2f} %'.format((len(data.dropna())/len(data)) * 100))"
   ]
  },
  {
   "cell_type": "markdown",
   "metadata": {
    "colab_type": "text",
    "id": "Nbm4ux4c8EtV"
   },
   "source": [
    "En el caso de tirar todas las entradas que tengan algún dato nulo, nos queda más del 43% del dataset original (86817 entradas)."
   ]
  },
  {
   "cell_type": "markdown",
   "metadata": {
    "colab_type": "text",
    "id": "4O5Y3_sTmPEk"
   },
   "source": [
    "### 2.3. Codificar variables: las variables categóricas deben ser etiquetadas como variables numéricas, no como cadenas"
   ]
  },
  {
   "cell_type": "markdown",
   "metadata": {
    "colab_type": "text",
    "id": "lbxtlfc-9BJG"
   },
   "source": [
    "En el dataset tenemos la variable `Current_Status` que es el estado de la aplicación del permiso. Esta variable es categórica, por lo que la transformamos a variables numéricas."
   ]
  },
  {
   "cell_type": "code",
   "execution_count": 31,
   "metadata": {
    "colab": {
     "autoexec": {
      "startup": false,
      "wait_interval": 0
     },
     "base_uri": "https://localhost:8080/",
     "height": 260
    },
    "colab_type": "code",
    "executionInfo": {
     "elapsed": 822,
     "status": "ok",
     "timestamp": 1527782990848,
     "user": {
      "displayName": "Gonzalo Zigaran",
      "photoUrl": "//lh4.googleusercontent.com/-BEu2HQbYbOY/AAAAAAAAAAI/AAAAAAAAAxo/mIlwA_iVLvY/s50-c-k-no/photo.jpg",
      "userId": "113725472126978143740"
     },
     "user_tz": 180
    },
    "id": "gtM23zfE7p9n",
    "outputId": "3c94534c-1c09-4d35-df2c-73706c9dcb9d"
   },
   "outputs": [
    {
     "data": {
      "text/plain": [
       "{'appeal': 0,\n",
       " 'approved': 1,\n",
       " 'cancelled': 2,\n",
       " 'complete': 3,\n",
       " 'disapproved': 4,\n",
       " 'expired': 5,\n",
       " 'filed': 6,\n",
       " 'incomplete': 7,\n",
       " 'issued': 8,\n",
       " 'plancheck': 9,\n",
       " 'reinstated': 10,\n",
       " 'revoked': 11,\n",
       " 'suspend': 12,\n",
       " 'withdrawn': 13}"
      ]
     },
     "execution_count": 31,
     "metadata": {},
     "output_type": "execute_result"
    }
   ],
   "source": [
    "from sklearn import preprocessing\n",
    "\n",
    "le = preprocessing.LabelEncoder()\n",
    "\n",
    "le.fit(data['Current_Status'])\n",
    "\n",
    "dict(zip(le.classes_,le.transform(le.classes_)))"
   ]
  },
  {
   "cell_type": "markdown",
   "metadata": {
    "colab_type": "text",
    "id": "mI6wvXqk9x0w"
   },
   "source": [
    "Se tiene 14 categorías para esta columna, por lo que se va a reemplazar por los valores del 0 al 13 correspondientes:"
   ]
  },
  {
   "cell_type": "code",
   "execution_count": 32,
   "metadata": {
    "colab": {
     "autoexec": {
      "startup": false,
      "wait_interval": 0
     },
     "base_uri": "https://localhost:8080/",
     "height": 139
    },
    "colab_type": "code",
    "executionInfo": {
     "elapsed": 863,
     "status": "ok",
     "timestamp": 1527783140254,
     "user": {
      "displayName": "Gonzalo Zigaran",
      "photoUrl": "//lh4.googleusercontent.com/-BEu2HQbYbOY/AAAAAAAAAAI/AAAAAAAAAxo/mIlwA_iVLvY/s50-c-k-no/photo.jpg",
      "userId": "113725472126978143740"
     },
     "user_tz": 180
    },
    "id": "faLvoku49_RA",
    "outputId": "a2b1ea56-c6a6-4e0b-d7bc-f4c73e30761e"
   },
   "outputs": [
    {
     "data": {
      "text/plain": [
       "Record ID\n",
       "1340039157643    8\n",
       "131989690163     8\n",
       "1453437233622    8\n",
       "138309389548     3\n",
       "1416871165832    3\n",
       "Name: Current_Status, dtype: int64"
      ]
     },
     "execution_count": 32,
     "metadata": {},
     "output_type": "execute_result"
    }
   ],
   "source": [
    "data['Current_Status'] = le.transform(data['Current_Status']) \n",
    "data['Current_Status'].sample(5)"
   ]
  },
  {
   "cell_type": "markdown",
   "metadata": {
    "colab_type": "text",
    "id": "6Ttx8uoSmPrH"
   },
   "source": [
    "### 2.4. No cambiar los nombres de las variables de la fuente de origen"
   ]
  },
  {
   "cell_type": "markdown",
   "metadata": {
    "colab_type": "text",
    "id": "-F0rydUk-a7J"
   },
   "source": [
    "La única transformación que le hicimos a los nombres de las columnas es para que sus caracteres estén dentro de la a-Z, 0-9 y _.\n",
    "\n",
    "De igual manera, siempre tenemos la copia original de los datos, y la referencia con la descripción de cada columna."
   ]
  },
  {
   "cell_type": "markdown",
   "metadata": {
    "colab_type": "text",
    "id": "B99ohg7EmP4l"
   },
   "source": [
    "### 2.5. Verificr la consistencia de las variables\n",
    "*Aplicar reglas de integridad*"
   ]
  },
  {
   "cell_type": "markdown",
   "metadata": {
    "colab_type": "text",
    "id": "K1hWE5qZ_rTl"
   },
   "source": [
    "Vamos a analizar algunas hipótesis que se pueden hacer a partir de la descripción del dataset:\n",
    "\n",
    "¿Hay proyectos con fecha de que se completó, que el estado no sea \"complete\"?"
   ]
  },
  {
   "cell_type": "code",
   "execution_count": 33,
   "metadata": {
    "colab": {
     "autoexec": {
      "startup": false,
      "wait_interval": 0
     },
     "base_uri": "https://localhost:8080/",
     "height": 2023
    },
    "colab_type": "code",
    "executionInfo": {
     "elapsed": 822,
     "status": "ok",
     "timestamp": 1527784055067,
     "user": {
      "displayName": "Gonzalo Zigaran",
      "photoUrl": "//lh4.googleusercontent.com/-BEu2HQbYbOY/AAAAAAAAAAI/AAAAAAAAAxo/mIlwA_iVLvY/s50-c-k-no/photo.jpg",
      "userId": "113725472126978143740"
     },
     "user_tz": 180
    },
    "id": "UsCr22jHAKN0",
    "outputId": "28f4cf04-a126-42d8-9641-20caa19b5297"
   },
   "outputs": [
    {
     "data": {
      "text/html": [
       "<div>\n",
       "<style scoped>\n",
       "    .dataframe tbody tr th:only-of-type {\n",
       "        vertical-align: middle;\n",
       "    }\n",
       "\n",
       "    .dataframe tbody tr th {\n",
       "        vertical-align: top;\n",
       "    }\n",
       "\n",
       "    .dataframe thead th {\n",
       "        text-align: right;\n",
       "    }\n",
       "</style>\n",
       "<table border=\"1\" class=\"dataframe\">\n",
       "  <thead>\n",
       "    <tr style=\"text-align: right;\">\n",
       "      <th></th>\n",
       "      <th>First_Construction_Document_Date</th>\n",
       "      <th>Current_Status</th>\n",
       "    </tr>\n",
       "    <tr>\n",
       "      <th>Record ID</th>\n",
       "      <th></th>\n",
       "      <th></th>\n",
       "    </tr>\n",
       "  </thead>\n",
       "  <tbody>\n",
       "    <tr>\n",
       "      <th>1380611233945</th>\n",
       "      <td>2015-11-09</td>\n",
       "      <td>5</td>\n",
       "    </tr>\n",
       "    <tr>\n",
       "      <th>1420164406718</th>\n",
       "      <td>2017-08-03</td>\n",
       "      <td>8</td>\n",
       "    </tr>\n",
       "    <tr>\n",
       "      <th>144548169992</th>\n",
       "      <td>2017-11-20</td>\n",
       "      <td>8</td>\n",
       "    </tr>\n",
       "    <tr>\n",
       "      <th>1466911170855</th>\n",
       "      <td>2017-07-06</td>\n",
       "      <td>8</td>\n",
       "    </tr>\n",
       "    <tr>\n",
       "      <th>1469035175050</th>\n",
       "      <td>2017-06-30</td>\n",
       "      <td>8</td>\n",
       "    </tr>\n",
       "    <tr>\n",
       "      <th>1469198253772</th>\n",
       "      <td>2017-07-05</td>\n",
       "      <td>8</td>\n",
       "    </tr>\n",
       "    <tr>\n",
       "      <th>146932394171</th>\n",
       "      <td>2017-07-06</td>\n",
       "      <td>8</td>\n",
       "    </tr>\n",
       "    <tr>\n",
       "      <th>1469445246849</th>\n",
       "      <td>2017-07-06</td>\n",
       "      <td>8</td>\n",
       "    </tr>\n",
       "    <tr>\n",
       "      <th>146961582526</th>\n",
       "      <td>2017-07-07</td>\n",
       "      <td>8</td>\n",
       "    </tr>\n",
       "    <tr>\n",
       "      <th>1469781206718</th>\n",
       "      <td>2017-07-10</td>\n",
       "      <td>8</td>\n",
       "    </tr>\n",
       "    <tr>\n",
       "      <th>147203988249</th>\n",
       "      <td>2017-07-26</td>\n",
       "      <td>8</td>\n",
       "    </tr>\n",
       "    <tr>\n",
       "      <th>147208763456</th>\n",
       "      <td>2017-07-27</td>\n",
       "      <td>8</td>\n",
       "    </tr>\n",
       "    <tr>\n",
       "      <th>147211866168</th>\n",
       "      <td>2017-07-27</td>\n",
       "      <td>8</td>\n",
       "    </tr>\n",
       "    <tr>\n",
       "      <th>1472184412108</th>\n",
       "      <td>2017-07-27</td>\n",
       "      <td>8</td>\n",
       "    </tr>\n",
       "    <tr>\n",
       "      <th>1472295408612</th>\n",
       "      <td>2017-07-28</td>\n",
       "      <td>8</td>\n",
       "    </tr>\n",
       "    <tr>\n",
       "      <th>1472619503582</th>\n",
       "      <td>2017-07-31</td>\n",
       "      <td>8</td>\n",
       "    </tr>\n",
       "    <tr>\n",
       "      <th>147359384812</th>\n",
       "      <td>2017-08-07</td>\n",
       "      <td>8</td>\n",
       "    </tr>\n",
       "    <tr>\n",
       "      <th>1473796372030</th>\n",
       "      <td>2017-08-08</td>\n",
       "      <td>8</td>\n",
       "    </tr>\n",
       "    <tr>\n",
       "      <th>1474841115935</th>\n",
       "      <td>2017-08-16</td>\n",
       "      <td>8</td>\n",
       "    </tr>\n",
       "    <tr>\n",
       "      <th>1475223100163</th>\n",
       "      <td>2017-08-18</td>\n",
       "      <td>8</td>\n",
       "    </tr>\n",
       "    <tr>\n",
       "      <th>147537591942</th>\n",
       "      <td>2017-08-21</td>\n",
       "      <td>8</td>\n",
       "    </tr>\n",
       "    <tr>\n",
       "      <th>1475405117215</th>\n",
       "      <td>2017-08-21</td>\n",
       "      <td>8</td>\n",
       "    </tr>\n",
       "    <tr>\n",
       "      <th>1475605447747</th>\n",
       "      <td>2017-08-22</td>\n",
       "      <td>8</td>\n",
       "    </tr>\n",
       "    <tr>\n",
       "      <th>1475757406474</th>\n",
       "      <td>2017-08-23</td>\n",
       "      <td>8</td>\n",
       "    </tr>\n",
       "    <tr>\n",
       "      <th>1475795422554</th>\n",
       "      <td>2017-08-23</td>\n",
       "      <td>8</td>\n",
       "    </tr>\n",
       "    <tr>\n",
       "      <th>1475838161926</th>\n",
       "      <td>2017-08-23</td>\n",
       "      <td>8</td>\n",
       "    </tr>\n",
       "    <tr>\n",
       "      <th>1476234157693</th>\n",
       "      <td>2017-08-25</td>\n",
       "      <td>8</td>\n",
       "    </tr>\n",
       "    <tr>\n",
       "      <th>147627380882</th>\n",
       "      <td>2017-08-25</td>\n",
       "      <td>8</td>\n",
       "    </tr>\n",
       "    <tr>\n",
       "      <th>1476358207225</th>\n",
       "      <td>2017-08-28</td>\n",
       "      <td>8</td>\n",
       "    </tr>\n",
       "    <tr>\n",
       "      <th>1476706208668</th>\n",
       "      <td>2017-08-29</td>\n",
       "      <td>8</td>\n",
       "    </tr>\n",
       "    <tr>\n",
       "      <th>...</th>\n",
       "      <td>...</td>\n",
       "      <td>...</td>\n",
       "    </tr>\n",
       "    <tr>\n",
       "      <th>1498302211585</th>\n",
       "      <td>2018-02-23</td>\n",
       "      <td>8</td>\n",
       "    </tr>\n",
       "    <tr>\n",
       "      <th>1498303240260</th>\n",
       "      <td>2018-02-23</td>\n",
       "      <td>8</td>\n",
       "    </tr>\n",
       "    <tr>\n",
       "      <th>1498306163785</th>\n",
       "      <td>2018-02-23</td>\n",
       "      <td>8</td>\n",
       "    </tr>\n",
       "    <tr>\n",
       "      <th>1498307510751</th>\n",
       "      <td>2018-02-23</td>\n",
       "      <td>8</td>\n",
       "    </tr>\n",
       "    <tr>\n",
       "      <th>149831477799</th>\n",
       "      <td>2018-02-23</td>\n",
       "      <td>8</td>\n",
       "    </tr>\n",
       "    <tr>\n",
       "      <th>149831769278</th>\n",
       "      <td>2018-02-23</td>\n",
       "      <td>8</td>\n",
       "    </tr>\n",
       "    <tr>\n",
       "      <th>149831995656</th>\n",
       "      <td>2018-02-23</td>\n",
       "      <td>8</td>\n",
       "    </tr>\n",
       "    <tr>\n",
       "      <th>149832188915</th>\n",
       "      <td>2018-02-23</td>\n",
       "      <td>8</td>\n",
       "    </tr>\n",
       "    <tr>\n",
       "      <th>1498323503727</th>\n",
       "      <td>2018-02-23</td>\n",
       "      <td>8</td>\n",
       "    </tr>\n",
       "    <tr>\n",
       "      <th>1498324188365</th>\n",
       "      <td>2018-02-23</td>\n",
       "      <td>8</td>\n",
       "    </tr>\n",
       "    <tr>\n",
       "      <th>1498326347379</th>\n",
       "      <td>2018-02-23</td>\n",
       "      <td>8</td>\n",
       "    </tr>\n",
       "    <tr>\n",
       "      <th>1498327347381</th>\n",
       "      <td>2018-02-23</td>\n",
       "      <td>8</td>\n",
       "    </tr>\n",
       "    <tr>\n",
       "      <th>1498328241068</th>\n",
       "      <td>2018-02-23</td>\n",
       "      <td>8</td>\n",
       "    </tr>\n",
       "    <tr>\n",
       "      <th>1498330475722</th>\n",
       "      <td>2018-02-23</td>\n",
       "      <td>8</td>\n",
       "    </tr>\n",
       "    <tr>\n",
       "      <th>1498331399024</th>\n",
       "      <td>2018-02-23</td>\n",
       "      <td>8</td>\n",
       "    </tr>\n",
       "    <tr>\n",
       "      <th>149833392632</th>\n",
       "      <td>2018-02-23</td>\n",
       "      <td>8</td>\n",
       "    </tr>\n",
       "    <tr>\n",
       "      <th>1498334221586</th>\n",
       "      <td>2018-02-23</td>\n",
       "      <td>8</td>\n",
       "    </tr>\n",
       "    <tr>\n",
       "      <th>1498336195616</th>\n",
       "      <td>2018-02-23</td>\n",
       "      <td>8</td>\n",
       "    </tr>\n",
       "    <tr>\n",
       "      <th>1498337116842</th>\n",
       "      <td>2018-02-23</td>\n",
       "      <td>8</td>\n",
       "    </tr>\n",
       "    <tr>\n",
       "      <th>1498338347099</th>\n",
       "      <td>2018-02-23</td>\n",
       "      <td>8</td>\n",
       "    </tr>\n",
       "    <tr>\n",
       "      <th>1498339194341</th>\n",
       "      <td>2018-02-23</td>\n",
       "      <td>8</td>\n",
       "    </tr>\n",
       "    <tr>\n",
       "      <th>149834069380</th>\n",
       "      <td>2018-02-23</td>\n",
       "      <td>8</td>\n",
       "    </tr>\n",
       "    <tr>\n",
       "      <th>148838081446</th>\n",
       "      <td>2017-12-08</td>\n",
       "      <td>8</td>\n",
       "    </tr>\n",
       "    <tr>\n",
       "      <th>148916691540</th>\n",
       "      <td>2018-01-16</td>\n",
       "      <td>8</td>\n",
       "    </tr>\n",
       "    <tr>\n",
       "      <th>1489308256860</th>\n",
       "      <td>2017-12-05</td>\n",
       "      <td>8</td>\n",
       "    </tr>\n",
       "    <tr>\n",
       "      <th>1489337276729</th>\n",
       "      <td>2017-12-05</td>\n",
       "      <td>8</td>\n",
       "    </tr>\n",
       "    <tr>\n",
       "      <th>1489462354993</th>\n",
       "      <td>2017-12-06</td>\n",
       "      <td>8</td>\n",
       "    </tr>\n",
       "    <tr>\n",
       "      <th>1489539379952</th>\n",
       "      <td>2017-12-06</td>\n",
       "      <td>8</td>\n",
       "    </tr>\n",
       "    <tr>\n",
       "      <th>1489608233656</th>\n",
       "      <td>2017-12-06</td>\n",
       "      <td>8</td>\n",
       "    </tr>\n",
       "    <tr>\n",
       "      <th>1489796283803</th>\n",
       "      <td>2017-12-07</td>\n",
       "      <td>8</td>\n",
       "    </tr>\n",
       "  </tbody>\n",
       "</table>\n",
       "<p>86917 rows × 2 columns</p>\n",
       "</div>"
      ],
      "text/plain": [
       "              First_Construction_Document_Date  Current_Status\n",
       "Record ID                                                     \n",
       "1380611233945                       2015-11-09               5\n",
       "1420164406718                       2017-08-03               8\n",
       "144548169992                        2017-11-20               8\n",
       "1466911170855                       2017-07-06               8\n",
       "1469035175050                       2017-06-30               8\n",
       "1469198253772                       2017-07-05               8\n",
       "146932394171                        2017-07-06               8\n",
       "1469445246849                       2017-07-06               8\n",
       "146961582526                        2017-07-07               8\n",
       "1469781206718                       2017-07-10               8\n",
       "147203988249                        2017-07-26               8\n",
       "147208763456                        2017-07-27               8\n",
       "147211866168                        2017-07-27               8\n",
       "1472184412108                       2017-07-27               8\n",
       "1472295408612                       2017-07-28               8\n",
       "1472619503582                       2017-07-31               8\n",
       "147359384812                        2017-08-07               8\n",
       "1473796372030                       2017-08-08               8\n",
       "1474841115935                       2017-08-16               8\n",
       "1475223100163                       2017-08-18               8\n",
       "147537591942                        2017-08-21               8\n",
       "1475405117215                       2017-08-21               8\n",
       "1475605447747                       2017-08-22               8\n",
       "1475757406474                       2017-08-23               8\n",
       "1475795422554                       2017-08-23               8\n",
       "1475838161926                       2017-08-23               8\n",
       "1476234157693                       2017-08-25               8\n",
       "147627380882                        2017-08-25               8\n",
       "1476358207225                       2017-08-28               8\n",
       "1476706208668                       2017-08-29               8\n",
       "...                                        ...             ...\n",
       "1498302211585                       2018-02-23               8\n",
       "1498303240260                       2018-02-23               8\n",
       "1498306163785                       2018-02-23               8\n",
       "1498307510751                       2018-02-23               8\n",
       "149831477799                        2018-02-23               8\n",
       "149831769278                        2018-02-23               8\n",
       "149831995656                        2018-02-23               8\n",
       "149832188915                        2018-02-23               8\n",
       "1498323503727                       2018-02-23               8\n",
       "1498324188365                       2018-02-23               8\n",
       "1498326347379                       2018-02-23               8\n",
       "1498327347381                       2018-02-23               8\n",
       "1498328241068                       2018-02-23               8\n",
       "1498330475722                       2018-02-23               8\n",
       "1498331399024                       2018-02-23               8\n",
       "149833392632                        2018-02-23               8\n",
       "1498334221586                       2018-02-23               8\n",
       "1498336195616                       2018-02-23               8\n",
       "1498337116842                       2018-02-23               8\n",
       "1498338347099                       2018-02-23               8\n",
       "1498339194341                       2018-02-23               8\n",
       "149834069380                        2018-02-23               8\n",
       "148838081446                        2017-12-08               8\n",
       "148916691540                        2018-01-16               8\n",
       "1489308256860                       2017-12-05               8\n",
       "1489337276729                       2017-12-05               8\n",
       "1489462354993                       2017-12-06               8\n",
       "1489539379952                       2017-12-06               8\n",
       "1489608233656                       2017-12-06               8\n",
       "1489796283803                       2017-12-07               8\n",
       "\n",
       "[86917 rows x 2 columns]"
      ]
     },
     "execution_count": 33,
     "metadata": {},
     "output_type": "execute_result"
    }
   ],
   "source": [
    "import datetime\n",
    "data[(data.First_Construction_Document_Date < datetime.datetime.now()) & (data.Current_Status != 3)][['First_Construction_Document_Date', 'Current_Status']]"
   ]
  },
  {
   "cell_type": "markdown",
   "metadata": {
    "colab_type": "text",
    "id": "cObkRRlFBgzO"
   },
   "source": [
    "Hay muchos casos, por lo que la descripción del dataset no es correcta o hubo algún error al cargar los datos.\n",
    "\n",
    "¿Hay proyectos que tengan la fecha de presentación del permiso posterior a la fecha de emisión del permiso?"
   ]
  },
  {
   "cell_type": "code",
   "execution_count": 34,
   "metadata": {
    "colab": {
     "autoexec": {
      "startup": false,
      "wait_interval": 0
     },
     "base_uri": "https://localhost:8080/",
     "height": 147
    },
    "colab_type": "code",
    "executionInfo": {
     "elapsed": 1079,
     "status": "ok",
     "timestamp": 1527784291366,
     "user": {
      "displayName": "Gonzalo Zigaran",
      "photoUrl": "//lh4.googleusercontent.com/-BEu2HQbYbOY/AAAAAAAAAAI/AAAAAAAAAxo/mIlwA_iVLvY/s50-c-k-no/photo.jpg",
      "userId": "113725472126978143740"
     },
     "user_tz": 180
    },
    "id": "aOVdnGiqCBIS",
    "outputId": "c64c752b-fe31-42a8-bdcc-17aff3a9b9d7"
   },
   "outputs": [
    {
     "data": {
      "text/html": [
       "<div>\n",
       "<style scoped>\n",
       "    .dataframe tbody tr th:only-of-type {\n",
       "        vertical-align: middle;\n",
       "    }\n",
       "\n",
       "    .dataframe tbody tr th {\n",
       "        vertical-align: top;\n",
       "    }\n",
       "\n",
       "    .dataframe thead th {\n",
       "        text-align: right;\n",
       "    }\n",
       "</style>\n",
       "<table border=\"1\" class=\"dataframe\">\n",
       "  <thead>\n",
       "    <tr style=\"text-align: right;\">\n",
       "      <th></th>\n",
       "      <th>Permit_Number</th>\n",
       "      <th>Permit_Type</th>\n",
       "      <th>Permit_Type_Definition</th>\n",
       "      <th>Permit_Creation_Date</th>\n",
       "      <th>Block</th>\n",
       "      <th>Lot</th>\n",
       "      <th>Street_Number</th>\n",
       "      <th>Street_Name</th>\n",
       "      <th>Street_Suffix</th>\n",
       "      <th>Description</th>\n",
       "      <th>...</th>\n",
       "      <th>Proposed_Units</th>\n",
       "      <th>Plansets</th>\n",
       "      <th>Existing_Construction_Type</th>\n",
       "      <th>Existing_Construction_Type_Description</th>\n",
       "      <th>Proposed_Construction_Type</th>\n",
       "      <th>Proposed_Construction_Type_Description</th>\n",
       "      <th>Supervisor_District</th>\n",
       "      <th>Neighborhoods_Analysis_Boundaries</th>\n",
       "      <th>Zipcode</th>\n",
       "      <th>Location</th>\n",
       "    </tr>\n",
       "    <tr>\n",
       "      <th>Record ID</th>\n",
       "      <th></th>\n",
       "      <th></th>\n",
       "      <th></th>\n",
       "      <th></th>\n",
       "      <th></th>\n",
       "      <th></th>\n",
       "      <th></th>\n",
       "      <th></th>\n",
       "      <th></th>\n",
       "      <th></th>\n",
       "      <th></th>\n",
       "      <th></th>\n",
       "      <th></th>\n",
       "      <th></th>\n",
       "      <th></th>\n",
       "      <th></th>\n",
       "      <th></th>\n",
       "      <th></th>\n",
       "      <th></th>\n",
       "      <th></th>\n",
       "      <th></th>\n",
       "    </tr>\n",
       "  </thead>\n",
       "  <tbody>\n",
       "  </tbody>\n",
       "</table>\n",
       "<p>0 rows × 34 columns</p>\n",
       "</div>"
      ],
      "text/plain": [
       "Empty DataFrame\n",
       "Columns: [Permit_Number, Permit_Type, Permit_Type_Definition, Permit_Creation_Date, Block, Lot, Street_Number, Street_Name, Street_Suffix, Description, Current_Status, Current_Status_Date, Filed_Date, Issued_Date, Completed_Date, First_Construction_Document_Date, Number_of_Existing_Stories, Number_of_Proposed_Stories, Permit_Expiration_Date, Estimated_Cost, Revised_Cost, Existing_Use, Existing_Units, Proposed_Use, Proposed_Units, Plansets, Existing_Construction_Type, Existing_Construction_Type_Description, Proposed_Construction_Type, Proposed_Construction_Type_Description, Supervisor_District, Neighborhoods_Analysis_Boundaries, Zipcode, Location]\n",
       "Index: []\n",
       "\n",
       "[0 rows x 34 columns]"
      ]
     },
     "execution_count": 34,
     "metadata": {},
     "output_type": "execute_result"
    }
   ],
   "source": [
    "data[(data.Filed_Date > data.Issued_Date)]"
   ]
  },
  {
   "cell_type": "markdown",
   "metadata": {
    "colab_type": "text",
    "id": "Cff4FR5dCngZ"
   },
   "source": [
    "En este caso no hay ningun caso, por lo que es consistente con la hipótesis.\n",
    "\n",
    "¿Hay proyectos que tengan la fecha de presentación del permiso posterior a la fecha en que se crea el permiso?"
   ]
  },
  {
   "cell_type": "code",
   "execution_count": 35,
   "metadata": {
    "colab": {
     "autoexec": {
      "startup": false,
      "wait_interval": 0
     },
     "base_uri": "https://localhost:8080/",
     "height": 2023
    },
    "colab_type": "code",
    "executionInfo": {
     "elapsed": 821,
     "status": "ok",
     "timestamp": 1527784529280,
     "user": {
      "displayName": "Gonzalo Zigaran",
      "photoUrl": "//lh4.googleusercontent.com/-BEu2HQbYbOY/AAAAAAAAAAI/AAAAAAAAAxo/mIlwA_iVLvY/s50-c-k-no/photo.jpg",
      "userId": "113725472126978143740"
     },
     "user_tz": 180
    },
    "id": "ECBdU8drDLGS",
    "outputId": "3e0866e0-9671-4e19-f43f-258ba82fa1f4"
   },
   "outputs": [
    {
     "data": {
      "text/html": [
       "<div>\n",
       "<style scoped>\n",
       "    .dataframe tbody tr th:only-of-type {\n",
       "        vertical-align: middle;\n",
       "    }\n",
       "\n",
       "    .dataframe tbody tr th {\n",
       "        vertical-align: top;\n",
       "    }\n",
       "\n",
       "    .dataframe thead th {\n",
       "        text-align: right;\n",
       "    }\n",
       "</style>\n",
       "<table border=\"1\" class=\"dataframe\">\n",
       "  <thead>\n",
       "    <tr style=\"text-align: right;\">\n",
       "      <th></th>\n",
       "      <th>Filed_Date</th>\n",
       "      <th>Permit_Creation_Date</th>\n",
       "    </tr>\n",
       "    <tr>\n",
       "      <th>Record ID</th>\n",
       "      <th></th>\n",
       "      <th></th>\n",
       "    </tr>\n",
       "  </thead>\n",
       "  <tbody>\n",
       "    <tr>\n",
       "      <th>1292906221024</th>\n",
       "      <td>2013-01-10</td>\n",
       "      <td>2013-01-09</td>\n",
       "    </tr>\n",
       "    <tr>\n",
       "      <th>129299497398</th>\n",
       "      <td>2013-01-10</td>\n",
       "      <td>2013-01-09</td>\n",
       "    </tr>\n",
       "    <tr>\n",
       "      <th>1294917399666</th>\n",
       "      <td>2013-01-31</td>\n",
       "      <td>2013-01-07</td>\n",
       "    </tr>\n",
       "    <tr>\n",
       "      <th>129715878199</th>\n",
       "      <td>2013-02-26</td>\n",
       "      <td>2013-02-25</td>\n",
       "    </tr>\n",
       "    <tr>\n",
       "      <th>1297865384129</th>\n",
       "      <td>2013-03-05</td>\n",
       "      <td>2013-02-25</td>\n",
       "    </tr>\n",
       "    <tr>\n",
       "      <th>129824586553</th>\n",
       "      <td>2013-03-08</td>\n",
       "      <td>2013-03-04</td>\n",
       "    </tr>\n",
       "    <tr>\n",
       "      <th>1298320213629</th>\n",
       "      <td>2013-03-11</td>\n",
       "      <td>2013-03-08</td>\n",
       "    </tr>\n",
       "    <tr>\n",
       "      <th>1298321168952</th>\n",
       "      <td>2013-03-11</td>\n",
       "      <td>2013-03-08</td>\n",
       "    </tr>\n",
       "    <tr>\n",
       "      <th>1300082351731</th>\n",
       "      <td>2013-03-28</td>\n",
       "      <td>2012-03-28</td>\n",
       "    </tr>\n",
       "    <tr>\n",
       "      <th>1300090169668</th>\n",
       "      <td>2013-03-28</td>\n",
       "      <td>2012-03-28</td>\n",
       "    </tr>\n",
       "    <tr>\n",
       "      <th>1300122438273</th>\n",
       "      <td>2013-03-28</td>\n",
       "      <td>2013-03-27</td>\n",
       "    </tr>\n",
       "    <tr>\n",
       "      <th>130012861811</th>\n",
       "      <td>2013-03-28</td>\n",
       "      <td>2012-03-28</td>\n",
       "    </tr>\n",
       "    <tr>\n",
       "      <th>1300133459691</th>\n",
       "      <td>2013-03-28</td>\n",
       "      <td>2012-03-28</td>\n",
       "    </tr>\n",
       "    <tr>\n",
       "      <th>1301086163807</th>\n",
       "      <td>2013-04-09</td>\n",
       "      <td>2013-04-08</td>\n",
       "    </tr>\n",
       "    <tr>\n",
       "      <th>1301351489863</th>\n",
       "      <td>2013-04-10</td>\n",
       "      <td>2013-04-03</td>\n",
       "    </tr>\n",
       "    <tr>\n",
       "      <th>130200666079</th>\n",
       "      <td>2013-04-17</td>\n",
       "      <td>2013-04-02</td>\n",
       "    </tr>\n",
       "    <tr>\n",
       "      <th>1302095347544</th>\n",
       "      <td>2013-04-18</td>\n",
       "      <td>2013-04-11</td>\n",
       "    </tr>\n",
       "    <tr>\n",
       "      <th>1304074408806</th>\n",
       "      <td>2013-05-08</td>\n",
       "      <td>2013-05-06</td>\n",
       "    </tr>\n",
       "    <tr>\n",
       "      <th>1304699354760</th>\n",
       "      <td>2013-05-14</td>\n",
       "      <td>2013-04-23</td>\n",
       "    </tr>\n",
       "    <tr>\n",
       "      <th>130499761599</th>\n",
       "      <td>2013-05-16</td>\n",
       "      <td>2013-05-15</td>\n",
       "    </tr>\n",
       "    <tr>\n",
       "      <th>1305027164656</th>\n",
       "      <td>2013-05-16</td>\n",
       "      <td>2013-05-15</td>\n",
       "    </tr>\n",
       "    <tr>\n",
       "      <th>1305277175190</th>\n",
       "      <td>2013-05-20</td>\n",
       "      <td>2013-01-25</td>\n",
       "    </tr>\n",
       "    <tr>\n",
       "      <th>1309228228317</th>\n",
       "      <td>2013-06-25</td>\n",
       "      <td>2013-06-13</td>\n",
       "    </tr>\n",
       "    <tr>\n",
       "      <th>1310896103060</th>\n",
       "      <td>2013-07-12</td>\n",
       "      <td>2013-06-11</td>\n",
       "    </tr>\n",
       "    <tr>\n",
       "      <th>1312210125275</th>\n",
       "      <td>2013-07-25</td>\n",
       "      <td>2013-07-24</td>\n",
       "    </tr>\n",
       "    <tr>\n",
       "      <th>1312416413168</th>\n",
       "      <td>2013-07-29</td>\n",
       "      <td>2013-07-12</td>\n",
       "    </tr>\n",
       "    <tr>\n",
       "      <th>1312945145157</th>\n",
       "      <td>2013-08-01</td>\n",
       "      <td>2013-07-19</td>\n",
       "    </tr>\n",
       "    <tr>\n",
       "      <th>1312947138931</th>\n",
       "      <td>2013-08-01</td>\n",
       "      <td>2013-07-19</td>\n",
       "    </tr>\n",
       "    <tr>\n",
       "      <th>1313293156294</th>\n",
       "      <td>2013-08-06</td>\n",
       "      <td>2013-07-12</td>\n",
       "    </tr>\n",
       "    <tr>\n",
       "      <th>1313606162806</th>\n",
       "      <td>2013-08-08</td>\n",
       "      <td>2013-08-07</td>\n",
       "    </tr>\n",
       "    <tr>\n",
       "      <th>...</th>\n",
       "      <td>...</td>\n",
       "      <td>...</td>\n",
       "    </tr>\n",
       "    <tr>\n",
       "      <th>1490545373934</th>\n",
       "      <td>2017-12-13</td>\n",
       "      <td>2017-12-08</td>\n",
       "    </tr>\n",
       "    <tr>\n",
       "      <th>1490551482807</th>\n",
       "      <td>2017-12-13</td>\n",
       "      <td>2017-12-08</td>\n",
       "    </tr>\n",
       "    <tr>\n",
       "      <th>1490706160015</th>\n",
       "      <td>2017-09-13</td>\n",
       "      <td>2017-09-12</td>\n",
       "    </tr>\n",
       "    <tr>\n",
       "      <th>1490707285348</th>\n",
       "      <td>2017-09-13</td>\n",
       "      <td>2017-09-12</td>\n",
       "    </tr>\n",
       "    <tr>\n",
       "      <th>1491064351941</th>\n",
       "      <td>2017-12-19</td>\n",
       "      <td>2017-12-08</td>\n",
       "    </tr>\n",
       "    <tr>\n",
       "      <th>1491245209702</th>\n",
       "      <td>2017-12-19</td>\n",
       "      <td>2017-12-15</td>\n",
       "    </tr>\n",
       "    <tr>\n",
       "      <th>1491323474529</th>\n",
       "      <td>2017-12-20</td>\n",
       "      <td>2017-12-07</td>\n",
       "    </tr>\n",
       "    <tr>\n",
       "      <th>1492038507987</th>\n",
       "      <td>2017-12-28</td>\n",
       "      <td>2017-10-10</td>\n",
       "    </tr>\n",
       "    <tr>\n",
       "      <th>1492122177117</th>\n",
       "      <td>2017-12-29</td>\n",
       "      <td>2017-12-20</td>\n",
       "    </tr>\n",
       "    <tr>\n",
       "      <th>1492125177117</th>\n",
       "      <td>2017-12-29</td>\n",
       "      <td>2017-12-20</td>\n",
       "    </tr>\n",
       "    <tr>\n",
       "      <th>149216062219</th>\n",
       "      <td>2018-02-01</td>\n",
       "      <td>2017-12-29</td>\n",
       "    </tr>\n",
       "    <tr>\n",
       "      <th>149257984610</th>\n",
       "      <td>2018-01-05</td>\n",
       "      <td>2017-11-06</td>\n",
       "    </tr>\n",
       "    <tr>\n",
       "      <th>1492581164976</th>\n",
       "      <td>2018-01-05</td>\n",
       "      <td>2017-11-06</td>\n",
       "    </tr>\n",
       "    <tr>\n",
       "      <th>149258356353</th>\n",
       "      <td>2018-01-05</td>\n",
       "      <td>2017-11-06</td>\n",
       "    </tr>\n",
       "    <tr>\n",
       "      <th>1492584233834</th>\n",
       "      <td>2018-01-05</td>\n",
       "      <td>2017-11-06</td>\n",
       "    </tr>\n",
       "    <tr>\n",
       "      <th>149258557476</th>\n",
       "      <td>2018-01-05</td>\n",
       "      <td>2017-11-06</td>\n",
       "    </tr>\n",
       "    <tr>\n",
       "      <th>1492588171883</th>\n",
       "      <td>2018-01-05</td>\n",
       "      <td>2017-11-06</td>\n",
       "    </tr>\n",
       "    <tr>\n",
       "      <th>1492589394479</th>\n",
       "      <td>2018-01-05</td>\n",
       "      <td>2017-11-06</td>\n",
       "    </tr>\n",
       "    <tr>\n",
       "      <th>1492858495525</th>\n",
       "      <td>2018-01-08</td>\n",
       "      <td>2017-09-14</td>\n",
       "    </tr>\n",
       "    <tr>\n",
       "      <th>1492859495524</th>\n",
       "      <td>2018-01-08</td>\n",
       "      <td>2017-09-14</td>\n",
       "    </tr>\n",
       "    <tr>\n",
       "      <th>1492860495523</th>\n",
       "      <td>2018-01-08</td>\n",
       "      <td>2017-09-14</td>\n",
       "    </tr>\n",
       "    <tr>\n",
       "      <th>1492880186766</th>\n",
       "      <td>2018-01-09</td>\n",
       "      <td>2018-01-05</td>\n",
       "    </tr>\n",
       "    <tr>\n",
       "      <th>1493160184330</th>\n",
       "      <td>2018-01-18</td>\n",
       "      <td>2018-01-10</td>\n",
       "    </tr>\n",
       "    <tr>\n",
       "      <th>1493231348621</th>\n",
       "      <td>2018-01-11</td>\n",
       "      <td>2018-01-05</td>\n",
       "    </tr>\n",
       "    <tr>\n",
       "      <th>1493233348621</th>\n",
       "      <td>2018-01-11</td>\n",
       "      <td>2018-01-05</td>\n",
       "    </tr>\n",
       "    <tr>\n",
       "      <th>1494299175440</th>\n",
       "      <td>2018-01-22</td>\n",
       "      <td>2017-12-07</td>\n",
       "    </tr>\n",
       "    <tr>\n",
       "      <th>149601385588</th>\n",
       "      <td>2018-02-06</td>\n",
       "      <td>2018-01-18</td>\n",
       "    </tr>\n",
       "    <tr>\n",
       "      <th>1496270489715</th>\n",
       "      <td>2018-02-07</td>\n",
       "      <td>2017-09-20</td>\n",
       "    </tr>\n",
       "    <tr>\n",
       "      <th>1496271495332</th>\n",
       "      <td>2018-02-07</td>\n",
       "      <td>2017-09-20</td>\n",
       "    </tr>\n",
       "    <tr>\n",
       "      <th>149696992840</th>\n",
       "      <td>2018-02-13</td>\n",
       "      <td>2016-10-25</td>\n",
       "    </tr>\n",
       "  </tbody>\n",
       "</table>\n",
       "<p>492 rows × 2 columns</p>\n",
       "</div>"
      ],
      "text/plain": [
       "              Filed_Date Permit_Creation_Date\n",
       "Record ID                                    \n",
       "1292906221024 2013-01-10           2013-01-09\n",
       "129299497398  2013-01-10           2013-01-09\n",
       "1294917399666 2013-01-31           2013-01-07\n",
       "129715878199  2013-02-26           2013-02-25\n",
       "1297865384129 2013-03-05           2013-02-25\n",
       "129824586553  2013-03-08           2013-03-04\n",
       "1298320213629 2013-03-11           2013-03-08\n",
       "1298321168952 2013-03-11           2013-03-08\n",
       "1300082351731 2013-03-28           2012-03-28\n",
       "1300090169668 2013-03-28           2012-03-28\n",
       "1300122438273 2013-03-28           2013-03-27\n",
       "130012861811  2013-03-28           2012-03-28\n",
       "1300133459691 2013-03-28           2012-03-28\n",
       "1301086163807 2013-04-09           2013-04-08\n",
       "1301351489863 2013-04-10           2013-04-03\n",
       "130200666079  2013-04-17           2013-04-02\n",
       "1302095347544 2013-04-18           2013-04-11\n",
       "1304074408806 2013-05-08           2013-05-06\n",
       "1304699354760 2013-05-14           2013-04-23\n",
       "130499761599  2013-05-16           2013-05-15\n",
       "1305027164656 2013-05-16           2013-05-15\n",
       "1305277175190 2013-05-20           2013-01-25\n",
       "1309228228317 2013-06-25           2013-06-13\n",
       "1310896103060 2013-07-12           2013-06-11\n",
       "1312210125275 2013-07-25           2013-07-24\n",
       "1312416413168 2013-07-29           2013-07-12\n",
       "1312945145157 2013-08-01           2013-07-19\n",
       "1312947138931 2013-08-01           2013-07-19\n",
       "1313293156294 2013-08-06           2013-07-12\n",
       "1313606162806 2013-08-08           2013-08-07\n",
       "...                  ...                  ...\n",
       "1490545373934 2017-12-13           2017-12-08\n",
       "1490551482807 2017-12-13           2017-12-08\n",
       "1490706160015 2017-09-13           2017-09-12\n",
       "1490707285348 2017-09-13           2017-09-12\n",
       "1491064351941 2017-12-19           2017-12-08\n",
       "1491245209702 2017-12-19           2017-12-15\n",
       "1491323474529 2017-12-20           2017-12-07\n",
       "1492038507987 2017-12-28           2017-10-10\n",
       "1492122177117 2017-12-29           2017-12-20\n",
       "1492125177117 2017-12-29           2017-12-20\n",
       "149216062219  2018-02-01           2017-12-29\n",
       "149257984610  2018-01-05           2017-11-06\n",
       "1492581164976 2018-01-05           2017-11-06\n",
       "149258356353  2018-01-05           2017-11-06\n",
       "1492584233834 2018-01-05           2017-11-06\n",
       "149258557476  2018-01-05           2017-11-06\n",
       "1492588171883 2018-01-05           2017-11-06\n",
       "1492589394479 2018-01-05           2017-11-06\n",
       "1492858495525 2018-01-08           2017-09-14\n",
       "1492859495524 2018-01-08           2017-09-14\n",
       "1492860495523 2018-01-08           2017-09-14\n",
       "1492880186766 2018-01-09           2018-01-05\n",
       "1493160184330 2018-01-18           2018-01-10\n",
       "1493231348621 2018-01-11           2018-01-05\n",
       "1493233348621 2018-01-11           2018-01-05\n",
       "1494299175440 2018-01-22           2017-12-07\n",
       "149601385588  2018-02-06           2018-01-18\n",
       "1496270489715 2018-02-07           2017-09-20\n",
       "1496271495332 2018-02-07           2017-09-20\n",
       "149696992840  2018-02-13           2016-10-25\n",
       "\n",
       "[492 rows x 2 columns]"
      ]
     },
     "execution_count": 35,
     "metadata": {},
     "output_type": "execute_result"
    }
   ],
   "source": [
    "data[(data.Filed_Date > data.Permit_Creation_Date)][['Filed_Date','Permit_Creation_Date']]"
   ]
  },
  {
   "cell_type": "markdown",
   "metadata": {
    "colab_type": "text",
    "id": "kcm5ExuHDWKx"
   },
   "source": [
    "En este caso hay 492 entradas que no cumplen esta hipótesis. Para el tamañano que tiene el dataset son relativamente pocas filas, pero no deja de ser un dato llamativo."
   ]
  },
  {
   "cell_type": "markdown",
   "metadata": {
    "colab_type": "text",
    "id": "2psKusV6mQE1"
   },
   "source": [
    "### 2.6. Identificar y documentar valores atípicos/outliers\n",
    "*Calcular estadísticos*"
   ]
  },
  {
   "cell_type": "code",
   "execution_count": 36,
   "metadata": {
    "colab": {
     "autoexec": {
      "startup": false,
      "wait_interval": 0
     },
     "base_uri": "https://localhost:8080/",
     "height": 282
    },
    "colab_type": "code",
    "executionInfo": {
     "elapsed": 881,
     "status": "ok",
     "timestamp": 1527785495161,
     "user": {
      "displayName": "Gonzalo Zigaran",
      "photoUrl": "//lh4.googleusercontent.com/-BEu2HQbYbOY/AAAAAAAAAAI/AAAAAAAAAxo/mIlwA_iVLvY/s50-c-k-no/photo.jpg",
      "userId": "113725472126978143740"
     },
     "user_tz": 180
    },
    "id": "bUHf0pDdFXaf",
    "outputId": "8d8018b4-e088-47fe-fdeb-d34ea55f9f48"
   },
   "outputs": [
    {
     "data": {
      "text/plain": [
       "<matplotlib.axes._subplots.AxesSubplot at 0x7fae53d06d68>"
      ]
     },
     "execution_count": 36,
     "metadata": {},
     "output_type": "execute_result"
    },
    {
     "data": {
      "image/png": "[encoded data removed]",
      "text/plain": [
       "<matplotlib.figure.Figure at 0x7fae673fa278>"
      ]
     },
     "metadata": {},
     "output_type": "display_data"
    }
   ],
   "source": [
    "%matplotlib inline\n",
    "data.Current_Status_Date.hist()"
   ]
  },
  {
   "cell_type": "markdown",
   "metadata": {
    "colab_type": "text",
    "id": "9_GDOxmeHLlF"
   },
   "source": [
    "Podemos ver que hay entradas con fecha de cambio de estado en el 2019, vamos a verlo con más detalle:"
   ]
  },
  {
   "cell_type": "code",
   "execution_count": 37,
   "metadata": {
    "colab": {
     "autoexec": {
      "startup": false,
      "wait_interval": 0
     },
     "base_uri": "https://localhost:8080/",
     "height": 69
    },
    "colab_type": "code",
    "executionInfo": {
     "elapsed": 813,
     "status": "ok",
     "timestamp": 1527785536140,
     "user": {
      "displayName": "Gonzalo Zigaran",
      "photoUrl": "//lh4.googleusercontent.com/-BEu2HQbYbOY/AAAAAAAAAAI/AAAAAAAAAxo/mIlwA_iVLvY/s50-c-k-no/photo.jpg",
      "userId": "113725472126978143740"
     },
     "user_tz": 180
    },
    "id": "T-29TH_FHFz9",
    "outputId": "e67de756-4eab-4de6-ec1b-cfec8737c0b5"
   },
   "outputs": [
    {
     "data": {
      "text/plain": [
       "Record ID\n",
       "1445614266773   2019-03-02\n",
       "Name: Current_Status_Date, dtype: datetime64[ns]"
      ]
     },
     "execution_count": 37,
     "metadata": {},
     "output_type": "execute_result"
    }
   ],
   "source": [
    "data[data.Current_Status_Date > datetime.datetime(2019,1,1)].Current_Status_Date"
   ]
  },
  {
   "cell_type": "markdown",
   "metadata": {
    "colab_type": "text",
    "id": "dx8n0hm1HS2V"
   },
   "source": [
    "Hay una sóla entrada con fecha de cambio de estado en el 2 de marzo del 2019, claramente está mal cargado este valor. \n",
    "\n",
    " Con este mismo criterio vamos a revisar que las otras variables de fechas, que sean fechas que ya deberían haber pasado, ya hayan pasado."
   ]
  },
  {
   "cell_type": "code",
   "execution_count": 38,
   "metadata": {
    "colab": {
     "autoexec": {
      "startup": false,
      "wait_interval": 0
     },
     "base_uri": "https://localhost:8080/",
     "height": 231
    },
    "colab_type": "code",
    "executionInfo": {
     "elapsed": 804,
     "status": "ok",
     "timestamp": 1527785749922,
     "user": {
      "displayName": "Gonzalo Zigaran",
      "photoUrl": "//lh4.googleusercontent.com/-BEu2HQbYbOY/AAAAAAAAAAI/AAAAAAAAAxo/mIlwA_iVLvY/s50-c-k-no/photo.jpg",
      "userId": "113725472126978143740"
     },
     "user_tz": 180
    },
    "id": "Je_gyy2BHi-G",
    "outputId": "5e41d93a-0e11-40c4-91b1-96f65225fff5"
   },
   "outputs": [
    {
     "data": {
      "text/html": [
       "<div>\n",
       "<style scoped>\n",
       "    .dataframe tbody tr th:only-of-type {\n",
       "        vertical-align: middle;\n",
       "    }\n",
       "\n",
       "    .dataframe tbody tr th {\n",
       "        vertical-align: top;\n",
       "    }\n",
       "\n",
       "    .dataframe thead th {\n",
       "        text-align: right;\n",
       "    }\n",
       "</style>\n",
       "<table border=\"1\" class=\"dataframe\">\n",
       "  <thead>\n",
       "    <tr style=\"text-align: right;\">\n",
       "      <th></th>\n",
       "      <th>Permit_Number</th>\n",
       "      <th>Permit_Type</th>\n",
       "      <th>Permit_Type_Definition</th>\n",
       "      <th>Permit_Creation_Date</th>\n",
       "      <th>Block</th>\n",
       "      <th>Lot</th>\n",
       "      <th>Street_Number</th>\n",
       "      <th>Street_Name</th>\n",
       "      <th>Street_Suffix</th>\n",
       "      <th>Description</th>\n",
       "      <th>...</th>\n",
       "      <th>Proposed_Units</th>\n",
       "      <th>Plansets</th>\n",
       "      <th>Existing_Construction_Type</th>\n",
       "      <th>Existing_Construction_Type_Description</th>\n",
       "      <th>Proposed_Construction_Type</th>\n",
       "      <th>Proposed_Construction_Type_Description</th>\n",
       "      <th>Supervisor_District</th>\n",
       "      <th>Neighborhoods_Analysis_Boundaries</th>\n",
       "      <th>Zipcode</th>\n",
       "      <th>Location</th>\n",
       "    </tr>\n",
       "    <tr>\n",
       "      <th>Record ID</th>\n",
       "      <th></th>\n",
       "      <th></th>\n",
       "      <th></th>\n",
       "      <th></th>\n",
       "      <th></th>\n",
       "      <th></th>\n",
       "      <th></th>\n",
       "      <th></th>\n",
       "      <th></th>\n",
       "      <th></th>\n",
       "      <th></th>\n",
       "      <th></th>\n",
       "      <th></th>\n",
       "      <th></th>\n",
       "      <th></th>\n",
       "      <th></th>\n",
       "      <th></th>\n",
       "      <th></th>\n",
       "      <th></th>\n",
       "      <th></th>\n",
       "      <th></th>\n",
       "    </tr>\n",
       "  </thead>\n",
       "  <tbody>\n",
       "    <tr>\n",
       "      <th>1445614266773</th>\n",
       "      <td>201611293622</td>\n",
       "      <td>8</td>\n",
       "      <td>otc alterations permit</td>\n",
       "      <td>2016-11-29</td>\n",
       "      <td>0480</td>\n",
       "      <td>005D</td>\n",
       "      <td>1391</td>\n",
       "      <td>e355ec3b68d0fffc37d181f2da9d2fa3</td>\n",
       "      <td>St</td>\n",
       "      <td>kitchen: reface cabinets, new sinks, faucet an...</td>\n",
       "      <td>...</td>\n",
       "      <td>4.0</td>\n",
       "      <td>0.0</td>\n",
       "      <td>5.0</td>\n",
       "      <td>wood frame (5)</td>\n",
       "      <td>5.0</td>\n",
       "      <td>wood frame (5)</td>\n",
       "      <td>2.0</td>\n",
       "      <td>Marina</td>\n",
       "      <td>94123.0</td>\n",
       "      <td>(37.8027068754614, -122.42787541667516)</td>\n",
       "    </tr>\n",
       "  </tbody>\n",
       "</table>\n",
       "<p>1 rows × 34 columns</p>\n",
       "</div>"
      ],
      "text/plain": [
       "              Permit_Number  Permit_Type  Permit_Type_Definition  \\\n",
       "Record ID                                                          \n",
       "1445614266773  201611293622            8  otc alterations permit   \n",
       "\n",
       "              Permit_Creation_Date Block   Lot  Street_Number  \\\n",
       "Record ID                                                       \n",
       "1445614266773           2016-11-29  0480  005D           1391   \n",
       "\n",
       "                                    Street_Name Street_Suffix  \\\n",
       "Record ID                                                       \n",
       "1445614266773  e355ec3b68d0fffc37d181f2da9d2fa3            St   \n",
       "\n",
       "                                                     Description  \\\n",
       "Record ID                                                          \n",
       "1445614266773  kitchen: reface cabinets, new sinks, faucet an...   \n",
       "\n",
       "                                ...                     Proposed_Units  \\\n",
       "Record ID                       ...                                      \n",
       "1445614266773                   ...                                4.0   \n",
       "\n",
       "              Plansets Existing_Construction_Type  \\\n",
       "Record ID                                           \n",
       "1445614266773      0.0                        5.0   \n",
       "\n",
       "              Existing_Construction_Type_Description  \\\n",
       "Record ID                                              \n",
       "1445614266773                         wood frame (5)   \n",
       "\n",
       "              Proposed_Construction_Type  \\\n",
       "Record ID                                  \n",
       "1445614266773                        5.0   \n",
       "\n",
       "              Proposed_Construction_Type_Description  Supervisor_District  \\\n",
       "Record ID                                                                   \n",
       "1445614266773                         wood frame (5)                  2.0   \n",
       "\n",
       "               Neighborhoods_Analysis_Boundaries  Zipcode  \\\n",
       "Record ID                                                   \n",
       "1445614266773                             Marina  94123.0   \n",
       "\n",
       "                                              Location  \n",
       "Record ID                                               \n",
       "1445614266773  (37.8027068754614, -122.42787541667516)  \n",
       "\n",
       "[1 rows x 34 columns]"
      ]
     },
     "execution_count": 38,
     "metadata": {},
     "output_type": "execute_result"
    }
   ],
   "source": [
    "outliers = data[(data.Current_Status_Date > datetime.datetime.now()) | \n",
    "                (data.Permit_Creation_Date > datetime.datetime.now()) |\n",
    "                (data.Filed_Date > datetime.datetime.now()) |\n",
    "                (data.Completed_Date > datetime.datetime.now()) | \n",
    "                (data.First_Construction_Document_Date > datetime.datetime.now()) | \n",
    "                (data.Issued_Date > datetime.datetime.now())]\n",
    "outliers"
   ]
  },
  {
   "cell_type": "markdown",
   "metadata": {
    "colab_type": "text",
    "id": "1LgeLYMWIZrG"
   },
   "source": [
    "Sigue siendo ese único caso, por lo que vamos a eliminar esa entrada."
   ]
  },
  {
   "cell_type": "code",
   "execution_count": 39,
   "metadata": {
    "colab": {
     "autoexec": {
      "startup": false,
      "wait_interval": 0
     }
    },
    "colab_type": "code",
    "id": "Qs8x1eq1Id8c"
   },
   "outputs": [],
   "source": [
    "data.drop(outliers.index, inplace=True)"
   ]
  },
  {
   "cell_type": "markdown",
   "metadata": {
    "colab_type": "text",
    "id": "Q2QglmjZmQSA"
   },
   "source": [
    "### 2.7. Evaluar cómo comprimir los datos para su almacenamiento más eficiente\n",
    "\n",
    "Con el tamaño que tiene el dataset no se justifica pensar en comprimirlo. "
   ]
  },
  {
   "cell_type": "markdown",
   "metadata": {
    "colab_type": "text",
    "id": "NZApK2WqmQc7"
   },
   "source": [
    "### 2.8. Guardar el set de datos con un nombre informativo"
   ]
  },
  {
   "cell_type": "code",
   "execution_count": 40,
   "metadata": {
    "colab": {
     "autoexec": {
      "startup": false,
      "wait_interval": 0
     }
    },
    "colab_type": "code",
    "id": "nfEc-Jcul4Fj"
   },
   "outputs": [],
   "source": [
    "data.to_csv('data/Building_Permits_proc_2.csv')"
   ]
  },
  {
   "cell_type": "markdown",
   "metadata": {
    "colab_type": "text",
    "id": "6YpJL8KaI9vw"
   },
   "source": [
    "## 3. Pasos Deseables"
   ]
  },
  {
   "cell_type": "markdown",
   "metadata": {
    "colab_type": "text",
    "id": "VKiUwxnbJAmU"
   },
   "source": [
    "### 3.1. Ordenar variables/columnas si es posible – primero ID, luego en el mismo orden que la fuente\n",
    "\n",
    "En todo este proceso no hemos modificado el orden que traían las columnas, sólo se eliminaron algunas y se puso en primer lugar la columna que se utilizó como ID."
   ]
  },
  {
   "cell_type": "markdown",
   "metadata": {
    "colab_type": "text",
    "id": "NeX7zbLvJA5Z"
   },
   "source": [
    "### 3.2. Quitar variables/columnas que no tienen información a analizar\n",
    "\n",
    "Si bien en el proceso ya se eliminaron columnas con el fin de este criterio, aún se pueden quitar más variables que no aportan información extra. Por ejemplo la columna *Permit_Type_Definition*, que solamente agrega una descripción del tipo de permiso definido en *Permit_Type*, por lo que es información duplicada.\n",
    "\n",
    "El mismo caso se encuentra entre las columnas *Existing_Construction_Type_Description* y *Existing_Construction_Type* y entre *Proposed_Construction_Type_Description* y *Proposed_Construction_Type*."
   ]
  },
  {
   "cell_type": "code",
   "execution_count": 41,
   "metadata": {
    "colab": {
     "autoexec": {
      "startup": false,
      "wait_interval": 0
     }
    },
    "colab_type": "code",
    "id": "z6J8WVUPKGFe"
   },
   "outputs": [],
   "source": [
    "data.drop(['Permit_Type_Definition', \n",
    "           'Existing_Construction_Type_Description', \n",
    "           'Proposed_Construction_Type_Description'], \n",
    "          axis=1, \n",
    "          inplace=True)"
   ]
  },
  {
   "cell_type": "markdown",
   "metadata": {
    "colab_type": "text",
    "id": "XDL_AKDrJBFx"
   },
   "source": [
    "### 3.3. Renombrar variables de grillas\n",
    "\n",
    "No se aplica a este caso."
   ]
  },
  {
   "cell_type": "markdown",
   "metadata": {
    "colab_type": "text",
    "id": "qwF68R3QJBOB"
   },
   "source": [
    "### 3.4. Categorizar resultados en “Otros”\n",
    "*Si tiene un campo de texto libre asociado, codificar en nuevos valores de la variable categórica asociada. Revisar fuzzyness.*\n",
    "\n",
    "En este dataset no se encuentran variables de este tipo."
   ]
  },
  {
   "cell_type": "markdown",
   "metadata": {
    "colab_type": "text",
    "id": "H15FsgMTJBWy"
   },
   "source": [
    "### 3.5. Agregar metadata a los datos: cuando y como fueron obtenidos, limpieza realizada, asunciones, etc.\n",
    "*Vincular con etiquetas del código fuente y los datos. Al menos incluir un README.*"
   ]
  },
  {
   "cell_type": "markdown",
   "metadata": {
    "colab_type": "text",
    "id": "N67bQ9bVMiCH"
   },
   "source": [
    "Variable | Descripción | Tipo \n",
    "--- |---|---\n",
    "Record_ID | Id del registro | Numeric\n",
    "Permit_Number | Numero asignado cuando se cargó la solicitud | String\n",
    "Permit_Type | Tipo del permiso, representado numericamente | Numeric\n",
    "Permit_Creation_Date | Fecha en que se creó el permiso | DateTime\n",
    "Block | Variable referida a la dirección | String\n",
    "Lot | Variable referida a la dirección | String\n",
    "Street_Number | Variable referida a la dirección | Numeric\n",
    "Street_Name | Variable referida a la dirección | String\n",
    "Street_Suffix | Variable referida a la dirección | String\n",
    "Description | Detalles del propósito del permiso | String\n",
    "Current_Status | Estado actual de la solicitud | Numeric\n",
    "Current_Status_Date | Fecha de actualización del estado actual | DateTime\n",
    "Filed_Date | Fecha de presentación del permiso | DateTime\n",
    "Issued_Date | Fecha de emisión del permiso | DateTime\n",
    "Complated_Date | Fecha de cuando el proyecto fue completado | DateTime\n",
    "First_Construction_Document_Date | Fecha de cuando fue documentado la construcción | DateTime\n",
    "Number_of_Existing_Stories | Número de historias existentes en el edificio | Numeric\n",
    "Number_of_Proposed_Stories | Número de historias propuestas para la construcción / alteración | Numeric\n",
    "Permit_Expiration_Date | Fecha de expiración del permiso | DateTime\n",
    "Estimate_Cost | Estimación inicial del costo del proyecto | Numeric\n",
    "Revised_Cost | Estimación revisada del costo del proyecto | Numeric\n",
    "Existing_Use | Uso del edificio | String\n",
    "Existing_Units | Número de unidades existentes| Numeric\n",
    "Proposed_Use | Uso propuesto del edificio | String\n",
    "Proposed_Units | Número de unidades propuestas | Numeric\n",
    "Plansets | Representación del plan que indica el diseño general (intención de la fundación) | String\n",
    "Existing_Construction_Type | Tipo de construcción existente | String\n",
    "Proposed_Construction_Type | Tipo de construcción propuesto | String\n",
    "Supervisor_District | Supervisor del distrito al que pertenece la ubicación del edificio | String\n",
    "Neighborhoods_Analysis_Boundaries | Barrio al que pertenece la ubicación del edificio | String\n",
    "Zipcode | Código postal de la dirección del edificio | Numerc\n",
    "Location | Par de Latitud y Longitud de la ubicación | String\n"
   ]
  },
  {
   "cell_type": "code",
   "execution_count": 42,
   "metadata": {
    "colab": {
     "autoexec": {
      "startup": false,
      "wait_interval": 0
     }
    },
    "colab_type": "code",
    "id": "9Tr_9iFwIr0P"
   },
   "outputs": [],
   "source": [
    "data.to_csv('data/Building_Permits_final.csv')"
   ]
  },
  {
   "cell_type": "code",
   "execution_count": null,
   "metadata": {},
   "outputs": [],
   "source": []
  }
 ],
 "metadata": {
  "accelerator": "GPU",
  "colab": {
   "collapsed_sections": [],
   "default_view": {},
   "name": "Laboratorio Clase 4.ipynb",
   "provenance": [],
   "version": "0.3.2",
   "views": {}
  },
  "kernelspec": {
   "display_name": "Python 3",
   "language": "python",
   "name": "python3"
  },
  "language_info": {
   "codemirror_mode": {
    "name": "ipython",
    "version": 3
   },
   "file_extension": ".py",
   "mimetype": "text/x-python",
   "name": "python",
   "nbconvert_exporter": "python",
   "pygments_lexer": "ipython3",
   "version": "3.6.5"
  }
 },
 "nbformat": 4,
 "nbformat_minor": 1
}
