{
 "cells": [
  {
   "cell_type": "markdown",
   "metadata": {},
   "source": [
    "# Laboratorio 2: Sistemas de Recomendación\n",
    "\n",
    "> **Aprendizaje NO Supervisado** - *Diplomatura en Ciencias de Datos, Aprendizaje Automático y sus aplicaciones.* \n",
    "\n",
    "> Gonzalo Zigarán\n",
    "\n",
    "El objetivo de este laboratorio es crear un sistema de recomendación de peliculas a partir del contenido, es decir de información propia de cada pelicula y similitud con otras. \n",
    "\n",
    "Para ello se va a trabajar con el dataset de [MovieLens](https://grouplens.org/datasets/movielens/), en particular se va a utilizar el ``MovieLens 10M Dataset``. Al tratarse de una recomendación sobre el contenido, sólo se va a utilizar el set de las películas (``movies.dat``)\n",
    "\n",
    "Los pasos que se van a realizar en este laboratorio son los siguientes:\n",
    "\n",
    " 1. Exploración del dataset: observar las variables que trae y transformarlas a un formato útil para el análisis.\n",
    " 1. Análisis de los géneros de las películas, ver cuantos son y como es la distribución de cada uno.\n",
    " 1. Construir un vectorizador para representar los géneros de una película\n",
    " 1. Calcular la similitud entre películas a partir de la vectorización de su género.\n",
    " 1. A partir de una película dada, encontrar las películas más similares."
   ]
  },
  {
   "cell_type": "code",
   "execution_count": 2,
   "metadata": {},
   "outputs": [],
   "source": [
    "%matplotlib inline \n",
    "import pandas as pd\n",
    "import numpy as np\n",
    "np.random.seed(123)\n",
    "import warnings\n",
    "warnings.filterwarnings('ignore')"
   ]
  },
  {
   "cell_type": "code",
   "execution_count": 3,
   "metadata": {},
   "outputs": [
    {
     "data": {
      "text/plain": [
       "10681"
      ]
     },
     "metadata": {},
     "output_type": "display_data"
    },
    {
     "data": {
      "text/html": [
       "<div>\n",
       "<style scoped>\n",
       "    .dataframe tbody tr th:only-of-type {\n",
       "        vertical-align: middle;\n",
       "    }\n",
       "\n",
       "    .dataframe tbody tr th {\n",
       "        vertical-align: top;\n",
       "    }\n",
       "\n",
       "    .dataframe thead th {\n",
       "        text-align: right;\n",
       "    }\n",
       "</style>\n",
       "<table border=\"1\" class=\"dataframe\">\n",
       "  <thead>\n",
       "    <tr style=\"text-align: right;\">\n",
       "      <th></th>\n",
       "      <th>id</th>\n",
       "      <th>titulo</th>\n",
       "      <th>genero</th>\n",
       "    </tr>\n",
       "  </thead>\n",
       "  <tbody>\n",
       "    <tr>\n",
       "      <th>8814</th>\n",
       "      <td>31040</td>\n",
       "      <td>Distant Thunder (1988)</td>\n",
       "      <td>Drama</td>\n",
       "    </tr>\n",
       "    <tr>\n",
       "      <th>5634</th>\n",
       "      <td>5732</td>\n",
       "      <td>Eye of the Needle (1981)</td>\n",
       "      <td>Thriller</td>\n",
       "    </tr>\n",
       "    <tr>\n",
       "      <th>8286</th>\n",
       "      <td>8990</td>\n",
       "      <td>Delicate Delinquent, The (1957)</td>\n",
       "      <td>Comedy</td>\n",
       "    </tr>\n",
       "    <tr>\n",
       "      <th>3158</th>\n",
       "      <td>3243</td>\n",
       "      <td>Encino Man (1992)</td>\n",
       "      <td>Comedy</td>\n",
       "    </tr>\n",
       "    <tr>\n",
       "      <th>7821</th>\n",
       "      <td>8483</td>\n",
       "      <td>Born Losers, The (1967)</td>\n",
       "      <td>Action|Drama|Thriller</td>\n",
       "    </tr>\n",
       "  </tbody>\n",
       "</table>\n",
       "</div>"
      ],
      "text/plain": [
       "         id                           titulo                 genero\n",
       "8814  31040           Distant Thunder (1988)                  Drama\n",
       "5634   5732         Eye of the Needle (1981)               Thriller\n",
       "8286   8990  Delicate Delinquent, The (1957)                 Comedy\n",
       "3158   3243                Encino Man (1992)                 Comedy\n",
       "7821   8483          Born Losers, The (1967)  Action|Drama|Thriller"
      ]
     },
     "metadata": {},
     "output_type": "display_data"
    }
   ],
   "source": [
    "movies = pd.read_csv('data/movies.dat', sep=\"::\", names=['id', 'titulo', 'genero'])\n",
    "display(len(movies))\n",
    "display(movies.sample(5))"
   ]
  },
  {
   "cell_type": "markdown",
   "metadata": {},
   "source": [
    "Podemos ver que el dataset cuenta con un ``id`` de identificación, el ``titulo`` de la película y en la columna ``genero``, el género de la película y en caso de tener más de uno, están separados por ``|``. Por lo que para cualquier análisis, algo necesario es transformar esa columna en algo más útil."
   ]
  },
  {
   "cell_type": "code",
   "execution_count": 4,
   "metadata": {},
   "outputs": [
    {
     "data": {
      "text/html": [
       "<div>\n",
       "<style scoped>\n",
       "    .dataframe tbody tr th:only-of-type {\n",
       "        vertical-align: middle;\n",
       "    }\n",
       "\n",
       "    .dataframe tbody tr th {\n",
       "        vertical-align: top;\n",
       "    }\n",
       "\n",
       "    .dataframe thead th {\n",
       "        text-align: right;\n",
       "    }\n",
       "</style>\n",
       "<table border=\"1\" class=\"dataframe\">\n",
       "  <thead>\n",
       "    <tr style=\"text-align: right;\">\n",
       "      <th></th>\n",
       "      <th>id</th>\n",
       "      <th>titulo</th>\n",
       "      <th>genero</th>\n",
       "    </tr>\n",
       "  </thead>\n",
       "  <tbody>\n",
       "    <tr>\n",
       "      <th>4100</th>\n",
       "      <td>4192</td>\n",
       "      <td>Demetrius and the Gladiators (1954)</td>\n",
       "      <td>[Drama]</td>\n",
       "    </tr>\n",
       "    <tr>\n",
       "      <th>2339</th>\n",
       "      <td>2423</td>\n",
       "      <td>Christmas Vacation (1989)</td>\n",
       "      <td>[Comedy]</td>\n",
       "    </tr>\n",
       "    <tr>\n",
       "      <th>7643</th>\n",
       "      <td>8125</td>\n",
       "      <td>Sunrise: A Song of Two Humans (1927)</td>\n",
       "      <td>[Drama, Romance]</td>\n",
       "    </tr>\n",
       "    <tr>\n",
       "      <th>4795</th>\n",
       "      <td>4889</td>\n",
       "      <td>Heist (2001)</td>\n",
       "      <td>[Crime, Drama]</td>\n",
       "    </tr>\n",
       "    <tr>\n",
       "      <th>963</th>\n",
       "      <td>981</td>\n",
       "      <td>Dangerous Ground (1997)</td>\n",
       "      <td>[Drama]</td>\n",
       "    </tr>\n",
       "  </tbody>\n",
       "</table>\n",
       "</div>"
      ],
      "text/plain": [
       "        id                                titulo            genero\n",
       "4100  4192   Demetrius and the Gladiators (1954)           [Drama]\n",
       "2339  2423             Christmas Vacation (1989)          [Comedy]\n",
       "7643  8125  Sunrise: A Song of Two Humans (1927)  [Drama, Romance]\n",
       "4795  4889                          Heist (2001)    [Crime, Drama]\n",
       "963    981               Dangerous Ground (1997)           [Drama]"
      ]
     },
     "execution_count": 4,
     "metadata": {},
     "output_type": "execute_result"
    }
   ],
   "source": [
    "movies.genero = movies.genero.str.split('|')\n",
    "movies.sample(5)"
   ]
  },
  {
   "cell_type": "markdown",
   "metadata": {},
   "source": [
    "Ahora para cada película se cuenta con una lista de generos."
   ]
  },
  {
   "cell_type": "code",
   "execution_count": 5,
   "metadata": {},
   "outputs": [
    {
     "data": {
      "text/plain": [
       "{'(no genres listed)',\n",
       " 'Action',\n",
       " 'Adventure',\n",
       " 'Animation',\n",
       " 'Children',\n",
       " 'Comedy',\n",
       " 'Crime',\n",
       " 'Documentary',\n",
       " 'Drama',\n",
       " 'Fantasy',\n",
       " 'Film-Noir',\n",
       " 'Horror',\n",
       " 'IMAX',\n",
       " 'Musical',\n",
       " 'Mystery',\n",
       " 'Romance',\n",
       " 'Sci-Fi',\n",
       " 'Thriller',\n",
       " 'War',\n",
       " 'Western'}"
      ]
     },
     "execution_count": 5,
     "metadata": {},
     "output_type": "execute_result"
    }
   ],
   "source": [
    "generos_set = [genero for p in movies.genero for genero in p]\n",
    "generos_set = set(generos_set)\n",
    "generos_set"
   ]
  },
  {
   "cell_type": "code",
   "execution_count": 6,
   "metadata": {},
   "outputs": [],
   "source": [
    "generos = pd.DataFrame(columns=['genero', 'cantidad']).set_index('genero')\n",
    "for gen in generos_set:\n",
    "    generos.loc[gen] = len([p for p in movies.iterrows() if gen in p[1].genero])"
   ]
  },
  {
   "cell_type": "code",
   "execution_count": 7,
   "metadata": {},
   "outputs": [
    {
     "data": {
      "text/html": [
       "<div>\n",
       "<style scoped>\n",
       "    .dataframe tbody tr th:only-of-type {\n",
       "        vertical-align: middle;\n",
       "    }\n",
       "\n",
       "    .dataframe tbody tr th {\n",
       "        vertical-align: top;\n",
       "    }\n",
       "\n",
       "    .dataframe thead th {\n",
       "        text-align: right;\n",
       "    }\n",
       "</style>\n",
       "<table border=\"1\" class=\"dataframe\">\n",
       "  <thead>\n",
       "    <tr style=\"text-align: right;\">\n",
       "      <th></th>\n",
       "      <th>cantidad</th>\n",
       "    </tr>\n",
       "    <tr>\n",
       "      <th>genero</th>\n",
       "      <th></th>\n",
       "    </tr>\n",
       "  </thead>\n",
       "  <tbody>\n",
       "    <tr>\n",
       "      <th>Drama</th>\n",
       "      <td>5339</td>\n",
       "    </tr>\n",
       "    <tr>\n",
       "      <th>Comedy</th>\n",
       "      <td>3703</td>\n",
       "    </tr>\n",
       "    <tr>\n",
       "      <th>Thriller</th>\n",
       "      <td>1706</td>\n",
       "    </tr>\n",
       "    <tr>\n",
       "      <th>Romance</th>\n",
       "      <td>1685</td>\n",
       "    </tr>\n",
       "    <tr>\n",
       "      <th>Action</th>\n",
       "      <td>1473</td>\n",
       "    </tr>\n",
       "    <tr>\n",
       "      <th>Crime</th>\n",
       "      <td>1118</td>\n",
       "    </tr>\n",
       "    <tr>\n",
       "      <th>Adventure</th>\n",
       "      <td>1025</td>\n",
       "    </tr>\n",
       "    <tr>\n",
       "      <th>Horror</th>\n",
       "      <td>1013</td>\n",
       "    </tr>\n",
       "    <tr>\n",
       "      <th>Sci-Fi</th>\n",
       "      <td>754</td>\n",
       "    </tr>\n",
       "    <tr>\n",
       "      <th>Fantasy</th>\n",
       "      <td>543</td>\n",
       "    </tr>\n",
       "    <tr>\n",
       "      <th>Children</th>\n",
       "      <td>528</td>\n",
       "    </tr>\n",
       "    <tr>\n",
       "      <th>War</th>\n",
       "      <td>511</td>\n",
       "    </tr>\n",
       "    <tr>\n",
       "      <th>Mystery</th>\n",
       "      <td>509</td>\n",
       "    </tr>\n",
       "    <tr>\n",
       "      <th>Documentary</th>\n",
       "      <td>482</td>\n",
       "    </tr>\n",
       "    <tr>\n",
       "      <th>Musical</th>\n",
       "      <td>436</td>\n",
       "    </tr>\n",
       "    <tr>\n",
       "      <th>Animation</th>\n",
       "      <td>286</td>\n",
       "    </tr>\n",
       "    <tr>\n",
       "      <th>Western</th>\n",
       "      <td>275</td>\n",
       "    </tr>\n",
       "    <tr>\n",
       "      <th>Film-Noir</th>\n",
       "      <td>148</td>\n",
       "    </tr>\n",
       "    <tr>\n",
       "      <th>IMAX</th>\n",
       "      <td>29</td>\n",
       "    </tr>\n",
       "    <tr>\n",
       "      <th>(no genres listed)</th>\n",
       "      <td>1</td>\n",
       "    </tr>\n",
       "  </tbody>\n",
       "</table>\n",
       "</div>"
      ],
      "text/plain": [
       "                   cantidad\n",
       "genero                     \n",
       "Drama                  5339\n",
       "Comedy                 3703\n",
       "Thriller               1706\n",
       "Romance                1685\n",
       "Action                 1473\n",
       "Crime                  1118\n",
       "Adventure              1025\n",
       "Horror                 1013\n",
       "Sci-Fi                  754\n",
       "Fantasy                 543\n",
       "Children                528\n",
       "War                     511\n",
       "Mystery                 509\n",
       "Documentary             482\n",
       "Musical                 436\n",
       "Animation               286\n",
       "Western                 275\n",
       "Film-Noir               148\n",
       "IMAX                     29\n",
       "(no genres listed)        1"
      ]
     },
     "execution_count": 7,
     "metadata": {},
     "output_type": "execute_result"
    }
   ],
   "source": [
    "generos = generos.sort_values(['cantidad'], ascending=False)\n",
    "generos"
   ]
  },
  {
   "cell_type": "code",
   "execution_count": 8,
   "metadata": {},
   "outputs": [
    {
     "data": {
      "text/plain": [
       "<matplotlib.axes._subplots.AxesSubplot at 0x7fc74a850358>"
      ]
     },
     "execution_count": 8,
     "metadata": {},
     "output_type": "execute_result"
    },
    {
     "data": {
      "image/png": "[encoded data removed]",
      "text/plain": [
       "<Figure size 1152x576 with 1 Axes>"
      ]
     },
     "metadata": {},
     "output_type": "display_data"
    }
   ],
   "source": [
    "generos.plot(kind='bar', figsize=(16,8))"
   ]
  },
  {
   "cell_type": "markdown",
   "metadata": {},
   "source": [
    "Podemos ver que los géneros mayoritarios son Drama y Comedia, que tiene más del dobel de la cantidad de cualquier otro género. Además hay una película a la que no se le asigno ningún genero, pero la frase que se uso puede introducir ruido al analisis."
   ]
  },
  {
   "cell_type": "code",
   "execution_count": 9,
   "metadata": {},
   "outputs": [
    {
     "data": {
      "text/html": [
       "<div>\n",
       "<style scoped>\n",
       "    .dataframe tbody tr th:only-of-type {\n",
       "        vertical-align: middle;\n",
       "    }\n",
       "\n",
       "    .dataframe tbody tr th {\n",
       "        vertical-align: top;\n",
       "    }\n",
       "\n",
       "    .dataframe thead th {\n",
       "        text-align: right;\n",
       "    }\n",
       "</style>\n",
       "<table border=\"1\" class=\"dataframe\">\n",
       "  <thead>\n",
       "    <tr style=\"text-align: right;\">\n",
       "      <th></th>\n",
       "      <th>id</th>\n",
       "      <th>titulo</th>\n",
       "      <th>genero</th>\n",
       "    </tr>\n",
       "  </thead>\n",
       "  <tbody>\n",
       "    <tr>\n",
       "      <th>7903</th>\n",
       "      <td>8606</td>\n",
       "      <td>Pull My Daisy (1958)</td>\n",
       "      <td>[(no genres listed)]</td>\n",
       "    </tr>\n",
       "  </tbody>\n",
       "</table>\n",
       "</div>"
      ],
      "text/plain": [
       "        id                titulo                genero\n",
       "7903  8606  Pull My Daisy (1958)  [(no genres listed)]"
      ]
     },
     "execution_count": 9,
     "metadata": {},
     "output_type": "execute_result"
    }
   ],
   "source": [
    "movies[movies.genero.apply(lambda x: '(no genres listed)' in x)]"
   ]
  },
  {
   "cell_type": "code",
   "execution_count": 10,
   "metadata": {},
   "outputs": [],
   "source": [
    "movies.loc[7903, 'genero'] = '[]'"
   ]
  },
  {
   "cell_type": "code",
   "execution_count": 11,
   "metadata": {},
   "outputs": [
    {
     "data": {
      "text/plain": [
       "id                        8606\n",
       "titulo    Pull My Daisy (1958)\n",
       "genero                      []\n",
       "Name: 7903, dtype: object"
      ]
     },
     "execution_count": 11,
     "metadata": {},
     "output_type": "execute_result"
    }
   ],
   "source": [
    "movies.loc[7903]"
   ]
  },
  {
   "cell_type": "markdown",
   "metadata": {},
   "source": [
    "A paritr de cada película y de los géneros que tiene esa película, vamos a construir un sistema de recomendación basado en contenido en donde el primer paso es vectorizar los generos, para luego comparar y calcular la similitud con esos vectores."
   ]
  },
  {
   "cell_type": "code",
   "execution_count": 12,
   "metadata": {},
   "outputs": [
    {
     "data": {
      "text/plain": [
       "(10681, 170)"
      ]
     },
     "execution_count": 12,
     "metadata": {},
     "output_type": "execute_result"
    }
   ],
   "source": [
    "from sklearn.feature_extraction.text import TfidfVectorizer\n",
    "tf = TfidfVectorizer(analyzer='word', ngram_range=(1, 2), min_df=0)\n",
    "tfidf_matrix = tf.fit_transform(movies.genero.str.join(' '))\n",
    "tfidf_matrix.shape"
   ]
  },
  {
   "cell_type": "markdown",
   "metadata": {},
   "source": [
    "Al utilizar el vectorizador ``TfidfVectorizer`` de ``sklearn.feature_extraction.text`` lo que se hizo fue para cada pélicula que tanto aporta relativamente que contanga un término. En donde término puede ser un género o 2 géneros juntos, al haber seleccionado `` ngram_range=(1, 2)``.\n",
    "\n",
    "Con esto nos queda una matriz de 10681 filas (que se corresponde una a cada película) y 170 columnas, en donde se condensa la información del género, es decir, 10681 vectores de 170 dimensiones."
   ]
  },
  {
   "cell_type": "code",
   "execution_count": 13,
   "metadata": {},
   "outputs": [
    {
     "data": {
      "text/plain": [
       "['action',\n",
       " 'action adventure',\n",
       " 'action animation',\n",
       " 'action children',\n",
       " 'action comedy',\n",
       " 'action crime',\n",
       " 'action drama',\n",
       " 'action fantasy',\n",
       " 'action horror',\n",
       " 'action mystery']"
      ]
     },
     "execution_count": 13,
     "metadata": {},
     "output_type": "execute_result"
    }
   ],
   "source": [
    "tf.get_feature_names()[:10]"
   ]
  },
  {
   "cell_type": "markdown",
   "metadata": {},
   "source": [
    "Para medir la similitud entre 2 vectores, lo que se podría interpretar que tan parecidas son 2 películas, vamos a utilizar la similitud del coseno, que mide el coseno del ángulo que se forma entre los 2 vectores. Mientras más cercano a 1 sea ese número, más parecida va a ser la dirección de estos vectores. Por como se construyeron los vectores de Tfidf, todos tienen norma 1, por lo que calcular el coseno es lo mismo que calcular el producto punto."
   ]
  },
  {
   "cell_type": "code",
   "execution_count": 14,
   "metadata": {},
   "outputs": [
    {
     "data": {
      "text/plain": [
       "array([[1.        , 0.31531565, 0.05845377, 0.05154964, 0.15606579],\n",
       "       [0.31531565, 1.        , 0.        , 0.        , 0.        ],\n",
       "       [0.05845377, 0.        , 1.        , 0.360078  , 0.3745457 ],\n",
       "       [0.05154964, 0.        , 0.360078  , 1.        , 0.33030709],\n",
       "       [0.15606579, 0.        , 0.3745457 , 0.33030709, 1.        ]])"
      ]
     },
     "execution_count": 14,
     "metadata": {},
     "output_type": "execute_result"
    }
   ],
   "source": [
    "from sklearn.metrics.pairwise import linear_kernel\n",
    "cosine_sim = linear_kernel(tfidf_matrix, tfidf_matrix)\n",
    "cosine_sim[:5, :5]"
   ]
  },
  {
   "cell_type": "markdown",
   "metadata": {},
   "source": [
    "En esa matriz simétrica está condensada toda la información de similitud, el valor que está en la posición (i,j) tiene el valor de similitud entre la película i y la película j. Es por eso que en la diagonal está simepre el 1.\n",
    "\n",
    "Para encontrar las películas más parecidas a una en particular sólo habría que ordenar la columna (o fila) que corresponde a esa pel"
   ]
  },
  {
   "cell_type": "code",
   "execution_count": 15,
   "metadata": {},
   "outputs": [],
   "source": [
    "def recomendacion(titulo):\n",
    "    pelicula = movies[movies.titulo == titulo]\n",
    "    orden = np.argsort(cosine_sim[pelicula.index.tolist()[0]])[::-1]\n",
    "    return movies.loc[orden]"
   ]
  },
  {
   "cell_type": "code",
   "execution_count": 16,
   "metadata": {},
   "outputs": [
    {
     "data": {
      "text/html": [
       "<div>\n",
       "<style scoped>\n",
       "    .dataframe tbody tr th:only-of-type {\n",
       "        vertical-align: middle;\n",
       "    }\n",
       "\n",
       "    .dataframe tbody tr th {\n",
       "        vertical-align: top;\n",
       "    }\n",
       "\n",
       "    .dataframe thead th {\n",
       "        text-align: right;\n",
       "    }\n",
       "</style>\n",
       "<table border=\"1\" class=\"dataframe\">\n",
       "  <thead>\n",
       "    <tr style=\"text-align: right;\">\n",
       "      <th></th>\n",
       "      <th>id</th>\n",
       "      <th>titulo</th>\n",
       "      <th>genero</th>\n",
       "    </tr>\n",
       "  </thead>\n",
       "  <tbody>\n",
       "    <tr>\n",
       "      <th>0</th>\n",
       "      <td>1</td>\n",
       "      <td>Toy Story (1995)</td>\n",
       "      <td>[Adventure, Animation, Children, Comedy, Fantasy]</td>\n",
       "    </tr>\n",
       "    <tr>\n",
       "      <th>9895</th>\n",
       "      <td>53121</td>\n",
       "      <td>Shrek the Third (2007)</td>\n",
       "      <td>[Adventure, Animation, Children, Comedy, Fantasy]</td>\n",
       "    </tr>\n",
       "    <tr>\n",
       "      <th>8577</th>\n",
       "      <td>26662</td>\n",
       "      <td>Kiki's Delivery Service (Majo no takkyûbin) (1...</td>\n",
       "      <td>[Adventure, Animation, Children, Comedy, Fantasy]</td>\n",
       "    </tr>\n",
       "    <tr>\n",
       "      <th>3665</th>\n",
       "      <td>3754</td>\n",
       "      <td>Adventures of Rocky and Bullwinkle, The (2000)</td>\n",
       "      <td>[Adventure, Animation, Children, Comedy, Fantasy]</td>\n",
       "    </tr>\n",
       "    <tr>\n",
       "      <th>9500</th>\n",
       "      <td>45074</td>\n",
       "      <td>Wild, The (2006)</td>\n",
       "      <td>[Adventure, Animation, Children, Comedy, Fantasy]</td>\n",
       "    </tr>\n",
       "    <tr>\n",
       "      <th>3924</th>\n",
       "      <td>4016</td>\n",
       "      <td>Emperor's New Groove, The (2000)</td>\n",
       "      <td>[Adventure, Animation, Children, Comedy, Fantasy]</td>\n",
       "    </tr>\n",
       "    <tr>\n",
       "      <th>9584</th>\n",
       "      <td>47124</td>\n",
       "      <td>Ant Bully, The (2006)</td>\n",
       "      <td>[Adventure, Animation, Children, Comedy, Fantasy]</td>\n",
       "    </tr>\n",
       "    <tr>\n",
       "      <th>3029</th>\n",
       "      <td>3114</td>\n",
       "      <td>Toy Story 2 (1999)</td>\n",
       "      <td>[Adventure, Animation, Children, Comedy, Fantasy]</td>\n",
       "    </tr>\n",
       "    <tr>\n",
       "      <th>2210</th>\n",
       "      <td>2294</td>\n",
       "      <td>Antz (1998)</td>\n",
       "      <td>[Adventure, Animation, Children, Comedy, Fantasy]</td>\n",
       "    </tr>\n",
       "    <tr>\n",
       "      <th>9838</th>\n",
       "      <td>51939</td>\n",
       "      <td>TMNT (Teenage Mutant Ninja Turtles) (2007)</td>\n",
       "      <td>[Action, Adventure, Animation, Children, Comed...</td>\n",
       "    </tr>\n",
       "  </tbody>\n",
       "</table>\n",
       "</div>"
      ],
      "text/plain": [
       "         id                                             titulo  \\\n",
       "0         1                                   Toy Story (1995)   \n",
       "9895  53121                             Shrek the Third (2007)   \n",
       "8577  26662  Kiki's Delivery Service (Majo no takkyûbin) (1...   \n",
       "3665   3754     Adventures of Rocky and Bullwinkle, The (2000)   \n",
       "9500  45074                                   Wild, The (2006)   \n",
       "3924   4016                   Emperor's New Groove, The (2000)   \n",
       "9584  47124                              Ant Bully, The (2006)   \n",
       "3029   3114                                 Toy Story 2 (1999)   \n",
       "2210   2294                                        Antz (1998)   \n",
       "9838  51939         TMNT (Teenage Mutant Ninja Turtles) (2007)   \n",
       "\n",
       "                                                 genero  \n",
       "0     [Adventure, Animation, Children, Comedy, Fantasy]  \n",
       "9895  [Adventure, Animation, Children, Comedy, Fantasy]  \n",
       "8577  [Adventure, Animation, Children, Comedy, Fantasy]  \n",
       "3665  [Adventure, Animation, Children, Comedy, Fantasy]  \n",
       "9500  [Adventure, Animation, Children, Comedy, Fantasy]  \n",
       "3924  [Adventure, Animation, Children, Comedy, Fantasy]  \n",
       "9584  [Adventure, Animation, Children, Comedy, Fantasy]  \n",
       "3029  [Adventure, Animation, Children, Comedy, Fantasy]  \n",
       "2210  [Adventure, Animation, Children, Comedy, Fantasy]  \n",
       "9838  [Action, Adventure, Animation, Children, Comed...  "
      ]
     },
     "execution_count": 16,
     "metadata": {},
     "output_type": "execute_result"
    }
   ],
   "source": [
    "recomendacion('Ant Bully, The (2006)')[:10]"
   ]
  },
  {
   "cell_type": "code",
   "execution_count": 17,
   "metadata": {},
   "outputs": [
    {
     "data": {
      "text/html": [
       "<div>\n",
       "<style scoped>\n",
       "    .dataframe tbody tr th:only-of-type {\n",
       "        vertical-align: middle;\n",
       "    }\n",
       "\n",
       "    .dataframe tbody tr th {\n",
       "        vertical-align: top;\n",
       "    }\n",
       "\n",
       "    .dataframe thead th {\n",
       "        text-align: right;\n",
       "    }\n",
       "</style>\n",
       "<table border=\"1\" class=\"dataframe\">\n",
       "  <thead>\n",
       "    <tr style=\"text-align: right;\">\n",
       "      <th></th>\n",
       "      <th>id</th>\n",
       "      <th>titulo</th>\n",
       "      <th>genero</th>\n",
       "    </tr>\n",
       "  </thead>\n",
       "  <tbody>\n",
       "    <tr>\n",
       "      <th>4080</th>\n",
       "      <td>4172</td>\n",
       "      <td>Simon Magus (1999)</td>\n",
       "      <td>[Drama, Fantasy, Mystery, Romance]</td>\n",
       "    </tr>\n",
       "    <tr>\n",
       "      <th>2232</th>\n",
       "      <td>2316</td>\n",
       "      <td>Practical Magic (1998)</td>\n",
       "      <td>[Drama, Fantasy, Mystery, Romance]</td>\n",
       "    </tr>\n",
       "    <tr>\n",
       "      <th>8307</th>\n",
       "      <td>9011</td>\n",
       "      <td>Portrait of Jennie (1948)</td>\n",
       "      <td>[Drama, Fantasy, Mystery, Romance]</td>\n",
       "    </tr>\n",
       "    <tr>\n",
       "      <th>3829</th>\n",
       "      <td>3920</td>\n",
       "      <td>Faraway, So Close (In weiter Ferne, so nah!) (...</td>\n",
       "      <td>[Drama, Fantasy, Mystery, Romance]</td>\n",
       "    </tr>\n",
       "    <tr>\n",
       "      <th>10660</th>\n",
       "      <td>64957</td>\n",
       "      <td>Curious Case of Benjamin Button, The (2008)</td>\n",
       "      <td>[Drama, Fantasy, Mystery, Romance]</td>\n",
       "    </tr>\n",
       "    <tr>\n",
       "      <th>9604</th>\n",
       "      <td>47610</td>\n",
       "      <td>Illusionist, The (2006)</td>\n",
       "      <td>[Drama, Fantasy, Mystery, Romance, Thriller]</td>\n",
       "    </tr>\n",
       "    <tr>\n",
       "      <th>1984</th>\n",
       "      <td>2068</td>\n",
       "      <td>Fanny and Alexander (Fanny och Alexander) (1982)</td>\n",
       "      <td>[Drama, Fantasy, Mystery]</td>\n",
       "    </tr>\n",
       "    <tr>\n",
       "      <th>9536</th>\n",
       "      <td>45730</td>\n",
       "      <td>Lady in the Water (2006)</td>\n",
       "      <td>[Drama, Fantasy, Mystery]</td>\n",
       "    </tr>\n",
       "    <tr>\n",
       "      <th>10614</th>\n",
       "      <td>64275</td>\n",
       "      <td>Blue Light, The (Das Blaue Licht) (1932)</td>\n",
       "      <td>[Drama, Fantasy, Mystery]</td>\n",
       "    </tr>\n",
       "    <tr>\n",
       "      <th>9258</th>\n",
       "      <td>37955</td>\n",
       "      <td>Innocence (2004)</td>\n",
       "      <td>[Drama, Fantasy, Mystery]</td>\n",
       "    </tr>\n",
       "  </tbody>\n",
       "</table>\n",
       "</div>"
      ],
      "text/plain": [
       "          id                                             titulo  \\\n",
       "4080    4172                                 Simon Magus (1999)   \n",
       "2232    2316                             Practical Magic (1998)   \n",
       "8307    9011                          Portrait of Jennie (1948)   \n",
       "3829    3920  Faraway, So Close (In weiter Ferne, so nah!) (...   \n",
       "10660  64957        Curious Case of Benjamin Button, The (2008)   \n",
       "9604   47610                            Illusionist, The (2006)   \n",
       "1984    2068   Fanny and Alexander (Fanny och Alexander) (1982)   \n",
       "9536   45730                           Lady in the Water (2006)   \n",
       "10614  64275           Blue Light, The (Das Blaue Licht) (1932)   \n",
       "9258   37955                                   Innocence (2004)   \n",
       "\n",
       "                                             genero  \n",
       "4080             [Drama, Fantasy, Mystery, Romance]  \n",
       "2232             [Drama, Fantasy, Mystery, Romance]  \n",
       "8307             [Drama, Fantasy, Mystery, Romance]  \n",
       "3829             [Drama, Fantasy, Mystery, Romance]  \n",
       "10660            [Drama, Fantasy, Mystery, Romance]  \n",
       "9604   [Drama, Fantasy, Mystery, Romance, Thriller]  \n",
       "1984                      [Drama, Fantasy, Mystery]  \n",
       "9536                      [Drama, Fantasy, Mystery]  \n",
       "10614                     [Drama, Fantasy, Mystery]  \n",
       "9258                      [Drama, Fantasy, Mystery]  "
      ]
     },
     "execution_count": 17,
     "metadata": {},
     "output_type": "execute_result"
    }
   ],
   "source": [
    "recomendacion('Curious Case of Benjamin Button, The (2008)')[:10]"
   ]
  },
  {
   "cell_type": "code",
   "execution_count": 18,
   "metadata": {},
   "outputs": [
    {
     "data": {
      "text/html": [
       "<div>\n",
       "<style scoped>\n",
       "    .dataframe tbody tr th:only-of-type {\n",
       "        vertical-align: middle;\n",
       "    }\n",
       "\n",
       "    .dataframe tbody tr th {\n",
       "        vertical-align: top;\n",
       "    }\n",
       "\n",
       "    .dataframe thead th {\n",
       "        text-align: right;\n",
       "    }\n",
       "</style>\n",
       "<table border=\"1\" class=\"dataframe\">\n",
       "  <thead>\n",
       "    <tr style=\"text-align: right;\">\n",
       "      <th></th>\n",
       "      <th>id</th>\n",
       "      <th>titulo</th>\n",
       "      <th>genero</th>\n",
       "    </tr>\n",
       "  </thead>\n",
       "  <tbody>\n",
       "    <tr>\n",
       "      <th>8507</th>\n",
       "      <td>26326</td>\n",
       "      <td>Holy Mountain, The (Montaña sagrada, La) (1973)</td>\n",
       "      <td>[Adventure, Comedy, Drama, Fantasy, Mystery, S...</td>\n",
       "    </tr>\n",
       "    <tr>\n",
       "      <th>7009</th>\n",
       "      <td>7123</td>\n",
       "      <td>Naked Lunch (1991)</td>\n",
       "      <td>[Drama, Fantasy, Mystery, Sci-Fi]</td>\n",
       "    </tr>\n",
       "    <tr>\n",
       "      <th>4780</th>\n",
       "      <td>4874</td>\n",
       "      <td>K-PAX (2001)</td>\n",
       "      <td>[Drama, Fantasy, Mystery, Sci-Fi]</td>\n",
       "    </tr>\n",
       "    <tr>\n",
       "      <th>28</th>\n",
       "      <td>29</td>\n",
       "      <td>City of Lost Children, The (Cité des enfants p...</td>\n",
       "      <td>[Adventure, Drama, Fantasy, Mystery, Sci-Fi]</td>\n",
       "    </tr>\n",
       "    <tr>\n",
       "      <th>8677</th>\n",
       "      <td>27537</td>\n",
       "      <td>Nothing (2003)</td>\n",
       "      <td>[Comedy, Fantasy, Mystery, Sci-Fi]</td>\n",
       "    </tr>\n",
       "    <tr>\n",
       "      <th>7917</th>\n",
       "      <td>8620</td>\n",
       "      <td>Exterminating Angel, The (El Ángel exterminado...</td>\n",
       "      <td>[Comedy, Drama, Fantasy, Mystery]</td>\n",
       "    </tr>\n",
       "    <tr>\n",
       "      <th>10516</th>\n",
       "      <td>62764</td>\n",
       "      <td>Black Moon (1975)</td>\n",
       "      <td>[Fantasy, Mystery, Sci-Fi, War]</td>\n",
       "    </tr>\n",
       "    <tr>\n",
       "      <th>9536</th>\n",
       "      <td>45730</td>\n",
       "      <td>Lady in the Water (2006)</td>\n",
       "      <td>[Drama, Fantasy, Mystery]</td>\n",
       "    </tr>\n",
       "    <tr>\n",
       "      <th>10614</th>\n",
       "      <td>64275</td>\n",
       "      <td>Blue Light, The (Das Blaue Licht) (1932)</td>\n",
       "      <td>[Drama, Fantasy, Mystery]</td>\n",
       "    </tr>\n",
       "    <tr>\n",
       "      <th>9258</th>\n",
       "      <td>37955</td>\n",
       "      <td>Innocence (2004)</td>\n",
       "      <td>[Drama, Fantasy, Mystery]</td>\n",
       "    </tr>\n",
       "  </tbody>\n",
       "</table>\n",
       "</div>"
      ],
      "text/plain": [
       "          id                                             titulo  \\\n",
       "8507   26326    Holy Mountain, The (Montaña sagrada, La) (1973)   \n",
       "7009    7123                                 Naked Lunch (1991)   \n",
       "4780    4874                                       K-PAX (2001)   \n",
       "28        29  City of Lost Children, The (Cité des enfants p...   \n",
       "8677   27537                                     Nothing (2003)   \n",
       "7917    8620  Exterminating Angel, The (El Ángel exterminado...   \n",
       "10516  62764                                  Black Moon (1975)   \n",
       "9536   45730                           Lady in the Water (2006)   \n",
       "10614  64275           Blue Light, The (Das Blaue Licht) (1932)   \n",
       "9258   37955                                   Innocence (2004)   \n",
       "\n",
       "                                                  genero  \n",
       "8507   [Adventure, Comedy, Drama, Fantasy, Mystery, S...  \n",
       "7009                   [Drama, Fantasy, Mystery, Sci-Fi]  \n",
       "4780                   [Drama, Fantasy, Mystery, Sci-Fi]  \n",
       "28          [Adventure, Drama, Fantasy, Mystery, Sci-Fi]  \n",
       "8677                  [Comedy, Fantasy, Mystery, Sci-Fi]  \n",
       "7917                   [Comedy, Drama, Fantasy, Mystery]  \n",
       "10516                    [Fantasy, Mystery, Sci-Fi, War]  \n",
       "9536                           [Drama, Fantasy, Mystery]  \n",
       "10614                          [Drama, Fantasy, Mystery]  \n",
       "9258                           [Drama, Fantasy, Mystery]  "
      ]
     },
     "execution_count": 18,
     "metadata": {},
     "output_type": "execute_result"
    }
   ],
   "source": [
    "recomendacion('Holy Mountain, The (Montaña sagrada, La) (1973)')[:10]"
   ]
  },
  {
   "cell_type": "code",
   "execution_count": 19,
   "metadata": {},
   "outputs": [
    {
     "data": {
      "text/html": [
       "<div>\n",
       "<style scoped>\n",
       "    .dataframe tbody tr th:only-of-type {\n",
       "        vertical-align: middle;\n",
       "    }\n",
       "\n",
       "    .dataframe tbody tr th {\n",
       "        vertical-align: top;\n",
       "    }\n",
       "\n",
       "    .dataframe thead th {\n",
       "        text-align: right;\n",
       "    }\n",
       "</style>\n",
       "<table border=\"1\" class=\"dataframe\">\n",
       "  <thead>\n",
       "    <tr style=\"text-align: right;\">\n",
       "      <th></th>\n",
       "      <th>id</th>\n",
       "      <th>titulo</th>\n",
       "      <th>genero</th>\n",
       "    </tr>\n",
       "  </thead>\n",
       "  <tbody>\n",
       "    <tr>\n",
       "      <th>10680</th>\n",
       "      <td>65133</td>\n",
       "      <td>Blackadder Back &amp; Forth (1999)</td>\n",
       "      <td>[Comedy]</td>\n",
       "    </tr>\n",
       "    <tr>\n",
       "      <th>3566</th>\n",
       "      <td>3655</td>\n",
       "      <td>Blow-Out (La Grande Bouffe) (1973)</td>\n",
       "      <td>[Drama]</td>\n",
       "    </tr>\n",
       "    <tr>\n",
       "      <th>3564</th>\n",
       "      <td>3653</td>\n",
       "      <td>Endless Summer, The (1966)</td>\n",
       "      <td>[Documentary]</td>\n",
       "    </tr>\n",
       "    <tr>\n",
       "      <th>3563</th>\n",
       "      <td>3652</td>\n",
       "      <td>City of the Living Dead (Paura nella città dei...</td>\n",
       "      <td>[Horror]</td>\n",
       "    </tr>\n",
       "    <tr>\n",
       "      <th>3562</th>\n",
       "      <td>3651</td>\n",
       "      <td>Blood Spattered Bride, The (La Novia Ensangren...</td>\n",
       "      <td>[Horror]</td>\n",
       "    </tr>\n",
       "    <tr>\n",
       "      <th>3561</th>\n",
       "      <td>3650</td>\n",
       "      <td>Anguish (Angustia) (1987)</td>\n",
       "      <td>[Horror]</td>\n",
       "    </tr>\n",
       "    <tr>\n",
       "      <th>3560</th>\n",
       "      <td>3649</td>\n",
       "      <td>American Gigolo (1980)</td>\n",
       "      <td>[Drama]</td>\n",
       "    </tr>\n",
       "    <tr>\n",
       "      <th>3559</th>\n",
       "      <td>3648</td>\n",
       "      <td>Abominable Snowman, The (1957)</td>\n",
       "      <td>[Horror, Sci-Fi]</td>\n",
       "    </tr>\n",
       "    <tr>\n",
       "      <th>3558</th>\n",
       "      <td>3647</td>\n",
       "      <td>Running Free (1999)</td>\n",
       "      <td>[Adventure, Children, Drama]</td>\n",
       "    </tr>\n",
       "    <tr>\n",
       "      <th>3557</th>\n",
       "      <td>3646</td>\n",
       "      <td>Big Momma's House (2000)</td>\n",
       "      <td>[Comedy]</td>\n",
       "    </tr>\n",
       "  </tbody>\n",
       "</table>\n",
       "</div>"
      ],
      "text/plain": [
       "          id                                             titulo  \\\n",
       "10680  65133                     Blackadder Back & Forth (1999)   \n",
       "3566    3655                 Blow-Out (La Grande Bouffe) (1973)   \n",
       "3564    3653                         Endless Summer, The (1966)   \n",
       "3563    3652  City of the Living Dead (Paura nella città dei...   \n",
       "3562    3651  Blood Spattered Bride, The (La Novia Ensangren...   \n",
       "3561    3650                          Anguish (Angustia) (1987)   \n",
       "3560    3649                             American Gigolo (1980)   \n",
       "3559    3648                     Abominable Snowman, The (1957)   \n",
       "3558    3647                                Running Free (1999)   \n",
       "3557    3646                           Big Momma's House (2000)   \n",
       "\n",
       "                             genero  \n",
       "10680                      [Comedy]  \n",
       "3566                        [Drama]  \n",
       "3564                  [Documentary]  \n",
       "3563                       [Horror]  \n",
       "3562                       [Horror]  \n",
       "3561                       [Horror]  \n",
       "3560                        [Drama]  \n",
       "3559               [Horror, Sci-Fi]  \n",
       "3558   [Adventure, Children, Drama]  \n",
       "3557                       [Comedy]  "
      ]
     },
     "execution_count": 19,
     "metadata": {},
     "output_type": "execute_result"
    }
   ],
   "source": [
    "recomendacion('Pull My Daisy (1958)')[:10]"
   ]
  },
  {
   "cell_type": "code",
   "execution_count": null,
   "metadata": {},
   "outputs": [],
   "source": []
  }
 ],
 "metadata": {
  "kernelspec": {
   "display_name": "Python 3",
   "language": "python",
   "name": "python3"
  },
  "language_info": {
   "codemirror_mode": {
    "name": "ipython",
    "version": 3
   },
   "file_extension": ".py",
   "mimetype": "text/x-python",
   "name": "python",
   "nbconvert_exporter": "python",
   "pygments_lexer": "ipython3",
   "version": "3.6.6"
  }
 },
 "nbformat": 4,
 "nbformat_minor": 2
}
